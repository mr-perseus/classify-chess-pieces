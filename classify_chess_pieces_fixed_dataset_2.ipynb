{
  "cells": [
    {
      "cell_type": "markdown",
      "source": [
        "### Some util functions / model runners"
      ],
      "metadata": {
        "collapsed": false,
        "id": "30ff4bd7296d39ba"
      },
      "id": "30ff4bd7296d39ba"
    },
    {
      "cell_type": "markdown",
      "source": [
        "### ResNet\n",
        "\n",
        "Source: https://github.com/kuangliu/pytorch-cifar/blob/master/models/resnet.py"
      ],
      "metadata": {
        "id": "8Cw22kfolpDt"
      },
      "id": "8Cw22kfolpDt"
    },
    {
      "cell_type": "code",
      "source": [
        "'''ResNet in PyTorch.\n",
        "\n",
        "For Pre-activation ResNet, see 'preact_resnet.py'.\n",
        "\n",
        "Reference:\n",
        "[1] Kaiming He, Xiangyu Zhang, Shaoqing Ren, Jian Sun\n",
        "    Deep Residual Learning for Image Recognition. arXiv:1512.03385\n",
        "'''\n",
        "import torch\n",
        "import torch.nn as nn\n",
        "import torch.nn.functional as F\n",
        "\n",
        "\n",
        "class BasicBlock(nn.Module):\n",
        "    expansion = 1\n",
        "\n",
        "    def __init__(self, in_planes, planes, stride=1):\n",
        "        super(BasicBlock, self).__init__()\n",
        "        self.conv1 = nn.Conv2d(\n",
        "            in_planes, planes, kernel_size=3, stride=stride, padding=1, bias=False)\n",
        "        self.bn1 = nn.BatchNorm2d(planes)\n",
        "        self.conv2 = nn.Conv2d(planes, planes, kernel_size=3,\n",
        "                               stride=1, padding=1, bias=False)\n",
        "        self.bn2 = nn.BatchNorm2d(planes)\n",
        "\n",
        "        self.shortcut = nn.Sequential()\n",
        "        if stride != 1 or in_planes != self.expansion*planes:\n",
        "            self.shortcut = nn.Sequential(\n",
        "                nn.Conv2d(in_planes, self.expansion*planes,\n",
        "                          kernel_size=1, stride=stride, bias=False),\n",
        "                nn.BatchNorm2d(self.expansion*planes)\n",
        "            )\n",
        "\n",
        "    def forward(self, x):\n",
        "        out = F.relu(self.bn1(self.conv1(x)))\n",
        "        out = self.bn2(self.conv2(out))\n",
        "        out += self.shortcut(x)\n",
        "        out = F.relu(out)\n",
        "        return out\n",
        "\n",
        "\n",
        "class Bottleneck(nn.Module):\n",
        "    expansion = 4\n",
        "\n",
        "    def __init__(self, in_planes, planes, stride=1):\n",
        "        super(Bottleneck, self).__init__()\n",
        "        self.conv1 = nn.Conv2d(in_planes, planes, kernel_size=1, bias=False)\n",
        "        self.bn1 = nn.BatchNorm2d(planes)\n",
        "        self.conv2 = nn.Conv2d(planes, planes, kernel_size=3,\n",
        "                               stride=stride, padding=1, bias=False)\n",
        "        self.bn2 = nn.BatchNorm2d(planes)\n",
        "        self.conv3 = nn.Conv2d(planes, self.expansion *\n",
        "                               planes, kernel_size=1, bias=False)\n",
        "        self.bn3 = nn.BatchNorm2d(self.expansion*planes)\n",
        "\n",
        "        self.shortcut = nn.Sequential()\n",
        "        if stride != 1 or in_planes != self.expansion*planes:\n",
        "            self.shortcut = nn.Sequential(\n",
        "                nn.Conv2d(in_planes, self.expansion*planes,\n",
        "                          kernel_size=1, stride=stride, bias=False),\n",
        "                nn.BatchNorm2d(self.expansion*planes)\n",
        "            )\n",
        "\n",
        "    def forward(self, x):\n",
        "        out = F.relu(self.bn1(self.conv1(x)))\n",
        "        out = F.relu(self.bn2(self.conv2(out)))\n",
        "        out = self.bn3(self.conv3(out))\n",
        "        out += self.shortcut(x)\n",
        "        out = F.relu(out)\n",
        "        return out\n",
        "\n",
        "\n",
        "class ResNet(nn.Module):\n",
        "    def __init__(self, block, num_blocks, num_classes):\n",
        "        super(ResNet, self).__init__()\n",
        "        self.in_planes = 64\n",
        "\n",
        "        self.conv1 = nn.Conv2d(3, 64, kernel_size=3,\n",
        "                               stride=1, padding=1, bias=False)\n",
        "        self.bn1 = nn.BatchNorm2d(64)\n",
        "        self.layer1 = self._make_layer(block, 64, num_blocks[0], stride=1)\n",
        "        self.layer2 = self._make_layer(block, 128, num_blocks[1], stride=2)\n",
        "        self.layer3 = self._make_layer(block, 256, num_blocks[2], stride=2)\n",
        "        self.layer4 = self._make_layer(block, 512, num_blocks[3], stride=2)\n",
        "        self.linear = nn.Linear(512*block.expansion, num_classes)\n",
        "\n",
        "    def _make_layer(self, block, planes, num_blocks, stride):\n",
        "        strides = [stride] + [1]*(num_blocks-1)\n",
        "        layers = []\n",
        "        for stride in strides:\n",
        "            layers.append(block(self.in_planes, planes, stride))\n",
        "            self.in_planes = planes * block.expansion\n",
        "        return nn.Sequential(*layers)\n",
        "\n",
        "    def forward(self, x):\n",
        "        out = F.relu(self.bn1(self.conv1(x)))\n",
        "        out = self.layer1(out)\n",
        "        out = self.layer2(out)\n",
        "        out = self.layer3(out)\n",
        "        out = self.layer4(out)\n",
        "        out = F.avg_pool2d(out, 4)\n",
        "        out = out.view(out.size(0), -1)\n",
        "        out = self.linear(out)\n",
        "        return out\n",
        "\n",
        "\n",
        "def ResNet18(num_classes):\n",
        "    return ResNet(BasicBlock, [2, 2, 2, 2], num_classes)\n",
        "\n",
        "\n",
        "def ResNet34(num_classes):\n",
        "    return ResNet(BasicBlock, [3, 4, 6, 3], num_classes)\n",
        "\n",
        "\n",
        "def ResNet50(num_classes):\n",
        "    return ResNet(Bottleneck, [3, 4, 6, 3], num_classes)\n",
        "\n",
        "\n",
        "def ResNet101():\n",
        "    return ResNet(Bottleneck, [3, 4, 23, 3])\n",
        "\n",
        "\n",
        "def ResNet152():\n",
        "    return ResNet(Bottleneck, [3, 8, 36, 3])\n",
        "\n",
        "\n",
        "def test():\n",
        "    net = ResNet18()\n",
        "    y = net(torch.randn(1, 3, 32, 32))\n",
        "    print(y.size())\n",
        "\n",
        "# test()"
      ],
      "metadata": {
        "id": "88VLaSHYcCOO"
      },
      "id": "88VLaSHYcCOO",
      "execution_count": 61,
      "outputs": []
    },
    {
      "cell_type": "markdown",
      "source": [
        "### Imports"
      ],
      "metadata": {
        "id": "iiaj0ElklrEv"
      },
      "id": "iiaj0ElklrEv"
    },
    {
      "cell_type": "code",
      "execution_count": 62,
      "id": "initial_id",
      "metadata": {
        "collapsed": true,
        "ExecuteTime": {
          "end_time": "2023-09-09T09:52:22.666203700Z",
          "start_time": "2023-09-09T09:52:19.612481300Z"
        },
        "id": "initial_id"
      },
      "outputs": [],
      "source": [
        "import torch\n",
        "from torch.utils.data import DataLoader, random_split\n",
        "\n",
        "from torchvision import datasets, transforms\n",
        "from torchvision.models import AlexNet\n",
        "\n",
        "import numpy as np\n",
        "\n",
        "from torch.utils.data.sampler import SubsetRandomSampler\n",
        "import matplotlib.pyplot as plt"
      ]
    },
    {
      "cell_type": "markdown",
      "source": [
        "(Comment in to use to clean cache)"
      ],
      "metadata": {
        "id": "42RlM6RN5xut"
      },
      "id": "42RlM6RN5xut"
    },
    {
      "cell_type": "code",
      "execution_count": 63,
      "outputs": [],
      "source": [
        "#import gc\n",
        "\n",
        "#gc.collect()\n",
        "\n",
        "#torch.cuda.empty_cache()"
      ],
      "metadata": {
        "ExecuteTime": {
          "end_time": "2023-09-09T09:52:22.832878600Z",
          "start_time": "2023-09-09T09:52:22.751460800Z"
        },
        "id": "2ccc9214777740a0"
      },
      "id": "2ccc9214777740a0"
    },
    {
      "cell_type": "markdown",
      "source": [
        "### Load Images"
      ],
      "metadata": {
        "collapsed": false,
        "id": "beef2e82b83e0f6a"
      },
      "id": "beef2e82b83e0f6a"
    },
    {
      "cell_type": "markdown",
      "source": [
        "Load from google drive"
      ],
      "metadata": {
        "collapsed": false,
        "id": "bc2b5ccbbf030131"
      },
      "id": "bc2b5ccbbf030131"
    },
    {
      "cell_type": "code",
      "source": [
        "from google.colab import drive\n",
        "drive.mount('/content/drive')"
      ],
      "metadata": {
        "colab": {
          "base_uri": "https://localhost:8080/"
        },
        "id": "9Zm6NOAEblK1",
        "outputId": "9253ede1-2e85-4128-d704-3c67e0870414"
      },
      "id": "9Zm6NOAEblK1",
      "execution_count": 64,
      "outputs": [
        {
          "output_type": "stream",
          "name": "stdout",
          "text": [
            "Drive already mounted at /content/drive; to attempt to forcibly remount, call drive.mount(\"/content/drive\", force_remount=True).\n"
          ]
        }
      ]
    },
    {
      "cell_type": "markdown",
      "source": [
        "#### Load the dataset and dataloader\n",
        "We do this with a basic transformer, which only resizes the images."
      ],
      "metadata": {
        "id": "zgAa64MX11cS"
      },
      "id": "zgAa64MX11cS"
    },
    {
      "cell_type": "code",
      "execution_count": 97,
      "outputs": [],
      "source": [
        "#images_path = 'data/images'\n",
        "#images_path = \"/content/drive/MyDrive/Colab Notebooks/SeptemberHack/Bilder/all_resized_into_sub_folders_640\"\n",
        "\n",
        "# Images from Kaggle\n",
        "# Source: https://www.kaggle.com/datasets/anshulmehtakaggl/chess-pieces-detection-images-dataset\n",
        "images_path = \"/content/drive/MyDrive/Colab Notebooks/SeptemberHack/Bilder/chess_pieces_2\"\n",
        "\n",
        "basic_transforms = transforms.Compose([\n",
        "    transforms.Resize((32, 32)), # Transform so they go into the ResNet18 NN\n",
        "    transforms.ToTensor(),\n",
        "])\n",
        "\n",
        "untransformed_dataset = datasets.ImageFolder(root=images_path, transform=basic_transforms)"
      ],
      "metadata": {
        "ExecuteTime": {
          "end_time": "2023-09-09T09:52:24.500260500Z",
          "start_time": "2023-09-09T09:52:24.483351100Z"
        },
        "id": "ac7dcfe40c051c1e"
      },
      "id": "ac7dcfe40c051c1e"
    },
    {
      "cell_type": "markdown",
      "source": [
        "### Function to get mean / std from images. Source:\n",
        "\n",
        "Source: https://github.com/kuangliu/pytorch-cifar/blob/master/utils.py"
      ],
      "metadata": {
        "id": "RDs2Qc0H5YiG"
      },
      "id": "RDs2Qc0H5YiG"
    },
    {
      "cell_type": "code",
      "execution_count": 98,
      "outputs": [
        {
          "output_type": "stream",
          "name": "stdout",
          "text": [
            "==> Computing mean and std..\n",
            "Untransformed images, mean is tensor([0.6740, 0.6644, 0.6533]), std is tensor([0.2097, 0.2151, 0.2173])\n"
          ]
        }
      ],
      "source": [
        "def get_mean_and_std(dataset):\n",
        "    '''Compute the mean and std value of dataset.'''\n",
        "    dataloader = torch.utils.data.DataLoader(dataset, batch_size=1, shuffle=True, num_workers=2)\n",
        "    mean = torch.zeros(3)\n",
        "    std = torch.zeros(3)\n",
        "    print('==> Computing mean and std..')\n",
        "    for inputs, targets in dataloader:\n",
        "        for i in range(3):\n",
        "            mean[i] += inputs[:,i,:,:].mean()\n",
        "            std[i] += inputs[:,i,:,:].std()\n",
        "    mean.div_(len(dataset))\n",
        "    std.div_(len(dataset))\n",
        "    return mean, std\n",
        "\n",
        "mean, std= get_mean_and_std(untransformed_dataset)\n",
        "print(f\"Untransformed images, mean is {mean}, std is {std}\")"
      ],
      "metadata": {
        "ExecuteTime": {
          "end_time": "2023-09-09T09:52:29.543976Z",
          "start_time": "2023-09-09T09:52:24.688178100Z"
        },
        "colab": {
          "base_uri": "https://localhost:8080/"
        },
        "id": "c52df3fae11e40cc",
        "outputId": "1f1db473-ad36-494d-ec7a-191175c41aaf"
      },
      "id": "c52df3fae11e40cc"
    },
    {
      "cell_type": "markdown",
      "source": [
        "#### Load dataset normalized with mean / std from above"
      ],
      "metadata": {
        "collapsed": false,
        "id": "256125cee991731f"
      },
      "id": "256125cee991731f"
    },
    {
      "cell_type": "code",
      "execution_count": 99,
      "outputs": [],
      "source": [
        "enhanced_transforms = transforms.Compose([\n",
        "    transforms.Resize((32, 32)), # Transform so they go into the ResNet18 NN\n",
        "    transforms.ToTensor(),\n",
        "    transforms.Normalize(mean=mean, std=std), # With the before calculated mean, std values.\n",
        "])\n",
        "\n",
        "# Dataset with the correctly transformed images\n",
        "dataset = datasets.ImageFolder(root=images_path, transform=enhanced_transforms)\n",
        "\n",
        "classes = dataset.classes\n",
        "num_classes= len(dataset.classes)"
      ],
      "metadata": {
        "ExecuteTime": {
          "end_time": "2023-09-09T09:53:13.419000100Z",
          "start_time": "2023-09-09T09:53:13.405808100Z"
        },
        "id": "e2be897fa1238bd8"
      },
      "id": "e2be897fa1238bd8"
    },
    {
      "cell_type": "code",
      "execution_count": 100,
      "outputs": [
        {
          "output_type": "stream",
          "name": "stdout",
          "text": [
            "Dataset has classes: ['Queen-Resized', 'Rook-resize', 'bishop_resized', 'knight-resize', 'pawn_resized'] (length: 5) Dataset length: is 651\n",
            "==> Computing mean and std..\n",
            "Transformed images, mean is tensor([-8.5186e-07, -2.2011e-07, -8.6431e-08]), std is tensor([1.0000, 1.0000, 1.0000])\n"
          ]
        }
      ],
      "source": [
        "print(f\"Dataset has classes: {classes} (length: {num_classes}) Dataset length: is {len(dataset)}\")\n",
        "\n",
        "mean_updated, std_updated= get_mean_and_std(dataset)\n",
        "print(f\"Transformed images, mean is {mean_updated}, std is {std_updated}\")"
      ],
      "metadata": {
        "ExecuteTime": {
          "end_time": "2023-09-09T09:53:17.516008400Z",
          "start_time": "2023-09-09T09:53:14.131840300Z"
        },
        "colab": {
          "base_uri": "https://localhost:8080/"
        },
        "id": "f9e9b96046f0247e",
        "outputId": "7132803d-3cfc-437d-d88d-8bf4d4cd0447"
      },
      "id": "f9e9b96046f0247e"
    },
    {
      "cell_type": "markdown",
      "source": [
        "### Split Train and Test\n",
        "\n",
        "We use 80 random images for our test (at the end), and 80 as validation."
      ],
      "metadata": {
        "collapsed": false,
        "id": "46a2363a2f424b4a"
      },
      "id": "46a2363a2f424b4a"
    },
    {
      "cell_type": "code",
      "execution_count": 121,
      "outputs": [],
      "source": [
        "num_samples = len(dataset)\n",
        "indices = list(range(num_samples))\n",
        "np.random.shuffle(indices)\n",
        "\n",
        "# First 100 are Test data\n",
        "test_split = 100\n",
        "val_split = 200\n",
        "train_idx, valid_idx, test_idx = indices[val_split:], indices[test_split:val_split], indices[:test_split]\n",
        "\n",
        "# define samplers for obtaining training and validation batches\n",
        "train_sampler = SubsetRandomSampler(train_idx)\n",
        "valid_sampler = SubsetRandomSampler(valid_idx)\n",
        "test_sampler = SubsetRandomSampler(test_idx)"
      ],
      "metadata": {
        "ExecuteTime": {
          "end_time": "2023-09-09T09:53:17.517096900Z",
          "start_time": "2023-09-09T09:53:17.513430Z"
        },
        "id": "bda40924cf9e9597"
      },
      "id": "bda40924cf9e9597"
    },
    {
      "cell_type": "markdown",
      "source": [],
      "metadata": {
        "collapsed": false,
        "id": "b1de90243757ecf2"
      },
      "id": "b1de90243757ecf2"
    },
    {
      "cell_type": "code",
      "execution_count": 122,
      "outputs": [
        {
          "output_type": "stream",
          "name": "stdout",
          "text": [
            "train_idx: 451, test_idx: 100, valid_idx: 100\n"
          ]
        }
      ],
      "source": [
        "print(f\"train_idx: {len(train_idx)}, test_idx: {len(test_idx)}, valid_idx: {len(valid_idx)}\")"
      ],
      "metadata": {
        "ExecuteTime": {
          "end_time": "2023-09-09T09:53:17.528244900Z",
          "start_time": "2023-09-09T09:53:17.517096900Z"
        },
        "colab": {
          "base_uri": "https://localhost:8080/"
        },
        "id": "90e7f01d8eb918dd",
        "outputId": "f03a739a-f6a3-48c0-ae67-a392ceb9443c"
      },
      "id": "90e7f01d8eb918dd"
    },
    {
      "cell_type": "markdown",
      "source": [
        "#### Create the dataloaders\n",
        "We set a feasible batch size"
      ],
      "metadata": {
        "collapsed": false,
        "id": "8822e8a484574fc7"
      },
      "id": "8822e8a484574fc7"
    },
    {
      "cell_type": "code",
      "source": [
        "batch_size = 20\n",
        "\n",
        "train_loader = DataLoader(dataset, sampler=train_sampler, batch_size=batch_size)\n",
        "valid_loader = DataLoader(dataset, sampler=valid_sampler, batch_size=batch_size)\n",
        "test_loader = DataLoader(dataset, sampler=test_sampler, batch_size=batch_size)"
      ],
      "metadata": {
        "id": "Qe9CKBLpTjQb"
      },
      "id": "Qe9CKBLpTjQb",
      "execution_count": 123,
      "outputs": []
    },
    {
      "cell_type": "markdown",
      "source": [
        "### Plot images"
      ],
      "metadata": {
        "id": "TL2OL31k-6ZZ"
      },
      "id": "TL2OL31k-6ZZ"
    },
    {
      "cell_type": "code",
      "source": [
        "import matplotlib.pyplot as plt\n",
        "%matplotlib inline\n",
        "\n",
        "# helper function to un-normalize and display an image\n",
        "def imshow(img):\n",
        "    img = img / 2 + 0.5  # unnormalize\n",
        "    plt.imshow(np.transpose(img, (1, 2, 0)))  # convert from Tensor image"
      ],
      "metadata": {
        "id": "MskYyfkeVnzM"
      },
      "id": "MskYyfkeVnzM",
      "execution_count": 124,
      "outputs": []
    },
    {
      "cell_type": "code",
      "source": [
        "# obtain one batch of training images\n",
        "dataiter = iter(train_loader)\n",
        "images, labels = next(dataiter)\n",
        "images = images.numpy() # convert images to numpy for display\n",
        "\n",
        "# plot the images in the batch, along with the corresponding labels\n",
        "fig = plt.figure(figsize=(25, 4))\n",
        "# display 20 images\n",
        "for idx in np.arange(20):\n",
        "    ax = fig.add_subplot(2, int(20/2), idx+1, xticks=[], yticks=[])\n",
        "    imshow(images[idx])\n",
        "    ax.set_title(classes[labels[idx]])"
      ],
      "metadata": {
        "colab": {
          "base_uri": "https://localhost:8080/",
          "height": 688
        },
        "id": "fURI0qHLV4tP",
        "outputId": "d491763d-476c-4392-f7ba-848d47c7bba0"
      },
      "id": "fURI0qHLV4tP",
      "execution_count": 125,
      "outputs": [
        {
          "output_type": "stream",
          "name": "stderr",
          "text": [
            "WARNING:matplotlib.image:Clipping input data to the valid range for imshow with RGB data ([0..1] for floats or [0..255] for integers).\n",
            "WARNING:matplotlib.image:Clipping input data to the valid range for imshow with RGB data ([0..1] for floats or [0..255] for integers).\n",
            "WARNING:matplotlib.image:Clipping input data to the valid range for imshow with RGB data ([0..1] for floats or [0..255] for integers).\n",
            "WARNING:matplotlib.image:Clipping input data to the valid range for imshow with RGB data ([0..1] for floats or [0..255] for integers).\n",
            "WARNING:matplotlib.image:Clipping input data to the valid range for imshow with RGB data ([0..1] for floats or [0..255] for integers).\n",
            "WARNING:matplotlib.image:Clipping input data to the valid range for imshow with RGB data ([0..1] for floats or [0..255] for integers).\n",
            "WARNING:matplotlib.image:Clipping input data to the valid range for imshow with RGB data ([0..1] for floats or [0..255] for integers).\n",
            "WARNING:matplotlib.image:Clipping input data to the valid range for imshow with RGB data ([0..1] for floats or [0..255] for integers).\n",
            "WARNING:matplotlib.image:Clipping input data to the valid range for imshow with RGB data ([0..1] for floats or [0..255] for integers).\n",
            "WARNING:matplotlib.image:Clipping input data to the valid range for imshow with RGB data ([0..1] for floats or [0..255] for integers).\n",
            "WARNING:matplotlib.image:Clipping input data to the valid range for imshow with RGB data ([0..1] for floats or [0..255] for integers).\n",
            "WARNING:matplotlib.image:Clipping input data to the valid range for imshow with RGB data ([0..1] for floats or [0..255] for integers).\n",
            "WARNING:matplotlib.image:Clipping input data to the valid range for imshow with RGB data ([0..1] for floats or [0..255] for integers).\n",
            "WARNING:matplotlib.image:Clipping input data to the valid range for imshow with RGB data ([0..1] for floats or [0..255] for integers).\n",
            "WARNING:matplotlib.image:Clipping input data to the valid range for imshow with RGB data ([0..1] for floats or [0..255] for integers).\n",
            "WARNING:matplotlib.image:Clipping input data to the valid range for imshow with RGB data ([0..1] for floats or [0..255] for integers).\n",
            "WARNING:matplotlib.image:Clipping input data to the valid range for imshow with RGB data ([0..1] for floats or [0..255] for integers).\n",
            "WARNING:matplotlib.image:Clipping input data to the valid range for imshow with RGB data ([0..1] for floats or [0..255] for integers).\n",
            "WARNING:matplotlib.image:Clipping input data to the valid range for imshow with RGB data ([0..1] for floats or [0..255] for integers).\n",
            "WARNING:matplotlib.image:Clipping input data to the valid range for imshow with RGB data ([0..1] for floats or [0..255] for integers).\n"
          ]
        },
        {
          "output_type": "display_data",
          "data": {
            "text/plain": [
              "<Figure size 2500x400 with 20 Axes>"
            ],
            "image/png": "[encoded data removed]"
          },
          "metadata": {}
        }
      ]
    },
    {
      "cell_type": "markdown",
      "source": [
        "### Test for CUDA\n",
        "\n",
        "Make sure to install the correct CUDA version and packages, see: https://pytorch.org/get-started/locally/"
      ],
      "metadata": {
        "id": "IUVI5FlnygxS"
      },
      "id": "IUVI5FlnygxS"
    },
    {
      "cell_type": "code",
      "source": [
        "# check if CUDA is available\n",
        "device = 'cuda' if torch.cuda.is_available() else 'cpu'\n",
        "print(f'Using {device}')"
      ],
      "metadata": {
        "colab": {
          "base_uri": "https://localhost:8080/"
        },
        "id": "J4o4lrSAybBi",
        "outputId": "a49eaed7-f3b6-4109-ff79-0eab240d2194"
      },
      "id": "J4o4lrSAybBi",
      "execution_count": 129,
      "outputs": [
        {
          "output_type": "stream",
          "name": "stdout",
          "text": [
            "Using cuda\n"
          ]
        }
      ]
    },
    {
      "cell_type": "markdown",
      "source": [
        "### Train the Network\n",
        "\n",
        "Remember to look at how the training and validation loss decreases over time; if the validation loss ever increases it indicates possible overfitting."
      ],
      "metadata": {
        "id": "brdgD_8TUapl"
      },
      "id": "brdgD_8TUapl"
    },
    {
      "cell_type": "code",
      "source": [
        "# Define the network: ResNet101\n",
        "net = ResNet50(num_classes)\n",
        "net.to(device)\n",
        "\n",
        "# specify loss function\n",
        "criterion = torch.nn.CrossEntropyLoss()\n",
        "\n",
        "# Optimizer and momentum\n",
        "optimizer = torch.optim.Adam(net.parameters(), lr=0.001)\n",
        "\n",
        "model = net\n",
        "train_on_gpu = torch.cuda.is_available()\n",
        "\n",
        "print(train_on_gpu)"
      ],
      "metadata": {
        "colab": {
          "base_uri": "https://localhost:8080/"
        },
        "id": "TWzZDZRiWNMd",
        "outputId": "21b63354-df81-482e-b5ee-5bbf1a2b626d"
      },
      "id": "TWzZDZRiWNMd",
      "execution_count": 132,
      "outputs": [
        {
          "output_type": "stream",
          "name": "stdout",
          "text": [
            "True\n"
          ]
        }
      ]
    },
    {
      "cell_type": "code",
      "execution_count": 133,
      "outputs": [
        {
          "output_type": "stream",
          "name": "stdout",
          "text": [
            "Epoch: 1 \tTraining Loss: 1.586927 \tValidation Loss: 0.238497\n",
            "Validation loss decreased (inf --> 0.238497).  Saving model ...\n",
            "Epoch: 2 \tTraining Loss: 1.184317 \tValidation Loss: 0.236995\n",
            "Validation loss decreased (0.238497 --> 0.236995).  Saving model ...\n",
            "Epoch: 3 \tTraining Loss: 1.180165 \tValidation Loss: 0.593776\n",
            "Epoch: 4 \tTraining Loss: 1.167531 \tValidation Loss: 0.259012\n",
            "Epoch: 5 \tTraining Loss: 1.248824 \tValidation Loss: 7.079423\n",
            "Epoch: 6 \tTraining Loss: 1.197667 \tValidation Loss: 0.256119\n",
            "Epoch: 7 \tTraining Loss: 1.168380 \tValidation Loss: 0.239784\n",
            "Epoch: 8 \tTraining Loss: 1.110708 \tValidation Loss: 0.294206\n",
            "Epoch: 9 \tTraining Loss: 1.116678 \tValidation Loss: 0.233962\n",
            "Validation loss decreased (0.236995 --> 0.233962).  Saving model ...\n",
            "Epoch: 10 \tTraining Loss: 1.115702 \tValidation Loss: 0.248061\n",
            "Epoch: 11 \tTraining Loss: 1.030789 \tValidation Loss: 0.235562\n",
            "Epoch: 12 \tTraining Loss: 0.949632 \tValidation Loss: 0.261063\n",
            "Epoch: 13 \tTraining Loss: 0.979445 \tValidation Loss: 1.430568\n",
            "Epoch: 14 \tTraining Loss: 0.980374 \tValidation Loss: 0.227263\n",
            "Validation loss decreased (0.233962 --> 0.227263).  Saving model ...\n",
            "Epoch: 15 \tTraining Loss: 0.905192 \tValidation Loss: 0.231094\n",
            "Epoch: 16 \tTraining Loss: 0.884163 \tValidation Loss: 0.202455\n",
            "Validation loss decreased (0.227263 --> 0.202455).  Saving model ...\n",
            "Epoch: 17 \tTraining Loss: 0.825484 \tValidation Loss: 0.252012\n",
            "Epoch: 18 \tTraining Loss: 0.808968 \tValidation Loss: 0.240344\n",
            "Epoch: 19 \tTraining Loss: 0.705455 \tValidation Loss: 0.263475\n",
            "Epoch: 20 \tTraining Loss: 0.756922 \tValidation Loss: 0.249488\n",
            "Epoch: 21 \tTraining Loss: 0.664643 \tValidation Loss: 0.217052\n",
            "Epoch: 22 \tTraining Loss: 0.633793 \tValidation Loss: 0.245281\n",
            "Epoch: 23 \tTraining Loss: 0.635181 \tValidation Loss: 0.256973\n",
            "Epoch: 24 \tTraining Loss: 0.644729 \tValidation Loss: 0.258788\n",
            "Epoch: 25 \tTraining Loss: 0.574408 \tValidation Loss: 0.216038\n",
            "Epoch: 26 \tTraining Loss: 0.509529 \tValidation Loss: 0.242319\n",
            "Epoch: 27 \tTraining Loss: 0.493292 \tValidation Loss: 0.305273\n",
            "Epoch: 28 \tTraining Loss: 0.492320 \tValidation Loss: 0.243734\n",
            "Epoch: 29 \tTraining Loss: 0.436341 \tValidation Loss: 0.221669\n",
            "Epoch: 30 \tTraining Loss: 0.361235 \tValidation Loss: 0.258436\n"
          ]
        }
      ],
      "source": [
        "# number of epochs to train the model\n",
        "n_epochs = 30 # you may increase this number to train a final model\n",
        "\n",
        "valid_loss_min = np.Inf # track change in validation loss\n",
        "\n",
        "for epoch in range(1, n_epochs+1):\n",
        "\n",
        "    # keep track of training and validation loss\n",
        "    train_loss = 0.0\n",
        "    valid_loss = 0.0\n",
        "\n",
        "    ###################\n",
        "    # train the model #\n",
        "    ###################\n",
        "    model.train()\n",
        "    for data, target in train_loader:\n",
        "        # move tensors to GPU if CUDA is available\n",
        "        if train_on_gpu:\n",
        "            data, target = data.cuda(), target.cuda()\n",
        "        # clear the gradients of all optimized variables\n",
        "        optimizer.zero_grad()\n",
        "        # forward pass: compute predicted outputs by passing inputs to the model\n",
        "        output = model(data)\n",
        "        # calculate the batch loss\n",
        "        loss = criterion(output, target)\n",
        "        # backward pass: compute gradient of the loss with respect to model parameters\n",
        "        loss.backward()\n",
        "        # perform a single optimization step (parameter update)\n",
        "        optimizer.step()\n",
        "        # update training loss\n",
        "        train_loss += loss.item()*data.size(0)\n",
        "\n",
        "    ######################\n",
        "    # validate the model #\n",
        "    ######################\n",
        "    model.eval()\n",
        "    for data, target in valid_loader:\n",
        "        # move tensors to GPU if CUDA is available\n",
        "        if train_on_gpu:\n",
        "            data, target = data.cuda(), target.cuda()\n",
        "        # forward pass: compute predicted outputs by passing inputs to the model\n",
        "        output = model(data)\n",
        "        # calculate the batch loss\n",
        "        loss = criterion(output, target)\n",
        "        # update average validation loss\n",
        "        valid_loss += loss.item()*data.size(0)\n",
        "\n",
        "    # calculate average losses\n",
        "    train_loss = train_loss/len(train_loader.dataset)\n",
        "    valid_loss = valid_loss/len(valid_loader.dataset)\n",
        "\n",
        "    # print training/validation statistics\n",
        "    print('Epoch: {} \\tTraining Loss: {:.6f} \\tValidation Loss: {:.6f}'.format(\n",
        "        epoch, train_loss, valid_loss))\n",
        "\n",
        "    # save model if validation loss has decreased\n",
        "    if valid_loss <= valid_loss_min:\n",
        "        print('Validation loss decreased ({:.6f} --> {:.6f}).  Saving model ...'.format(\n",
        "        valid_loss_min,\n",
        "        valid_loss))\n",
        "        torch.save(model.state_dict(), 'model_cifar.pt')\n",
        "        valid_loss_min = valid_loss"
      ],
      "metadata": {
        "id": "b6c26a9ebbc10e99",
        "colab": {
          "base_uri": "https://localhost:8080/"
        },
        "outputId": "fe6830cd-d581-42d9-ca32-9693d60da48f"
      },
      "id": "b6c26a9ebbc10e99"
    },
    {
      "cell_type": "markdown",
      "source": [
        "###  Load the Model with the Lowest Validation Loss\n"
      ],
      "metadata": {
        "id": "BlbneuXNUc0g"
      },
      "id": "BlbneuXNUc0g"
    },
    {
      "cell_type": "code",
      "source": [
        "model.load_state_dict(torch.load('model_cifar.pt'))\n"
      ],
      "metadata": {
        "colab": {
          "base_uri": "https://localhost:8080/"
        },
        "id": "6X994z2wUPDE",
        "outputId": "9d97f797-e772-41be-dab8-36fb7c5f06c7"
      },
      "id": "6X994z2wUPDE",
      "execution_count": 134,
      "outputs": [
        {
          "output_type": "execute_result",
          "data": {
            "text/plain": [
              "<All keys matched successfully>"
            ]
          },
          "metadata": {},
          "execution_count": 134
        }
      ]
    },
    {
      "cell_type": "markdown",
      "source": [
        "---\n",
        "## Test the Trained Network\n",
        "\n",
        "Test your trained model on previously unseen data! A \"good\" result will be a CNN that gets around 70% (or more, try your best!) accuracy on these test images."
      ],
      "metadata": {
        "id": "SgHJ6d-QUeIv"
      },
      "id": "SgHJ6d-QUeIv"
    },
    {
      "cell_type": "code",
      "source": [
        "# track test loss\n",
        "test_loss = 0.0\n",
        "class_correct = list(0. for i in range(num_classes))\n",
        "class_total = list(0. for i in range(num_classes))\n",
        "\n",
        "model.eval()\n",
        "# iterate over test data\n",
        "for data, target in test_loader:\n",
        "    # move tensors to GPU if CUDA is available\n",
        "    if train_on_gpu:\n",
        "        data, target = data.cuda(), target.cuda()\n",
        "    # forward pass: compute predicted outputs by passing inputs to the model\n",
        "    output = model(data)\n",
        "    # calculate the batch loss\n",
        "    loss = criterion(output, target)\n",
        "    # update test loss\n",
        "    test_loss += loss.item()*data.size(0)\n",
        "    # convert output probabilities to predicted class\n",
        "    _, pred = torch.max(output, 1)\n",
        "    # compare predictions to true label\n",
        "    correct_tensor = pred.eq(target.data.view_as(pred))\n",
        "    correct = np.squeeze(correct_tensor.numpy()) if not train_on_gpu else np.squeeze(correct_tensor.cpu().numpy())\n",
        "    # calculate test accuracy for each object class\n",
        "    for i in range(batch_size):\n",
        "        label = target.data[i]\n",
        "        class_correct[label] += correct[i].item()\n",
        "        class_total[label] += 1\n",
        "\n",
        "# average test loss\n",
        "test_loss = test_loss/len(test_loader.dataset)\n",
        "print('Test Loss: {:.6f}\\n'.format(test_loss))\n",
        "\n",
        "for i in range(num_classes):\n",
        "    if class_total[i] > 0:\n",
        "        print('Test Accuracy of %5s: %2d%% (%2d/%2d)' % (\n",
        "            classes[i], 100 * class_correct[i] / class_total[i],\n",
        "            np.sum(class_correct[i]), np.sum(class_total[i])))\n",
        "    else:\n",
        "        print('Test Accuracy of %5s: N/A (no training examples)' % (classes[i]))\n",
        "\n",
        "print('\\nTest Accuracy (Overall): %2d%% (%2d/%2d)' % (\n",
        "    100. * np.sum(class_correct) / np.sum(class_total),\n",
        "    np.sum(class_correct), np.sum(class_total)))"
      ],
      "metadata": {
        "colab": {
          "base_uri": "https://localhost:8080/"
        },
        "id": "qauYOZJdUSAw",
        "outputId": "f65a9efc-2ae5-43e5-f69f-81d1bd2831c2"
      },
      "id": "qauYOZJdUSAw",
      "execution_count": 135,
      "outputs": [
        {
          "output_type": "stream",
          "name": "stdout",
          "text": [
            "Test Loss: 0.189405\n",
            "\n",
            "Test Accuracy of Queen-Resized: 10% ( 2/19)\n",
            "Test Accuracy of Rook-resize: 40% ( 9/22)\n",
            "Test Accuracy of bishop_resized: 61% (13/21)\n",
            "Test Accuracy of knight-resize: 62% (17/27)\n",
            "Test Accuracy of pawn_resized: 54% ( 6/11)\n",
            "\n",
            "Test Accuracy (Overall): 47% (47/100)\n"
          ]
        }
      ]
    },
    {
      "cell_type": "code",
      "source": [
        "# obtain one batch of test images\n",
        "dataiter = iter(test_loader)\n",
        "images, labels = next(dataiter)\n",
        "images.numpy()\n",
        "\n",
        "# move model inputs to cuda, if GPU available\n",
        "if train_on_gpu:\n",
        "    images = images.cuda()\n",
        "\n",
        "# get sample outputs\n",
        "output = model(images)\n",
        "# convert output probabilities to predicted class\n",
        "_, preds_tensor = torch.max(output, 1)\n",
        "preds = np.squeeze(preds_tensor.numpy()) if not train_on_gpu else np.squeeze(preds_tensor.cpu().numpy())\n",
        "\n",
        "# plot the images in the batch, along with predicted and true labels\n",
        "fig = plt.figure(figsize=(25, 4))\n",
        "for idx in np.arange(20):\n",
        "    ax = fig.add_subplot(2, int(20/2), idx+1, xticks=[], yticks=[])\n",
        "    imshow(images.cpu()[idx])\n",
        "    ax.set_title(\"{} ({})\".format(classes[preds[idx]], classes[labels[idx]]),\n",
        "                 color=(\"green\" if preds[idx]==labels[idx].item() else \"red\"))"
      ],
      "metadata": {
        "colab": {
          "base_uri": "https://localhost:8080/",
          "height": 673
        },
        "id": "vssZYpcJbaNP",
        "outputId": "88b2ccf8-c645-4a88-9a99-b1bf29b7e121"
      },
      "id": "vssZYpcJbaNP",
      "execution_count": 136,
      "outputs": [
        {
          "output_type": "stream",
          "name": "stderr",
          "text": [
            "WARNING:matplotlib.image:Clipping input data to the valid range for imshow with RGB data ([0..1] for floats or [0..255] for integers).\n",
            "WARNING:matplotlib.image:Clipping input data to the valid range for imshow with RGB data ([0..1] for floats or [0..255] for integers).\n",
            "WARNING:matplotlib.image:Clipping input data to the valid range for imshow with RGB data ([0..1] for floats or [0..255] for integers).\n",
            "WARNING:matplotlib.image:Clipping input data to the valid range for imshow with RGB data ([0..1] for floats or [0..255] for integers).\n",
            "WARNING:matplotlib.image:Clipping input data to the valid range for imshow with RGB data ([0..1] for floats or [0..255] for integers).\n",
            "WARNING:matplotlib.image:Clipping input data to the valid range for imshow with RGB data ([0..1] for floats or [0..255] for integers).\n",
            "WARNING:matplotlib.image:Clipping input data to the valid range for imshow with RGB data ([0..1] for floats or [0..255] for integers).\n",
            "WARNING:matplotlib.image:Clipping input data to the valid range for imshow with RGB data ([0..1] for floats or [0..255] for integers).\n",
            "WARNING:matplotlib.image:Clipping input data to the valid range for imshow with RGB data ([0..1] for floats or [0..255] for integers).\n",
            "WARNING:matplotlib.image:Clipping input data to the valid range for imshow with RGB data ([0..1] for floats or [0..255] for integers).\n",
            "WARNING:matplotlib.image:Clipping input data to the valid range for imshow with RGB data ([0..1] for floats or [0..255] for integers).\n",
            "WARNING:matplotlib.image:Clipping input data to the valid range for imshow with RGB data ([0..1] for floats or [0..255] for integers).\n",
            "WARNING:matplotlib.image:Clipping input data to the valid range for imshow with RGB data ([0..1] for floats or [0..255] for integers).\n",
            "WARNING:matplotlib.image:Clipping input data to the valid range for imshow with RGB data ([0..1] for floats or [0..255] for integers).\n",
            "WARNING:matplotlib.image:Clipping input data to the valid range for imshow with RGB data ([0..1] for floats or [0..255] for integers).\n",
            "WARNING:matplotlib.image:Clipping input data to the valid range for imshow with RGB data ([0..1] for floats or [0..255] for integers).\n",
            "WARNING:matplotlib.image:Clipping input data to the valid range for imshow with RGB data ([0..1] for floats or [0..255] for integers).\n",
            "WARNING:matplotlib.image:Clipping input data to the valid range for imshow with RGB data ([0..1] for floats or [0..255] for integers).\n",
            "WARNING:matplotlib.image:Clipping input data to the valid range for imshow with RGB data ([0..1] for floats or [0..255] for integers).\n",
            "WARNING:matplotlib.image:Clipping input data to the valid range for imshow with RGB data ([0..1] for floats or [0..255] for integers).\n"
          ]
        },
        {
          "output_type": "display_data",
          "data": {
            "text/plain": [
              "<Figure size 2500x400 with 20 Axes>"
            ],
            "image/png": "[encoded data removed]"
          },
          "metadata": {}
        }
      ]
    }
  ],
  "metadata": {
    "kernelspec": {
      "display_name": "Python 3",
      "name": "python3"
    },
    "language_info": {
      "codemirror_mode": {
        "name": "ipython",
        "version": 2
      },
      "file_extension": ".py",
      "mimetype": "text/x-python",
      "name": "python",
      "nbconvert_exporter": "python",
      "pygments_lexer": "ipython2",
      "version": "2.7.6"
    },
    "colab": {
      "provenance": [],
      "machine_shape": "hm",
      "gpuType": "A100"
    },
    "accelerator": "GPU"
  },
  "nbformat": 4,
  "nbformat_minor": 5
}