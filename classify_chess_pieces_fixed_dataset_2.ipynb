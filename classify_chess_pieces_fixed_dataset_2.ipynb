{
 "cells": [
  {
   "cell_type": "markdown",
   "source": [
    "### Some util functions / model runners"
   ],
   "metadata": {
    "collapsed": false,
    "id": "30ff4bd7296d39ba"
   },
   "id": "30ff4bd7296d39ba"
  },
  {
   "cell_type": "markdown",
   "source": [
    "### ResNet\n",
    "\n",
    "Source: https://github.com/kuangliu/pytorch-cifar/blob/master/models/resnet.py"
   ],
   "metadata": {
    "id": "8Cw22kfolpDt"
   },
   "id": "8Cw22kfolpDt"
  },
  {
   "cell_type": "code",
   "source": [
    "'''ResNet in PyTorch.\n",
    "\n",
    "For Pre-activation ResNet, see 'preact_resnet.py'.\n",
    "\n",
    "Reference:\n",
    "[1] Kaiming He, Xiangyu Zhang, Shaoqing Ren, Jian Sun\n",
    "    Deep Residual Learning for Image Recognition. arXiv:1512.03385\n",
    "'''\n",
    "import torch\n",
    "import torch.nn as nn\n",
    "import torch.nn.functional as F\n",
    "\n",
    "\n",
    "class BasicBlock(nn.Module):\n",
    "    expansion = 1\n",
    "\n",
    "    def __init__(self, in_planes, planes, stride=1):\n",
    "        super(BasicBlock, self).__init__()\n",
    "        self.conv1 = nn.Conv2d(\n",
    "            in_planes, planes, kernel_size=3, stride=stride, padding=1, bias=False)\n",
    "        self.bn1 = nn.BatchNorm2d(planes)\n",
    "        self.conv2 = nn.Conv2d(planes, planes, kernel_size=3,\n",
    "                               stride=1, padding=1, bias=False)\n",
    "        self.bn2 = nn.BatchNorm2d(planes)\n",
    "\n",
    "        self.shortcut = nn.Sequential()\n",
    "        if stride != 1 or in_planes != self.expansion*planes:\n",
    "            self.shortcut = nn.Sequential(\n",
    "                nn.Conv2d(in_planes, self.expansion*planes,\n",
    "                          kernel_size=1, stride=stride, bias=False),\n",
    "                nn.BatchNorm2d(self.expansion*planes)\n",
    "            )\n",
    "\n",
    "    def forward(self, x):\n",
    "        out = F.relu(self.bn1(self.conv1(x)))\n",
    "        out = self.bn2(self.conv2(out))\n",
    "        out += self.shortcut(x)\n",
    "        out = F.relu(out)\n",
    "        return out\n",
    "\n",
    "\n",
    "class Bottleneck(nn.Module):\n",
    "    expansion = 4\n",
    "\n",
    "    def __init__(self, in_planes, planes, stride=1):\n",
    "        super(Bottleneck, self).__init__()\n",
    "        self.conv1 = nn.Conv2d(in_planes, planes, kernel_size=1, bias=False)\n",
    "        self.bn1 = nn.BatchNorm2d(planes)\n",
    "        self.conv2 = nn.Conv2d(planes, planes, kernel_size=3,\n",
    "                               stride=stride, padding=1, bias=False)\n",
    "        self.bn2 = nn.BatchNorm2d(planes)\n",
    "        self.conv3 = nn.Conv2d(planes, self.expansion *\n",
    "                               planes, kernel_size=1, bias=False)\n",
    "        self.bn3 = nn.BatchNorm2d(self.expansion*planes)\n",
    "\n",
    "        self.shortcut = nn.Sequential()\n",
    "        if stride != 1 or in_planes != self.expansion*planes:\n",
    "            self.shortcut = nn.Sequential(\n",
    "                nn.Conv2d(in_planes, self.expansion*planes,\n",
    "                          kernel_size=1, stride=stride, bias=False),\n",
    "                nn.BatchNorm2d(self.expansion*planes)\n",
    "            )\n",
    "\n",
    "    def forward(self, x):\n",
    "        out = F.relu(self.bn1(self.conv1(x)))\n",
    "        out = F.relu(self.bn2(self.conv2(out)))\n",
    "        out = self.bn3(self.conv3(out))\n",
    "        out += self.shortcut(x)\n",
    "        out = F.relu(out)\n",
    "        return out\n",
    "\n",
    "\n",
    "class ResNet(nn.Module):\n",
    "    def __init__(self, block, num_blocks, num_classes):\n",
    "        super(ResNet, self).__init__()\n",
    "        self.in_planes = 64\n",
    "\n",
    "        self.conv1 = nn.Conv2d(3, 64, kernel_size=3,\n",
    "                               stride=1, padding=1, bias=False)\n",
    "        self.bn1 = nn.BatchNorm2d(64)\n",
    "        self.layer1 = self._make_layer(block, 64, num_blocks[0], stride=1)\n",
    "        self.layer2 = self._make_layer(block, 128, num_blocks[1], stride=2)\n",
    "        self.layer3 = self._make_layer(block, 256, num_blocks[2], stride=2)\n",
    "        self.layer4 = self._make_layer(block, 512, num_blocks[3], stride=2)\n",
    "        self.linear = nn.Linear(512*block.expansion, num_classes)\n",
    "\n",
    "    def _make_layer(self, block, planes, num_blocks, stride):\n",
    "        strides = [stride] + [1]*(num_blocks-1)\n",
    "        layers = []\n",
    "        for stride in strides:\n",
    "            layers.append(block(self.in_planes, planes, stride))\n",
    "            self.in_planes = planes * block.expansion\n",
    "        return nn.Sequential(*layers)\n",
    "\n",
    "    def forward(self, x):\n",
    "        out = F.relu(self.bn1(self.conv1(x)))\n",
    "        out = self.layer1(out)\n",
    "        out = self.layer2(out)\n",
    "        out = self.layer3(out)\n",
    "        out = self.layer4(out)\n",
    "        out = F.avg_pool2d(out, 4)\n",
    "        out = out.view(out.size(0), -1)\n",
    "        out = self.linear(out)\n",
    "        return out\n",
    "\n",
    "\n",
    "def ResNet18(num_classes):\n",
    "    return ResNet(BasicBlock, [2, 2, 2, 2], num_classes)\n",
    "\n",
    "\n",
    "def ResNet34(num_classes):\n",
    "    return ResNet(BasicBlock, [3, 4, 6, 3], num_classes)\n",
    "\n",
    "\n",
    "def ResNet50(num_classes):\n",
    "    return ResNet(Bottleneck, [3, 4, 6, 3], num_classes)\n",
    "\n",
    "\n",
    "def ResNet101():\n",
    "    return ResNet(Bottleneck, [3, 4, 23, 3])\n",
    "\n",
    "\n",
    "def ResNet152():\n",
    "    return ResNet(Bottleneck, [3, 8, 36, 3])\n",
    "\n",
    "\n",
    "def test():\n",
    "    net = ResNet18()\n",
    "    y = net(torch.randn(1, 3, 32, 32))\n",
    "    print(y.size())\n",
    "\n",
    "# test()"
   ],
   "metadata": {
    "id": "88VLaSHYcCOO",
    "ExecuteTime": {
     "end_time": "2023-09-11T13:21:58.852160900Z",
     "start_time": "2023-09-11T13:21:54.886606300Z"
    }
   },
   "id": "88VLaSHYcCOO",
   "execution_count": 1,
   "outputs": []
  },
  {
   "cell_type": "markdown",
   "source": [
    "### Imports"
   ],
   "metadata": {
    "id": "iiaj0ElklrEv"
   },
   "id": "iiaj0ElklrEv"
  },
  {
   "cell_type": "code",
   "execution_count": 3,
   "id": "initial_id",
   "metadata": {
    "collapsed": true,
    "id": "initial_id",
    "ExecuteTime": {
     "end_time": "2023-09-11T13:22:15.252436600Z",
     "start_time": "2023-09-11T13:22:11.797195600Z"
    }
   },
   "outputs": [],
   "source": [
    "import torch\n",
    "from torch.utils.data import DataLoader, random_split\n",
    "\n",
    "from torchvision import datasets, transforms\n",
    "from torchvision.models import AlexNet\n",
    "\n",
    "import numpy as np\n",
    "\n",
    "from torch.utils.data.sampler import SubsetRandomSampler\n",
    "import matplotlib.pyplot as plt"
   ]
  },
  {
   "cell_type": "markdown",
   "source": [
    "### Load Images"
   ],
   "metadata": {
    "collapsed": false,
    "id": "beef2e82b83e0f6a"
   },
   "id": "beef2e82b83e0f6a"
  },
  {
   "cell_type": "markdown",
   "source": [
    "#### Load the dataset and dataloader\n",
    "We do this with a basic transformer, which only resizes the images."
   ],
   "metadata": {
    "id": "zgAa64MX11cS"
   },
   "id": "zgAa64MX11cS"
  },
  {
   "cell_type": "code",
   "execution_count": 22,
   "outputs": [],
   "source": [
    "# Images from Kaggle\n",
    "# Source: https://www.kaggle.com/datasets/anshulmehtakaggl/chess-pieces-detection-images-dataset\n",
    "images_path = 'data/images_2'\n",
    "\n",
    "basic_transforms = transforms.Compose([\n",
    "    transforms.Resize((32, 32)), # Transform so they go into the ResNet NN\n",
    "    transforms.ToTensor(),\n",
    "])\n",
    "\n",
    "untransformed_dataset = datasets.ImageFolder(root=images_path, transform=basic_transforms)"
   ],
   "metadata": {
    "id": "ac7dcfe40c051c1e",
    "ExecuteTime": {
     "end_time": "2023-09-11T13:29:54.915146700Z",
     "start_time": "2023-09-11T13:29:54.832877300Z"
    }
   },
   "id": "ac7dcfe40c051c1e"
  },
  {
   "cell_type": "markdown",
   "source": [
    "### Function to get mean / std from images. Source:\n",
    "\n",
    "Source: https://github.com/kuangliu/pytorch-cifar/blob/master/utils.py"
   ],
   "metadata": {
    "id": "RDs2Qc0H5YiG"
   },
   "id": "RDs2Qc0H5YiG"
  },
  {
   "cell_type": "code",
   "execution_count": 23,
   "outputs": [
    {
     "name": "stdout",
     "output_type": "stream",
     "text": [
      "==> Computing mean and std..\n",
      "Untransformed images, mean is tensor([0.6740, 0.6644, 0.6533]), std is tensor([0.2097, 0.2151, 0.2173])\n"
     ]
    }
   ],
   "source": [
    "def get_mean_and_std(dataset):\n",
    "    '''Compute the mean and std value of dataset.'''\n",
    "    dataloader = torch.utils.data.DataLoader(dataset, batch_size=1, shuffle=True, num_workers=2)\n",
    "    mean = torch.zeros(3)\n",
    "    std = torch.zeros(3)\n",
    "    print('==> Computing mean and std..')\n",
    "    for inputs, targets in dataloader:\n",
    "        for i in range(3):\n",
    "            mean[i] += inputs[:,i,:,:].mean()\n",
    "            std[i] += inputs[:,i,:,:].std()\n",
    "    mean.div_(len(dataset))\n",
    "    std.div_(len(dataset))\n",
    "    return mean, std\n",
    "\n",
    "mean, std= get_mean_and_std(untransformed_dataset)\n",
    "print(f\"Untransformed images, mean is {mean}, std is {std}\")"
   ],
   "metadata": {
    "colab": {
     "base_uri": "https://localhost:8080/"
    },
    "id": "c52df3fae11e40cc",
    "outputId": "04b2309b-32f1-47f8-a3c9-89cc1ef03bf6",
    "ExecuteTime": {
     "end_time": "2023-09-11T13:30:07.313544100Z",
     "start_time": "2023-09-11T13:29:57.605034400Z"
    }
   },
   "id": "c52df3fae11e40cc"
  },
  {
   "cell_type": "markdown",
   "source": [
    "#### Load dataset normalized with mean / std from above"
   ],
   "metadata": {
    "collapsed": false,
    "id": "256125cee991731f"
   },
   "id": "256125cee991731f"
  },
  {
   "cell_type": "code",
   "execution_count": 24,
   "outputs": [],
   "source": [
    "enhanced_transforms = transforms.Compose([\n",
    "    transforms.Resize((32, 32)), # Transform so they go into the ResNet18 NN\n",
    "    transforms.ToTensor(),\n",
    "    transforms.Normalize(mean=mean, std=std), # With the before calculated mean, std values.\n",
    "])\n",
    "\n",
    "# Dataset with the correctly transformed images\n",
    "dataset = datasets.ImageFolder(root=images_path, transform=enhanced_transforms)\n",
    "\n",
    "classes = dataset.classes\n",
    "num_classes= len(dataset.classes)"
   ],
   "metadata": {
    "id": "e2be897fa1238bd8",
    "ExecuteTime": {
     "end_time": "2023-09-11T13:30:07.359882300Z",
     "start_time": "2023-09-11T13:30:07.308354600Z"
    }
   },
   "id": "e2be897fa1238bd8"
  },
  {
   "cell_type": "code",
   "execution_count": 25,
   "outputs": [
    {
     "name": "stdout",
     "output_type": "stream",
     "text": [
      "Dataset has classes: ['Queen', 'Rook', 'bishop', 'knight', 'pawn'] (length: 5) Dataset length: is 651\n",
      "==> Computing mean and std..\n",
      "Transformed images, mean is tensor([-8.0324e-07,  1.2079e-06, -2.7468e-08]) (should be ca. 0), std is tensor([1.0000, 1.0000, 1.0000]) (should be ca. 1)\n"
     ]
    }
   ],
   "source": [
    "print(f\"Dataset has classes: {classes} (length: {num_classes}) Dataset length: is {len(dataset)}\")\n",
    "\n",
    "mean_updated, std_updated = get_mean_and_std(dataset)\n",
    "print(f\"Transformed images, mean is {mean_updated} (should be ca. 0), std is {std_updated} (should be ca. 1)\")"
   ],
   "metadata": {
    "colab": {
     "base_uri": "https://localhost:8080/"
    },
    "id": "f9e9b96046f0247e",
    "outputId": "ada6a550-b524-45b6-c9ff-1fa82718d768",
    "ExecuteTime": {
     "end_time": "2023-09-11T13:30:12.953876300Z",
     "start_time": "2023-09-11T13:30:07.342795400Z"
    }
   },
   "id": "f9e9b96046f0247e"
  },
  {
   "cell_type": "markdown",
   "source": [
    "### Split Train and Test\n",
    "\n",
    "We use 80 random images for our test (at the end), and 80 as validation."
   ],
   "metadata": {
    "collapsed": false,
    "id": "46a2363a2f424b4a"
   },
   "id": "46a2363a2f424b4a"
  },
  {
   "cell_type": "code",
   "execution_count": 26,
   "outputs": [],
   "source": [
    "num_samples = len(dataset)\n",
    "indices = list(range(num_samples))\n",
    "np.random.shuffle(indices)\n",
    "\n",
    "# First 100 are Test data\n",
    "test_split = 120\n",
    "val_split = 240\n",
    "train_idx, valid_idx, test_idx = indices[val_split:], indices[test_split:val_split], indices[:test_split]\n",
    "\n",
    "# define samplers for obtaining training and validation batches\n",
    "train_sampler = SubsetRandomSampler(train_idx)\n",
    "valid_sampler = SubsetRandomSampler(valid_idx)\n",
    "test_sampler = SubsetRandomSampler(test_idx)"
   ],
   "metadata": {
    "id": "bda40924cf9e9597",
    "ExecuteTime": {
     "end_time": "2023-09-11T13:30:16.379527Z",
     "start_time": "2023-09-11T13:30:16.335349200Z"
    }
   },
   "id": "bda40924cf9e9597"
  },
  {
   "cell_type": "code",
   "execution_count": 27,
   "outputs": [
    {
     "name": "stdout",
     "output_type": "stream",
     "text": [
      "train_idx: 411, test_idx: 120, valid_idx: 120\n"
     ]
    }
   ],
   "source": [
    "print(f\"train_idx: {len(train_idx)}, test_idx: {len(test_idx)}, valid_idx: {len(valid_idx)}\")"
   ],
   "metadata": {
    "colab": {
     "base_uri": "https://localhost:8080/"
    },
    "id": "90e7f01d8eb918dd",
    "outputId": "5019a268-733a-41f6-ec61-341cb72ddce2",
    "ExecuteTime": {
     "end_time": "2023-09-11T13:30:22.552904500Z",
     "start_time": "2023-09-11T13:30:22.545690100Z"
    }
   },
   "id": "90e7f01d8eb918dd"
  },
  {
   "cell_type": "markdown",
   "source": [
    "#### Create the dataloaders\n",
    "We set a feasible batch size"
   ],
   "metadata": {
    "collapsed": false,
    "id": "8822e8a484574fc7"
   },
   "id": "8822e8a484574fc7"
  },
  {
   "cell_type": "code",
   "source": [
    "batch_size = 20\n",
    "\n",
    "train_loader = DataLoader(dataset, sampler=train_sampler, batch_size=batch_size)\n",
    "valid_loader = DataLoader(dataset, sampler=valid_sampler, batch_size=batch_size)\n",
    "test_loader = DataLoader(dataset, sampler=test_sampler, batch_size=batch_size)"
   ],
   "metadata": {
    "id": "Qe9CKBLpTjQb",
    "ExecuteTime": {
     "end_time": "2023-09-11T13:30:25.715325600Z",
     "start_time": "2023-09-11T13:30:25.705545400Z"
    }
   },
   "id": "Qe9CKBLpTjQb",
   "execution_count": 28,
   "outputs": []
  },
  {
   "cell_type": "markdown",
   "source": [
    "### Plot images"
   ],
   "metadata": {
    "id": "TL2OL31k-6ZZ"
   },
   "id": "TL2OL31k-6ZZ"
  },
  {
   "cell_type": "code",
   "source": [
    "import matplotlib.pyplot as plt\n",
    "%matplotlib inline\n",
    "\n",
    "# helper function to un-normalize and display an image\n",
    "def imshow(img):\n",
    "    img = img / 2 + 0.5  # unnormalize\n",
    "    plt.imshow(np.transpose(img, (1, 2, 0)))  # convert from Tensor image"
   ],
   "metadata": {
    "id": "MskYyfkeVnzM",
    "ExecuteTime": {
     "end_time": "2023-09-11T13:30:28.521302700Z",
     "start_time": "2023-09-11T13:30:28.515719800Z"
    }
   },
   "id": "MskYyfkeVnzM",
   "execution_count": 29,
   "outputs": []
  },
  {
   "cell_type": "code",
   "source": [
    "# obtain one batch of training images\n",
    "dataiter = iter(train_loader)\n",
    "images, labels = next(dataiter)\n",
    "images = images.numpy() # convert images to numpy for display\n",
    "\n",
    "# plot the images in the batch, along with the corresponding labels\n",
    "fig = plt.figure(figsize=(25, 4))\n",
    "# display 20 images\n",
    "for idx in np.arange(20):\n",
    "    ax = fig.add_subplot(2, int(20/2), idx+1, xticks=[], yticks=[])\n",
    "    image = images[idx]\n",
    "    image = image - np.amin(image)\n",
    "    image = image / np.amax(image)\n",
    "    imshow(image)\n",
    "    ax.set_title(classes[labels[idx]])"
   ],
   "metadata": {
    "colab": {
     "base_uri": "https://localhost:8080/",
     "height": 343
    },
    "id": "fURI0qHLV4tP",
    "outputId": "a94ac71d-50fb-4be2-8aa6-6ffb6bd3565a",
    "ExecuteTime": {
     "end_time": "2023-09-11T13:30:30.129452600Z",
     "start_time": "2023-09-11T13:30:28.951314100Z"
    }
   },
   "id": "fURI0qHLV4tP",
   "execution_count": 30,
   "outputs": [
    {
     "data": {
      "text/plain": "<Figure size 2500x400 with 20 Axes>",
      "image/png": "[encoded data removed]"
     },
     "metadata": {},
     "output_type": "display_data"
    }
   ]
  },
  {
   "cell_type": "markdown",
   "source": [
    "### Test for CUDA\n",
    "\n",
    "Make sure to install the correct CUDA version and packages, see: https://pytorch.org/get-started/locally/"
   ],
   "metadata": {
    "id": "IUVI5FlnygxS"
   },
   "id": "IUVI5FlnygxS"
  },
  {
   "cell_type": "code",
   "source": [
    "# check if CUDA is available\n",
    "device = 'cuda' if torch.cuda.is_available() else 'cpu'\n",
    "print(f'Using {device}')"
   ],
   "metadata": {
    "colab": {
     "base_uri": "https://localhost:8080/"
    },
    "id": "J4o4lrSAybBi",
    "outputId": "48b011de-7972-40d0-951d-971c4d0a43e9",
    "ExecuteTime": {
     "end_time": "2023-09-11T13:30:34.648702700Z",
     "start_time": "2023-09-11T13:30:34.617596Z"
    }
   },
   "id": "J4o4lrSAybBi",
   "execution_count": 31,
   "outputs": [
    {
     "name": "stdout",
     "output_type": "stream",
     "text": [
      "Using cuda\n"
     ]
    }
   ]
  },
  {
   "cell_type": "markdown",
   "source": [
    "### Train the Network\n",
    "\n",
    "Remember to look at how the training and validation loss decreases over time; if the validation loss ever increases it indicates possible overfitting."
   ],
   "metadata": {
    "id": "brdgD_8TUapl"
   },
   "id": "brdgD_8TUapl"
  },
  {
   "cell_type": "code",
   "source": [
    "# Define the network: ResNet\n",
    "net = ResNet50(num_classes)\n",
    "net.to(device)\n",
    "\n",
    "# specify loss function\n",
    "criterion = torch.nn.CrossEntropyLoss()\n",
    "\n",
    "# Optimizer and momentum\n",
    "optimizer = torch.optim.Adam(net.parameters(), lr=0.01)\n",
    "\n",
    "model = net\n",
    "train_on_gpu = torch.cuda.is_available()\n",
    "\n",
    "print(f\"Train on GPU: {train_on_gpu}\")"
   ],
   "metadata": {
    "colab": {
     "base_uri": "https://localhost:8080/"
    },
    "id": "TWzZDZRiWNMd",
    "outputId": "29a4f290-7f49-47b7-ad18-6ecd8f48d229",
    "ExecuteTime": {
     "end_time": "2023-09-11T13:30:51.833684500Z",
     "start_time": "2023-09-11T13:30:51.535866500Z"
    }
   },
   "id": "TWzZDZRiWNMd",
   "execution_count": 32,
   "outputs": [
    {
     "name": "stdout",
     "output_type": "stream",
     "text": [
      "Train on GPU: True\n"
     ]
    }
   ]
  },
  {
   "cell_type": "code",
   "execution_count": 33,
   "outputs": [
    {
     "name": "stdout",
     "output_type": "stream",
     "text": [
      "Epoch: 1 \tTraining Loss: 3.493585 \tValidation Loss: 216055.158410\n",
      "Validation loss decreased (inf --> 216055.158410).  Saving model ...\n",
      "Epoch: 2 \tTraining Loss: 1.487482 \tValidation Loss: 226.629598\n",
      "Validation loss decreased (216055.158410 --> 226.629598).  Saving model ...\n",
      "Epoch: 3 \tTraining Loss: 1.623260 \tValidation Loss: 14.376955\n",
      "Validation loss decreased (226.629598 --> 14.376955).  Saving model ...\n",
      "Epoch: 4 \tTraining Loss: 1.204789 \tValidation Loss: 2.541822\n",
      "Validation loss decreased (14.376955 --> 2.541822).  Saving model ...\n",
      "Epoch: 5 \tTraining Loss: 1.138053 \tValidation Loss: 0.363961\n",
      "Validation loss decreased (2.541822 --> 0.363961).  Saving model ...\n",
      "Epoch: 6 \tTraining Loss: 1.068548 \tValidation Loss: 0.441158\n",
      "Epoch: 7 \tTraining Loss: 1.053932 \tValidation Loss: 0.337718\n",
      "Validation loss decreased (0.363961 --> 0.337718).  Saving model ...\n",
      "Epoch: 8 \tTraining Loss: 1.091563 \tValidation Loss: 0.385026\n",
      "Epoch: 9 \tTraining Loss: 1.028947 \tValidation Loss: 0.294729\n",
      "Validation loss decreased (0.337718 --> 0.294729).  Saving model ...\n",
      "Epoch: 10 \tTraining Loss: 1.068245 \tValidation Loss: 0.356781\n",
      "Epoch: 11 \tTraining Loss: 1.027576 \tValidation Loss: 0.293280\n",
      "Validation loss decreased (0.294729 --> 0.293280).  Saving model ...\n",
      "Epoch: 12 \tTraining Loss: 1.013820 \tValidation Loss: 0.294097\n",
      "Epoch: 13 \tTraining Loss: 1.031094 \tValidation Loss: 4.629341\n",
      "Epoch: 14 \tTraining Loss: 1.040839 \tValidation Loss: 0.372402\n",
      "Epoch: 15 \tTraining Loss: 1.028725 \tValidation Loss: 0.339867\n",
      "Epoch: 16 \tTraining Loss: 0.998236 \tValidation Loss: 0.301448\n",
      "Epoch: 17 \tTraining Loss: 1.002999 \tValidation Loss: 0.311300\n",
      "Epoch: 18 \tTraining Loss: 0.995084 \tValidation Loss: 0.296930\n",
      "Epoch: 19 \tTraining Loss: 0.995647 \tValidation Loss: 0.311836\n",
      "Epoch: 20 \tTraining Loss: 0.996618 \tValidation Loss: 0.295454\n",
      "Epoch: 21 \tTraining Loss: 0.988817 \tValidation Loss: 0.300114\n",
      "Epoch: 22 \tTraining Loss: 0.989274 \tValidation Loss: 0.295716\n",
      "Epoch: 23 \tTraining Loss: 0.994453 \tValidation Loss: 0.307260\n",
      "Epoch: 24 \tTraining Loss: 0.998538 \tValidation Loss: 0.300284\n",
      "Epoch: 25 \tTraining Loss: 0.985410 \tValidation Loss: 0.300995\n",
      "Epoch: 26 \tTraining Loss: 1.012859 \tValidation Loss: 0.293310\n",
      "Epoch: 27 \tTraining Loss: 0.999129 \tValidation Loss: 0.310352\n",
      "Epoch: 28 \tTraining Loss: 0.988971 \tValidation Loss: 0.301166\n",
      "Epoch: 29 \tTraining Loss: 0.984977 \tValidation Loss: 0.297367\n",
      "Epoch: 30 \tTraining Loss: 0.980969 \tValidation Loss: 0.306065\n",
      "Epoch: 31 \tTraining Loss: 0.986764 \tValidation Loss: 0.303646\n",
      "Epoch: 32 \tTraining Loss: 0.980331 \tValidation Loss: 0.293088\n",
      "Validation loss decreased (0.293280 --> 0.293088).  Saving model ...\n",
      "Epoch: 33 \tTraining Loss: 0.977314 \tValidation Loss: 0.308213\n",
      "Epoch: 34 \tTraining Loss: 0.975524 \tValidation Loss: 0.292423\n",
      "Validation loss decreased (0.293088 --> 0.292423).  Saving model ...\n",
      "Epoch: 35 \tTraining Loss: 0.973143 \tValidation Loss: 0.304664\n",
      "Epoch: 36 \tTraining Loss: 0.957318 \tValidation Loss: 0.292062\n",
      "Validation loss decreased (0.292423 --> 0.292062).  Saving model ...\n",
      "Epoch: 37 \tTraining Loss: 0.978145 \tValidation Loss: 0.310190\n",
      "Epoch: 38 \tTraining Loss: 0.999457 \tValidation Loss: 0.309253\n",
      "Epoch: 39 \tTraining Loss: 0.973988 \tValidation Loss: 0.303737\n",
      "Epoch: 40 \tTraining Loss: 0.975180 \tValidation Loss: 0.291704\n",
      "Validation loss decreased (0.292062 --> 0.291704).  Saving model ...\n",
      "Epoch: 41 \tTraining Loss: 0.954925 \tValidation Loss: 0.301611\n",
      "Epoch: 42 \tTraining Loss: 0.944885 \tValidation Loss: 0.299898\n",
      "Epoch: 43 \tTraining Loss: 0.963614 \tValidation Loss: 0.293860\n",
      "Epoch: 44 \tTraining Loss: 0.942762 \tValidation Loss: 0.289995\n",
      "Validation loss decreased (0.291704 --> 0.289995).  Saving model ...\n",
      "Epoch: 45 \tTraining Loss: 0.922575 \tValidation Loss: 0.305167\n",
      "Epoch: 46 \tTraining Loss: 0.975262 \tValidation Loss: 0.309678\n",
      "Epoch: 47 \tTraining Loss: 0.970350 \tValidation Loss: 0.294390\n",
      "Epoch: 48 \tTraining Loss: 0.935191 \tValidation Loss: 0.280576\n",
      "Validation loss decreased (0.289995 --> 0.280576).  Saving model ...\n",
      "Epoch: 49 \tTraining Loss: 0.922745 \tValidation Loss: 0.286764\n",
      "Epoch: 50 \tTraining Loss: 0.913625 \tValidation Loss: 0.286497\n",
      "Epoch: 51 \tTraining Loss: 0.910208 \tValidation Loss: 0.278947\n",
      "Validation loss decreased (0.280576 --> 0.278947).  Saving model ...\n",
      "Epoch: 52 \tTraining Loss: 0.895770 \tValidation Loss: 0.338811\n",
      "Epoch: 53 \tTraining Loss: 0.897445 \tValidation Loss: 0.283269\n",
      "Epoch: 54 \tTraining Loss: 0.906259 \tValidation Loss: 0.308378\n",
      "Epoch: 55 \tTraining Loss: 0.872024 \tValidation Loss: 0.287848\n",
      "Epoch: 56 \tTraining Loss: 0.872384 \tValidation Loss: 0.293652\n",
      "Epoch: 57 \tTraining Loss: 0.852974 \tValidation Loss: 0.409803\n",
      "Epoch: 58 \tTraining Loss: 0.831021 \tValidation Loss: 0.297816\n",
      "Epoch: 59 \tTraining Loss: 0.841816 \tValidation Loss: 0.265116\n",
      "Validation loss decreased (0.278947 --> 0.265116).  Saving model ...\n",
      "Epoch: 60 \tTraining Loss: 0.788420 \tValidation Loss: 0.248151\n",
      "Validation loss decreased (0.265116 --> 0.248151).  Saving model ...\n",
      "Epoch: 61 \tTraining Loss: 0.771667 \tValidation Loss: 0.243859\n",
      "Validation loss decreased (0.248151 --> 0.243859).  Saving model ...\n",
      "Epoch: 62 \tTraining Loss: 0.773526 \tValidation Loss: 0.347895\n",
      "Epoch: 63 \tTraining Loss: 0.774863 \tValidation Loss: 0.263080\n",
      "Epoch: 64 \tTraining Loss: 0.748336 \tValidation Loss: 0.261770\n",
      "Epoch: 65 \tTraining Loss: 0.782460 \tValidation Loss: 0.259938\n",
      "Epoch: 66 \tTraining Loss: 0.732500 \tValidation Loss: 0.257461\n",
      "Epoch: 67 \tTraining Loss: 0.685727 \tValidation Loss: 0.374373\n",
      "Epoch: 68 \tTraining Loss: 0.712987 \tValidation Loss: 0.260604\n",
      "Epoch: 69 \tTraining Loss: 0.693834 \tValidation Loss: 0.245355\n",
      "Epoch: 70 \tTraining Loss: 0.655567 \tValidation Loss: 0.249099\n",
      "Epoch: 71 \tTraining Loss: 0.672925 \tValidation Loss: 0.243674\n",
      "Validation loss decreased (0.243859 --> 0.243674).  Saving model ...\n",
      "Epoch: 72 \tTraining Loss: 0.629546 \tValidation Loss: 0.339744\n",
      "Epoch: 73 \tTraining Loss: 0.654803 \tValidation Loss: 0.345636\n",
      "Epoch: 74 \tTraining Loss: 0.658825 \tValidation Loss: 0.261371\n",
      "Epoch: 75 \tTraining Loss: 0.582084 \tValidation Loss: 0.395293\n",
      "Epoch: 76 \tTraining Loss: 0.581526 \tValidation Loss: 0.388362\n",
      "Epoch: 77 \tTraining Loss: 0.588260 \tValidation Loss: 0.255523\n",
      "Epoch: 78 \tTraining Loss: 0.608516 \tValidation Loss: 0.288927\n",
      "Epoch: 79 \tTraining Loss: 0.633544 \tValidation Loss: 0.305277\n",
      "Epoch: 80 \tTraining Loss: 0.585496 \tValidation Loss: 0.277264\n",
      "Epoch: 81 \tTraining Loss: 0.529399 \tValidation Loss: 0.300330\n",
      "Epoch: 82 \tTraining Loss: 0.496673 \tValidation Loss: 0.378033\n",
      "Epoch: 83 \tTraining Loss: 0.539318 \tValidation Loss: 0.276612\n",
      "Epoch: 84 \tTraining Loss: 0.516876 \tValidation Loss: 0.330015\n",
      "Epoch: 85 \tTraining Loss: 0.462242 \tValidation Loss: 0.269985\n",
      "Epoch: 86 \tTraining Loss: 0.443568 \tValidation Loss: 0.305981\n",
      "Epoch: 87 \tTraining Loss: 0.484873 \tValidation Loss: 0.415285\n",
      "Epoch: 88 \tTraining Loss: 0.421934 \tValidation Loss: 0.283472\n",
      "Epoch: 89 \tTraining Loss: 0.438659 \tValidation Loss: 0.363254\n",
      "Epoch: 90 \tTraining Loss: 0.432197 \tValidation Loss: 0.294678\n",
      "Epoch: 91 \tTraining Loss: 0.379121 \tValidation Loss: 0.346340\n",
      "Epoch: 92 \tTraining Loss: 0.397579 \tValidation Loss: 0.322547\n",
      "Epoch: 93 \tTraining Loss: 0.336357 \tValidation Loss: 0.305394\n",
      "Epoch: 94 \tTraining Loss: 0.384619 \tValidation Loss: 0.251487\n",
      "Epoch: 95 \tTraining Loss: 0.348210 \tValidation Loss: 0.304255\n",
      "Epoch: 96 \tTraining Loss: 0.297583 \tValidation Loss: 0.404079\n",
      "Epoch: 97 \tTraining Loss: 0.263618 \tValidation Loss: 0.563636\n",
      "Epoch: 98 \tTraining Loss: 0.257587 \tValidation Loss: 0.430342\n",
      "Epoch: 99 \tTraining Loss: 0.278624 \tValidation Loss: 0.363955\n",
      "Epoch: 100 \tTraining Loss: 0.300706 \tValidation Loss: 0.345659\n"
     ]
    }
   ],
   "source": [
    "# number of epochs to train the model\n",
    "n_epochs = 100 # you may increase this number to train a final model\n",
    "\n",
    "valid_loss_min = np.Inf # track change in validation loss\n",
    "\n",
    "for epoch in range(1, n_epochs+1):\n",
    "\n",
    "    # keep track of training and validation loss\n",
    "    train_loss = 0.0\n",
    "    valid_loss = 0.0\n",
    "\n",
    "    ###################\n",
    "    # train the model #\n",
    "    ###################\n",
    "    model.train()\n",
    "    for data, target in train_loader:\n",
    "        # move tensors to GPU if CUDA is available\n",
    "        if train_on_gpu:\n",
    "            data, target = data.cuda(), target.cuda()\n",
    "        # clear the gradients of all optimized variables\n",
    "        optimizer.zero_grad()\n",
    "        # forward pass: compute predicted outputs by passing inputs to the model\n",
    "        output = model(data)\n",
    "        # calculate the batch loss\n",
    "        loss = criterion(output, target)\n",
    "        # backward pass: compute gradient of the loss with respect to model parameters\n",
    "        loss.backward()\n",
    "        # perform a single optimization step (parameter update)\n",
    "        optimizer.step()\n",
    "        # update training loss\n",
    "        train_loss += loss.item()*data.size(0)\n",
    "\n",
    "    ######################\n",
    "    # validate the model #\n",
    "    ######################\n",
    "    model.eval()\n",
    "    for data, target in valid_loader:\n",
    "        # move tensors to GPU if CUDA is available\n",
    "        if train_on_gpu:\n",
    "            data, target = data.cuda(), target.cuda()\n",
    "        # forward pass: compute predicted outputs by passing inputs to the model\n",
    "        output = model(data)\n",
    "        # calculate the batch loss\n",
    "        loss = criterion(output, target)\n",
    "        # update average validation loss\n",
    "        valid_loss += loss.item()*data.size(0)\n",
    "\n",
    "    # calculate average losses\n",
    "    train_loss = train_loss/len(train_loader.dataset)\n",
    "    valid_loss = valid_loss/len(valid_loader.dataset)\n",
    "\n",
    "    # print training/validation statistics\n",
    "    print('Epoch: {} \\tTraining Loss: {:.6f} \\tValidation Loss: {:.6f}'.format(\n",
    "        epoch, train_loss, valid_loss))\n",
    "\n",
    "    # save model if validation loss has decreased\n",
    "    if valid_loss <= valid_loss_min:\n",
    "        print('Validation loss decreased ({:.6f} --> {:.6f}).  Saving model ...'.format(\n",
    "        valid_loss_min,\n",
    "        valid_loss))\n",
    "        torch.save(model.state_dict(), 'model_cifar.pt')\n",
    "        valid_loss_min = valid_loss"
   ],
   "metadata": {
    "id": "b6c26a9ebbc10e99",
    "colab": {
     "base_uri": "https://localhost:8080/"
    },
    "outputId": "a7005836-3afa-43c5-a6ea-2a45c1c6e056",
    "ExecuteTime": {
     "end_time": "2023-09-11T13:36:13.501525900Z",
     "start_time": "2023-09-11T13:30:53.021387500Z"
    }
   },
   "id": "b6c26a9ebbc10e99"
  },
  {
   "cell_type": "markdown",
   "source": [
    "###  Load the Model with the Lowest Validation Loss\n"
   ],
   "metadata": {
    "id": "BlbneuXNUc0g"
   },
   "id": "BlbneuXNUc0g"
  },
  {
   "cell_type": "code",
   "source": [
    "model.load_state_dict(torch.load('model_cifar.pt'))\n"
   ],
   "metadata": {
    "colab": {
     "base_uri": "https://localhost:8080/"
    },
    "id": "6X994z2wUPDE",
    "outputId": "220039f5-98c7-447b-adab-528b659922cf",
    "ExecuteTime": {
     "end_time": "2023-09-11T13:39:40.242576Z",
     "start_time": "2023-09-11T13:39:40.050778700Z"
    }
   },
   "id": "6X994z2wUPDE",
   "execution_count": 35,
   "outputs": [
    {
     "data": {
      "text/plain": "<All keys matched successfully>"
     },
     "execution_count": 35,
     "metadata": {},
     "output_type": "execute_result"
    }
   ]
  },
  {
   "cell_type": "markdown",
   "source": [
    "---\n",
    "## Test the Trained Network\n",
    "\n",
    "Test your trained model on previously unseen data! A \"good\" result will be a CNN that gets around 70% (or more, try your best!) accuracy on these test images."
   ],
   "metadata": {
    "id": "SgHJ6d-QUeIv"
   },
   "id": "SgHJ6d-QUeIv"
  },
  {
   "cell_type": "code",
   "source": [
    "# track test loss\n",
    "test_loss = 0.0\n",
    "class_correct = list(0. for i in range(num_classes))\n",
    "class_total = list(0. for i in range(num_classes))\n",
    "\n",
    "model.eval()\n",
    "# iterate over test data\n",
    "for data, target in test_loader:\n",
    "    # move tensors to GPU if CUDA is available\n",
    "    if train_on_gpu:\n",
    "        data, target = data.cuda(), target.cuda()\n",
    "    # forward pass: compute predicted outputs by passing inputs to the model\n",
    "    output = model(data)\n",
    "    # calculate the batch loss\n",
    "    loss = criterion(output, target)\n",
    "    # update test loss\n",
    "    test_loss += loss.item()*data.size(0)\n",
    "    # convert output probabilities to predicted class\n",
    "    _, pred = torch.max(output, 1)\n",
    "    # compare predictions to true label\n",
    "    correct_tensor = pred.eq(target.data.view_as(pred))\n",
    "    correct = np.squeeze(correct_tensor.numpy()) if not train_on_gpu else np.squeeze(correct_tensor.cpu().numpy())\n",
    "    # calculate test accuracy for each object class\n",
    "    for i in range(batch_size):\n",
    "        label = target.data[i]\n",
    "        class_correct[label] += correct[i].item()\n",
    "        class_total[label] += 1\n",
    "\n",
    "# average test loss\n",
    "test_loss = test_loss/len(test_loader.dataset)\n",
    "print('Test Loss: {:.6f}\\n'.format(test_loss))\n",
    "\n",
    "for i in range(num_classes):\n",
    "    if class_total[i] > 0:\n",
    "        print('Test Accuracy of %5s: %2d%% (%2d/%2d)' % (\n",
    "            classes[i], 100 * class_correct[i] / class_total[i],\n",
    "            np.sum(class_correct[i]), np.sum(class_total[i])))\n",
    "    else:\n",
    "        print('Test Accuracy of %5s: N/A (no training examples)' % (classes[i]))\n",
    "\n",
    "print('\\nTest Accuracy (Overall): %2d%% (%2d/%2d)' % (\n",
    "    100. * np.sum(class_correct) / np.sum(class_total),\n",
    "    np.sum(class_correct), np.sum(class_total)))"
   ],
   "metadata": {
    "colab": {
     "base_uri": "https://localhost:8080/"
    },
    "id": "qauYOZJdUSAw",
    "outputId": "0d6ba2d7-ef12-4e0f-ba2a-ac7a644ea878",
    "ExecuteTime": {
     "end_time": "2023-09-11T13:39:42.026487300Z",
     "start_time": "2023-09-11T13:39:40.890162600Z"
    }
   },
   "id": "qauYOZJdUSAw",
   "execution_count": 36,
   "outputs": [
    {
     "name": "stdout",
     "output_type": "stream",
     "text": [
      "Test Loss: 0.306660\n",
      "\n",
      "Test Accuracy of Queen:  5% ( 1/20)\n",
      "Test Accuracy of  Rook: 50% (10/20)\n",
      "Test Accuracy of bishop: 48% (15/31)\n",
      "Test Accuracy of knight: 53% (16/30)\n",
      "Test Accuracy of  pawn: 10% ( 2/19)\n",
      "\n",
      "Test Accuracy (Overall): 36% (44/120)\n"
     ]
    }
   ]
  },
  {
   "cell_type": "code",
   "source": [
    "# obtain one batch of test images\n",
    "dataiter = iter(test_loader)\n",
    "images, labels = next(dataiter)\n",
    "images.numpy()\n",
    "\n",
    "# move model inputs to cuda, if GPU available\n",
    "if train_on_gpu:\n",
    "    images = images.cuda()\n",
    "\n",
    "# get sample outputs\n",
    "output = model(images)\n",
    "# convert output probabilities to predicted class\n",
    "_, preds_tensor = torch.max(output, 1)\n",
    "preds = np.squeeze(preds_tensor.numpy()) if not train_on_gpu else np.squeeze(preds_tensor.cpu().numpy())\n",
    "\n",
    "# plot the images in the batch, along with predicted and true labels\n",
    "fig = plt.figure(figsize=(25, 4))\n",
    "\n",
    "amount_images = 20\n",
    "image_per_row = 10\n",
    "for idx in np.arange(amount_images):\n",
    "    ax = fig.add_subplot(int(amount_images / image_per_row), image_per_row, idx+1, xticks=[], yticks=[])\n",
    "    image = images.cpu()[idx]\n",
    "    image = image - torch.amin(image)\n",
    "    image = image / torch.amax(image)\n",
    "    imshow(image)\n",
    "    ax.set_title(\"{} ({})\".format(classes[preds[idx]], classes[labels[idx]]),\n",
    "                 color=(\"green\" if preds[idx]==labels[idx].item() else \"red\"))"
   ],
   "metadata": {
    "colab": {
     "base_uri": "https://localhost:8080/",
     "height": 343
    },
    "id": "vssZYpcJbaNP",
    "outputId": "7b4c9401-34c6-47a2-e5b7-efae60b6dd6b",
    "ExecuteTime": {
     "end_time": "2023-09-11T13:39:44.969048Z",
     "start_time": "2023-09-11T13:39:43.800566Z"
    }
   },
   "id": "vssZYpcJbaNP",
   "execution_count": 37,
   "outputs": [
    {
     "data": {
      "text/plain": "<Figure size 2500x400 with 20 Axes>",
      "image/png": "[encoded data removed]"
     },
     "metadata": {},
     "output_type": "display_data"
    }
   ]
  },
  {
   "cell_type": "code",
   "source": [],
   "metadata": {
    "id": "ktVoLM3UHjdG",
    "ExecuteTime": {
     "end_time": "2023-09-11T13:39:44.969048Z",
     "start_time": "2023-09-11T13:39:44.928720400Z"
    }
   },
   "id": "ktVoLM3UHjdG",
   "execution_count": 37,
   "outputs": []
  },
  {
   "cell_type": "code",
   "execution_count": null,
   "outputs": [],
   "source": [],
   "metadata": {
    "collapsed": false
   },
   "id": "644cdc7f45297192"
  }
 ],
 "metadata": {
  "kernelspec": {
   "name": "python3",
   "language": "python",
   "display_name": "Python 3 (ipykernel)"
  },
  "language_info": {
   "codemirror_mode": {
    "name": "ipython",
    "version": 2
   },
   "file_extension": ".py",
   "mimetype": "text/x-python",
   "name": "python",
   "nbconvert_exporter": "python",
   "pygments_lexer": "ipython2",
   "version": "2.7.6"
  },
  "colab": {
   "provenance": [],
   "machine_shape": "hm",
   "gpuType": "T4"
  },
  "accelerator": "GPU"
 },
 "nbformat": 4,
 "nbformat_minor": 5
}
