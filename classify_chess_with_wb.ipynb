{
 "cells": [
  {
   "cell_type": "markdown",
   "metadata": {
    "id": "GTtL3wysaWBQ"
   },
   "source": [
    "<a href=\"https://colab.research.google.com/github/wandb/examples/blob/master/colabs/pytorch/Simple_PyTorch_Integration.ipynb\" target=\"_parent\"><img src=\"https://colab.research.google.com/assets/colab-badge.svg\" alt=\"Open In Colab\"/></a>\n",
    "<!--- @wandbcode{pytorch-video} -->"
   ]
  },
  {
   "cell_type": "markdown",
   "metadata": {
    "id": "8Fz3yktSaWBU"
   },
   "source": [
    "<img src=\"http://wandb.me/logo-im-png\" width=\"400\" alt=\"Weights & Biases\" />\n",
    "\n",
    "<!--- @wandbcode{pytorch-video} -->\n"
   ]
  },
  {
   "cell_type": "markdown",
   "metadata": {
    "id": "rXmuVGacaWBV"
   },
   "source": [
    "# 🔥 = W&B ➕ PyTorch"
   ]
  },
  {
   "cell_type": "markdown",
   "metadata": {
    "id": "oZIOtwhNaWBV"
   },
   "source": [
    "\n",
    "Use [Weights & Biases](https://wandb.com) for machine learning experiment tracking, dataset versioning, and project collaboration.\n",
    "\n",
    "<div><img /></div>\n",
    "\n",
    "<img src=\"https://wandb.me/mini-diagram\" width=\"650\" alt=\"Weights & Biases\" />\n",
    "\n",
    "<div><img /></div>\n",
    "\n"
   ]
  },
  {
   "cell_type": "markdown",
   "metadata": {
    "id": "5z-JX73taWBW"
   },
   "source": [
    "\n",
    "## What this notebook covers:\n",
    "\n",
    "We show you how to integrate Weights & Biases with your PyTorch code to add experiment tracking to your pipeline.\n",
    "\n",
    "## The resulting interactive W&B dashboard will look like:\n",
    "![](https://i.imgur.com/z8TK2Et.png)\n",
    "\n",
    "## In pseudocode, what we'll do is:\n",
    "```python\n",
    "# import the library\n",
    "import wandb\n",
    "\n",
    "# start a new experiment\n",
    "wandb.init(project=\"new-sota-model\")\n",
    "\n",
    "# capture a dictionary of hyperparameters with config\n",
    "wandb.config = {\"learning_rate\": 0.001, \"epochs\": 100, \"batch_size\": 128}\n",
    "\n",
    "# set up model and data\n",
    "model, dataloader = get_model(), get_data()\n",
    "\n",
    "# optional: track gradients\n",
    "wandb.watch(model)\n",
    "\n",
    "for batch in dataloader:\n",
    "  metrics = model.training_step()\n",
    "  # log metrics inside your training loop to visualize model performance\n",
    "  wandb.log(metrics)\n",
    "\n",
    "# optional: save model at the end\n",
    "model.to_onnx()\n",
    "wandb.save(\"model.onnx\")\n",
    "```"
   ]
  },
  {
   "cell_type": "markdown",
   "metadata": {
    "id": "pHYxs2tVaWBW"
   },
   "source": [
    "\n",
    "\n",
    "## Follow along with a [video tutorial](http://wandb.me/pytorch-video)!\n",
    "**Note**: Sections starting with _Step_ are all you need to integrate W&B in an existing pipeline. The rest just loads data and defines a model."
   ]
  },
  {
   "cell_type": "markdown",
   "metadata": {
    "id": "wi1QfFeTaWBW"
   },
   "source": [
    "# 🚀 Install, Import, and Log In"
   ]
  },
  {
   "cell_type": "markdown",
   "metadata": {
    "id": "OSb_aTTgaWBX"
   },
   "source": [
    "### 0️⃣ Step 0: Install W&B"
   ]
  },
  {
   "cell_type": "markdown",
   "metadata": {
    "id": "QxTZFvpwaWBX"
   },
   "source": [
    "To get started, we'll need to get the library.\n",
    "`wandb` is easily installed using `pip`."
   ]
  },
  {
   "cell_type": "code",
   "execution_count": 51,
   "metadata": {
    "id": "gN4a1PoiaWBY",
    "ExecuteTime": {
     "end_time": "2023-09-21T16:06:01.741515Z",
     "start_time": "2023-09-21T16:05:51.985696Z"
    }
   },
   "outputs": [
    {
     "name": "stdout",
     "output_type": "stream",
     "text": [
      "\r\n",
      "\u001B[1m[\u001B[0m\u001B[34;49mnotice\u001B[0m\u001B[1;39;49m]\u001B[0m\u001B[39;49m A new release of pip available: \u001B[0m\u001B[31;49m22.3.1\u001B[0m\u001B[39;49m -> \u001B[0m\u001B[32;49m23.2.1\u001B[0m\r\n",
      "\u001B[1m[\u001B[0m\u001B[34;49mnotice\u001B[0m\u001B[1;39;49m]\u001B[0m\u001B[39;49m To update, run: \u001B[0m\u001B[32;49mpip install --upgrade pip\u001B[0m\r\n"
     ]
    }
   ],
   "source": [
    "!pip install wandb onnx -Uq"
   ]
  },
  {
   "cell_type": "code",
   "execution_count": 52,
   "metadata": {
    "id": "QiYBUMMWaWBZ",
    "ExecuteTime": {
     "end_time": "2023-09-21T16:06:01.779886Z",
     "start_time": "2023-09-21T16:06:01.761785Z"
    }
   },
   "outputs": [],
   "source": [
    "import os\n",
    "import random\n",
    "\n",
    "import numpy as np\n",
    "import torch\n",
    "import torch.nn as nn\n",
    "import torchvision\n",
    "import torchvision.transforms as transforms\n",
    "from tqdm.auto import tqdm\n",
    "\n",
    "# Ensure deterministic behavior\n",
    "torch.backends.cudnn.deterministic = True\n",
    "random.seed(hash(\"setting random seeds\") % 2**32 - 1)\n",
    "np.random.seed(hash(\"improves reproducibility\") % 2**32 - 1)\n",
    "torch.manual_seed(hash(\"by removing stochasticity\") % 2**32 - 1)\n",
    "torch.cuda.manual_seed_all(hash(\"so runs are repeatable\") % 2**32 - 1)\n",
    "\n",
    "# Device configuration\n",
    "device = torch.device(\"cuda:0\" if torch.cuda.is_available() else \"cpu\")\n",
    "\n",
    "# remove slow mirror from list of MNIST mirrors\n",
    "torchvision.datasets.MNIST.mirrors = [mirror for mirror in torchvision.datasets.MNIST.mirrors\n",
    "                                      if not mirror.startswith(\"http://yann.lecun.com\")]"
   ]
  },
  {
   "cell_type": "markdown",
   "metadata": {
    "id": "91JaKWQ-aWBZ"
   },
   "source": [
    "### 1️⃣ Step 1: Import W&B and Login"
   ]
  },
  {
   "cell_type": "markdown",
   "metadata": {
    "id": "4pZwF8rzaWBZ"
   },
   "source": [
    "In order to log data to our web service,\n",
    "you'll need to log in.\n",
    "\n",
    "If this is your first time using W&B,\n",
    "you'll need to sign up for a free account at the link that appears."
   ]
  },
  {
   "cell_type": "code",
   "execution_count": 53,
   "metadata": {
    "id": "LQmc_F90aWBZ",
    "ExecuteTime": {
     "end_time": "2023-09-21T16:06:01.812318Z",
     "start_time": "2023-09-21T16:06:01.781209Z"
    }
   },
   "outputs": [
    {
     "data": {
      "text/plain": "True"
     },
     "execution_count": 53,
     "metadata": {},
     "output_type": "execute_result"
    }
   ],
   "source": [
    "import wandb\n",
    "\n",
    "wandb.login()"
   ]
  },
  {
   "cell_type": "markdown",
   "metadata": {
    "id": "mNi1efx5aWBa"
   },
   "source": [
    "# 👩‍🔬 Define the Experiment and Pipeline"
   ]
  },
  {
   "cell_type": "markdown",
   "metadata": {
    "id": "W0qQPcPtaWBa"
   },
   "source": [
    "## 2️⃣ Step 2: Track metadata and hyperparameters with `wandb.init`"
   ]
  },
  {
   "cell_type": "markdown",
   "metadata": {
    "id": "sVGDTymVaWBa"
   },
   "source": [
    "Programmatically, the first thing we do is define our experiment:\n",
    "what are the hyperparameters? what metadata is associated with this run?\n",
    "\n",
    "It's a pretty common workflow to store this information in a `config` dictionary\n",
    "(or similar object)\n",
    "and then access it as needed.\n",
    "\n",
    "For this example, we're only letting a few hyperparameters vary\n",
    "and hand-coding the rest.\n",
    "But any part of your model can be part of the `config`!\n",
    "\n",
    "We also include some metadata: we're using the MNIST dataset and a convolutional\n",
    "architecture. If we later work with, say,\n",
    "fully-connected architectures on CIFAR in the same project,\n",
    "this will help us separate our runs."
   ]
  },
  {
   "cell_type": "code",
   "execution_count": 78,
   "metadata": {
    "id": "9EHXvwtiaWBa",
    "ExecuteTime": {
     "end_time": "2023-09-21T16:35:25.682860Z",
     "start_time": "2023-09-21T16:35:25.658125Z"
    }
   },
   "outputs": [],
   "source": [
    "config = dict(\n",
    "    epochs=10,\n",
    "    classes=5,\n",
    "    # kernels=[16, 32],\n",
    "    batch_size=10,\n",
    "    learning_rate=0.01,\n",
    "    dataset=\"MNIST\",\n",
    "    architecture=\"CNN\")"
   ]
  },
  {
   "cell_type": "markdown",
   "metadata": {
    "id": "6LFctTmcaWBa"
   },
   "source": [
    "Now, let's define the overall pipeline,\n",
    "which is pretty typical for model-training:\n",
    "\n",
    "1. we first `make` a model, plus associated data and optimizer, then\n",
    "2. we `train` the model accordingly and finally\n",
    "3. `test` it to see how training went.\n",
    "\n",
    "We'll implement these functions below."
   ]
  },
  {
   "cell_type": "code",
   "execution_count": 66,
   "metadata": {
    "id": "OhEjPpyFaWBa",
    "ExecuteTime": {
     "end_time": "2023-09-21T16:23:52.975845Z",
     "start_time": "2023-09-21T16:23:52.929595Z"
    }
   },
   "outputs": [],
   "source": [
    "def model_pipeline(hyperparameters):\n",
    "\n",
    "    # tell wandb to get started\n",
    "    with wandb.init(project=\"classify-chess-pieces\", config=hyperparameters):\n",
    "      # access all HPs through wandb.config, so logging matches execution!\n",
    "      config = wandb.config\n",
    "\n",
    "      # make the model, data, and optimization problem\n",
    "      model, train_loader, test_loader, criterion, optimizer = make(config)\n",
    "      print(model)\n",
    "\n",
    "      # and use them to train the model\n",
    "      train(model, train_loader, criterion, optimizer, config)\n",
    "\n",
    "      # and test its final performance\n",
    "      test(model, test_loader)\n",
    "\n",
    "    return model"
   ]
  },
  {
   "cell_type": "markdown",
   "metadata": {
    "id": "iqQlwp_BaWBb"
   },
   "source": [
    "The only difference here from a standard pipeline\n",
    "is that it all occurs inside the context of `wandb.init`.\n",
    "Calling this function sets up a line of communication\n",
    "between your code and our servers.\n",
    "\n",
    "Passing the `config` dictionary to `wandb.init`\n",
    "immediately logs all that information to us,\n",
    "so you'll always know what hyperparameter values\n",
    "you set your experiment to use.\n",
    "\n",
    "To ensure the values you chose and logged are always the ones that get used\n",
    "in your model, we recommend using the `wandb.config` copy of your object.\n",
    "Check the definition of `make` below to see some examples.\n",
    "\n",
    "> *Side Note*: We take care to run our code in separate processes,\n",
    "so that any issues on our end\n",
    "(e.g. a giant sea monster attacks our data centers)\n",
    "don't crash your code.\n",
    "Once the issue is resolved (e.g. the Kraken returns to the deep)\n",
    "you can log the data with `wandb sync`."
   ]
  },
  {
   "cell_type": "code",
   "execution_count": 67,
   "metadata": {
    "id": "_tKCq-MHaWBb",
    "ExecuteTime": {
     "end_time": "2023-09-21T16:23:53.443264Z",
     "start_time": "2023-09-21T16:23:53.414204Z"
    }
   },
   "outputs": [],
   "source": [
    "def make(config):\n",
    "    # Make the data\n",
    "    train, test = get_data(train=True), get_data(train=False)\n",
    "    train_loader = make_loader(train, batch_size=config.batch_size)\n",
    "    test_loader = make_loader(test, batch_size=config.batch_size)\n",
    "\n",
    "    # Make the model\n",
    "    #model = ResNet18(config.kernels, config.classes).to(device)\n",
    "    model = ResNet18().to(device)\n",
    "\n",
    "    # Make the loss and optimizer\n",
    "    criterion = nn.CrossEntropyLoss()\n",
    "    optimizer = torch.optim.Adam(\n",
    "        model.parameters(), lr=config.learning_rate)\n",
    "\n",
    "    return model, train_loader, test_loader, criterion, optimizer"
   ]
  },
  {
   "cell_type": "markdown",
   "source": [
    "asdasdasdasdas"
   ],
   "metadata": {
    "collapsed": false
   }
  },
  {
   "cell_type": "code",
   "execution_count": 68,
   "outputs": [],
   "source": [
    "from torchvision import datasets, transforms\n",
    "\n",
    "images_path = 'data/images_2'\n",
    "\n",
    "basic_transforms = transforms.Compose([\n",
    "    transforms.ToTensor(),\n",
    "])\n",
    "\n",
    "untransformed_dataset = datasets.ImageFolder(root=images_path, transform=basic_transforms)"
   ],
   "metadata": {
    "collapsed": false,
    "ExecuteTime": {
     "end_time": "2023-09-21T16:23:53.934706Z",
     "start_time": "2023-09-21T16:23:53.894801Z"
    }
   }
  },
  {
   "cell_type": "markdown",
   "source": [
    "asdasdasd"
   ],
   "metadata": {
    "collapsed": false
   }
  },
  {
   "cell_type": "code",
   "execution_count": 69,
   "outputs": [
    {
     "name": "stdout",
     "output_type": "stream",
     "text": [
      "==> Computing mean and std..\n",
      "Untransformed images, mean is tensor([0.6741, 0.6644, 0.6534]), std is tensor([0.2407, 0.2460, 0.2479])\n"
     ]
    }
   ],
   "source": [
    "def get_mean_and_std(dataset):\n",
    "    '''Compute the mean and std value of dataset.'''\n",
    "    dataloader = torch.utils.data.DataLoader(dataset, batch_size=1, shuffle=True, num_workers=2)\n",
    "    mean = torch.zeros(3)\n",
    "    std = torch.zeros(3)\n",
    "    print('==> Computing mean and std..')\n",
    "    for inputs, targets in dataloader:\n",
    "        for i in range(3):\n",
    "            mean[i] += inputs[:,i,:,:].mean()\n",
    "            std[i] += inputs[:,i,:,:].std()\n",
    "    mean.div_(len(dataset))\n",
    "    std.div_(len(dataset))\n",
    "    return mean, std\n",
    "\n",
    "mean, std= get_mean_and_std(untransformed_dataset)\n",
    "print(f\"Untransformed images, mean is {mean}, std is {std}\")"
   ],
   "metadata": {
    "collapsed": false,
    "ExecuteTime": {
     "end_time": "2023-09-21T16:24:16.788304Z",
     "start_time": "2023-09-21T16:23:54.513060Z"
    }
   }
  },
  {
   "cell_type": "markdown",
   "metadata": {
    "id": "jnu1NsnpaWBb"
   },
   "source": [
    "# 📡 Define the Data Loading and Model"
   ]
  },
  {
   "cell_type": "markdown",
   "metadata": {
    "id": "Ob9Va_3paWBb"
   },
   "source": [
    "Now, we need to specify how the data is loaded and what the model looks like.\n",
    "\n",
    "This part is very important, but it's\n",
    "no different from what it would be without `wandb`,\n",
    "so we won't dwell on it."
   ]
  },
  {
   "cell_type": "code",
   "execution_count": 70,
   "metadata": {
    "id": "oZZ4SGqGaWBb",
    "ExecuteTime": {
     "end_time": "2023-09-21T16:24:16.814747Z",
     "start_time": "2023-09-21T16:24:16.789180Z"
    }
   },
   "outputs": [],
   "source": [
    "def get_data(slice=5, train=True):\n",
    "    \n",
    "    enhanced_transforms = transforms.Compose([\n",
    "        # transforms.RandomRotation(10),\n",
    "        transforms.RandomCrop(192),\n",
    "        transforms.Resize((32, 32)), # Transform so they go into the ResNet NN\n",
    "        transforms.RandomHorizontalFlip(),\n",
    "        transforms.ToTensor(),\n",
    "        transforms.Normalize(mean=mean, std=std), # With the before calculated mean, std values.\n",
    "    ])\n",
    "    \n",
    "    full_dataset = datasets.ImageFolder(root=images_path, transform=enhanced_transforms)\n",
    "    \n",
    "    classes = full_dataset.classes\n",
    "    num_classes= len(full_dataset.classes)\n",
    "    \n",
    "    print(f\"Dataset has classes: {classes} (length: {num_classes}) Dataset length: is {len(full_dataset)}\")\n",
    "\n",
    "    mean_updated, std_updated = get_mean_and_std(full_dataset)\n",
    "    print(f\"Transformed images, mean is {mean_updated} (should be ca. 0), std is {std_updated} (should be ca. 1)\")\n",
    "    \n",
    "    # full_dataset = torchvision.datasets.MNIST(root=\".\",\n",
    "    #                                           train=train,\n",
    "    #                                           transform=transforms.ToTensor(),\n",
    "    #                                           download=True)\n",
    "    #  equiv to slicing with [::slice]\n",
    "    sub_dataset = torch.utils.data.Subset(\n",
    "      full_dataset, indices=range(0, len(full_dataset), slice))\n",
    "    \n",
    "    print(f\"sub_dataset length: {len(sub_dataset)}\")\n",
    "\n",
    "    return sub_dataset\n",
    "\n",
    "\n",
    "def make_loader(dataset, batch_size):\n",
    "    loader = torch.utils.data.DataLoader(dataset=dataset,\n",
    "                                         batch_size=batch_size,\n",
    "                                         shuffle=True,\n",
    "                                         pin_memory=True, num_workers=2)\n",
    "    return loader"
   ]
  },
  {
   "cell_type": "markdown",
   "metadata": {
    "id": "6Ax7-gKSaWBc"
   },
   "source": [
    "Defining the model is normally the fun part!\n",
    "\n",
    "But nothing changes with `wandb`,\n",
    "so we're gonna stick with a standard ConvNet architecture.\n",
    "\n",
    "Don't be afraid to mess around with this and try some experiments --\n",
    "all your results will be logged on [wandb.ai](https://wandb.ai)!\n",
    "\n"
   ]
  },
  {
   "cell_type": "code",
   "execution_count": 71,
   "metadata": {
    "id": "CeNoad3waWBc",
    "ExecuteTime": {
     "end_time": "2023-09-21T16:24:16.869261Z",
     "start_time": "2023-09-21T16:24:16.838209Z"
    }
   },
   "outputs": [],
   "source": [
    "'''ResNet in PyTorch.\n",
    "\n",
    "For Pre-activation ResNet, see 'preact_resnet.py'.\n",
    "\n",
    "Reference:\n",
    "[1] Kaiming He, Xiangyu Zhang, Shaoqing Ren, Jian Sun\n",
    "    Deep Residual Learning for Image Recognition. arXiv:1512.03385\n",
    "'''\n",
    "import torch\n",
    "import torch.nn as nn\n",
    "import torch.nn.functional as F\n",
    "\n",
    "\n",
    "class BasicBlock(nn.Module):\n",
    "    expansion = 1\n",
    "\n",
    "    def __init__(self, in_planes, planes, stride=1):\n",
    "        super(BasicBlock, self).__init__()\n",
    "        self.conv1 = nn.Conv2d(\n",
    "            in_planes, planes, kernel_size=3, stride=stride, padding=1, bias=False)\n",
    "        self.bn1 = nn.BatchNorm2d(planes)\n",
    "        self.conv2 = nn.Conv2d(planes, planes, kernel_size=3,\n",
    "                               stride=1, padding=1, bias=False)\n",
    "        self.bn2 = nn.BatchNorm2d(planes)\n",
    "\n",
    "        self.shortcut = nn.Sequential()\n",
    "        if stride != 1 or in_planes != self.expansion*planes:\n",
    "            self.shortcut = nn.Sequential(\n",
    "                nn.Conv2d(in_planes, self.expansion*planes,\n",
    "                          kernel_size=1, stride=stride, bias=False),\n",
    "                nn.BatchNorm2d(self.expansion*planes)\n",
    "            )\n",
    "\n",
    "    def forward(self, x):\n",
    "        out = F.relu(self.bn1(self.conv1(x)))\n",
    "        out = self.bn2(self.conv2(out))\n",
    "        out += self.shortcut(x)\n",
    "        out = F.relu(out)\n",
    "        return out\n",
    "\n",
    "\n",
    "class Bottleneck(nn.Module):\n",
    "    expansion = 4\n",
    "\n",
    "    def __init__(self, in_planes, planes, stride=1):\n",
    "        super(Bottleneck, self).__init__()\n",
    "        self.conv1 = nn.Conv2d(in_planes, planes, kernel_size=1, bias=False)\n",
    "        self.bn1 = nn.BatchNorm2d(planes)\n",
    "        self.conv2 = nn.Conv2d(planes, planes, kernel_size=3,\n",
    "                               stride=stride, padding=1, bias=False)\n",
    "        self.bn2 = nn.BatchNorm2d(planes)\n",
    "        self.conv3 = nn.Conv2d(planes, self.expansion *\n",
    "                               planes, kernel_size=1, bias=False)\n",
    "        self.bn3 = nn.BatchNorm2d(self.expansion*planes)\n",
    "\n",
    "        self.shortcut = nn.Sequential()\n",
    "        if stride != 1 or in_planes != self.expansion*planes:\n",
    "            self.shortcut = nn.Sequential(\n",
    "                nn.Conv2d(in_planes, self.expansion*planes,\n",
    "                          kernel_size=1, stride=stride, bias=False),\n",
    "                nn.BatchNorm2d(self.expansion*planes)\n",
    "            )\n",
    "\n",
    "    def forward(self, x):\n",
    "        out = F.relu(self.bn1(self.conv1(x)))\n",
    "        out = F.relu(self.bn2(self.conv2(out)))\n",
    "        out = self.bn3(self.conv3(out))\n",
    "        out += self.shortcut(x)\n",
    "        out = F.relu(out)\n",
    "        return out\n",
    "\n",
    "\n",
    "class ResNet(nn.Module):\n",
    "    def __init__(self, block, num_blocks, num_classes=5): # TODO make configurable\n",
    "        super(ResNet, self).__init__()\n",
    "        self.in_planes = 64\n",
    "\n",
    "        self.conv1 = nn.Conv2d(3, 64, kernel_size=3,\n",
    "                               stride=1, padding=1, bias=False)\n",
    "        self.bn1 = nn.BatchNorm2d(64)\n",
    "        self.layer1 = self._make_layer(block, 64, num_blocks[0], stride=1)\n",
    "        self.layer2 = self._make_layer(block, 128, num_blocks[1], stride=2)\n",
    "        self.layer3 = self._make_layer(block, 256, num_blocks[2], stride=2)\n",
    "        self.layer4 = self._make_layer(block, 512, num_blocks[3], stride=2)\n",
    "        self.linear = nn.Linear(512*block.expansion, num_classes)\n",
    "\n",
    "    def _make_layer(self, block, planes, num_blocks, stride):\n",
    "        strides = [stride] + [1]*(num_blocks-1)\n",
    "        layers = []\n",
    "        for stride in strides:\n",
    "            layers.append(block(self.in_planes, planes, stride))\n",
    "            self.in_planes = planes * block.expansion\n",
    "        return nn.Sequential(*layers)\n",
    "\n",
    "    def forward(self, x):\n",
    "        out = F.relu(self.bn1(self.conv1(x)))\n",
    "        out = self.layer1(out)\n",
    "        out = self.layer2(out)\n",
    "        out = self.layer3(out)\n",
    "        out = self.layer4(out)\n",
    "        out = F.avg_pool2d(out, 4)\n",
    "        out = out.view(out.size(0), -1)\n",
    "        out = self.linear(out)\n",
    "        return out\n",
    "\n",
    "\n",
    "def ResNet18():\n",
    "    return ResNet(BasicBlock, [2, 2, 2, 2])\n",
    "\n",
    "\n",
    "def ResNet34():\n",
    "    return ResNet(BasicBlock, [3, 4, 6, 3])\n",
    "\n",
    "\n",
    "def ResNet50():\n",
    "    return ResNet(Bottleneck, [3, 4, 6, 3])\n",
    "\n",
    "\n",
    "def ResNet101():\n",
    "    return ResNet(Bottleneck, [3, 4, 23, 3])\n",
    "\n",
    "\n",
    "def ResNet152():\n",
    "    return ResNet(Bottleneck, [3, 8, 36, 3])\n",
    "\n",
    "\n",
    "def test():\n",
    "    net = ResNet18()\n",
    "    y = net(torch.randn(1, 3, 32, 32))\n",
    "    print(y.size())\n",
    "\n",
    "# test()\n"
   ]
  },
  {
   "cell_type": "markdown",
   "metadata": {
    "id": "OvYBvKMXaWBc"
   },
   "source": [
    "# 👟 Define Training Logic"
   ]
  },
  {
   "cell_type": "markdown",
   "metadata": {
    "id": "q5aOXNOEaWBc"
   },
   "source": [
    "Moving on in our `model_pipeline`, it's time to specify how we `train`.\n",
    "\n",
    "Two `wandb` functions come into play here: `watch` and `log`."
   ]
  },
  {
   "cell_type": "markdown",
   "metadata": {
    "id": "zw1WBh9faWBc"
   },
   "source": [
    "### 3️⃣ Step 3. Track gradients with `wandb.watch` and everything else with `wandb.log`"
   ]
  },
  {
   "cell_type": "markdown",
   "metadata": {
    "id": "6LzlSus7aWBc"
   },
   "source": [
    "`wandb.watch` will log the gradients and the parameters of your model,\n",
    "every `log_freq` steps of training.\n",
    "\n",
    "All you need to do is call it before you start training.\n",
    "\n",
    "The rest of the training code remains the same:\n",
    "we iterate over epochs and batches,\n",
    "running forward and backward passes\n",
    "and applying our `optimizer`."
   ]
  },
  {
   "cell_type": "code",
   "execution_count": 72,
   "metadata": {
    "id": "ZQm0kL_laWBd",
    "ExecuteTime": {
     "end_time": "2023-09-21T16:24:16.869694Z",
     "start_time": "2023-09-21T16:24:16.851422Z"
    }
   },
   "outputs": [],
   "source": [
    "def train(model, loader, criterion, optimizer, config):\n",
    "    # Tell wandb to watch what the model gets up to: gradients, weights, and more!\n",
    "    wandb.watch(model, criterion, log=\"all\", log_freq=10)\n",
    "\n",
    "    # Run training and track with wandb\n",
    "    total_batches = len(loader) * config.epochs\n",
    "    example_ct = 0  # number of examples seen\n",
    "    batch_ct = 0\n",
    "    for epoch in tqdm(range(config.epochs)):\n",
    "        for _, (images, labels) in enumerate(loader):\n",
    "\n",
    "            loss = train_batch(images, labels, model, optimizer, criterion)\n",
    "            example_ct +=  len(images)\n",
    "            batch_ct += 1\n",
    "\n",
    "            # Report metrics every 25th batch\n",
    "            if ((batch_ct + 1) % 25) == 0:\n",
    "                train_log(loss, example_ct, epoch)\n",
    "\n",
    "\n",
    "def train_batch(images, labels, model, optimizer, criterion):\n",
    "    images, labels = images.to(device), labels.to(device)\n",
    "\n",
    "    # Forward pass ➡\n",
    "    outputs = model(images)\n",
    "    loss = criterion(outputs, labels)\n",
    "\n",
    "    # Backward pass ⬅\n",
    "    optimizer.zero_grad()\n",
    "    loss.backward()\n",
    "\n",
    "    # Step with optimizer\n",
    "    optimizer.step()\n",
    "\n",
    "    return loss"
   ]
  },
  {
   "cell_type": "markdown",
   "metadata": {
    "id": "ChCeN6TraWBd"
   },
   "source": [
    "The only difference is in the logging code:\n",
    "where previously you might have reported metrics by printing to the terminal,\n",
    "now you pass the same information to `wandb.log`.\n",
    "\n",
    "`wandb.log` expects a dictionary with strings as keys.\n",
    "These strings identify the objects being logged, which make up the values.\n",
    "You can also optionally log which `step` of training you're on.\n",
    "\n",
    "> *Side Note*: I like to use the number of examples the model has seen,\n",
    "since this makes for easier comparison across batch sizes,\n",
    "but you can use raw steps or batch count. For longer training runs, it can also make sense to log by `epoch`."
   ]
  },
  {
   "cell_type": "code",
   "execution_count": 73,
   "metadata": {
    "id": "MdH1PT2XaWBd",
    "ExecuteTime": {
     "end_time": "2023-09-21T16:24:16.869936Z",
     "start_time": "2023-09-21T16:24:16.860527Z"
    }
   },
   "outputs": [],
   "source": [
    "def train_log(loss, example_ct, epoch):\n",
    "    # Where the magic happens\n",
    "    wandb.log({\"epoch\": epoch, \"loss\": loss}, step=example_ct)\n",
    "    print(f\"Loss after {str(example_ct).zfill(5)} examples: {loss:.3f}\")"
   ]
  },
  {
   "cell_type": "markdown",
   "metadata": {
    "id": "EKEURUbEaWBd"
   },
   "source": [
    "# 🧪 Define Testing Logic"
   ]
  },
  {
   "cell_type": "markdown",
   "metadata": {
    "id": "KFjUICaIaWBd"
   },
   "source": [
    "Once the model is done training, we want to test it:\n",
    "run it against some fresh data from production, perhaps,\n",
    "or apply it to some hand-curated \"hard examples\".\n",
    "\n"
   ]
  },
  {
   "cell_type": "markdown",
   "metadata": {
    "id": "22vx0jvOaWBd"
   },
   "source": [
    "#### 4️⃣ Optional Step 4: Call `wandb.save`\n",
    "\n",
    "This is also a great time to save the model's architecture\n",
    "and final parameters to disk.\n",
    "For maximum compatibility, we'll `export` our model in the\n",
    "[Open Neural Network eXchange (ONNX) format](https://onnx.ai/).\n",
    "\n",
    "Passing that filename to `wandb.save` ensures that the model parameters\n",
    "are saved to W&B's servers: no more losing track of which `.h5` or `.pb`\n",
    "corresponds to which training runs!\n",
    "\n",
    "For more advanced `wandb` features for storing, versioning, and distributing\n",
    "models, check out our [Artifacts tools](https://www.wandb.com/artifacts)."
   ]
  },
  {
   "cell_type": "code",
   "execution_count": 74,
   "metadata": {
    "id": "QoqzPCJ3aWBe",
    "ExecuteTime": {
     "end_time": "2023-09-21T16:24:16.912731Z",
     "start_time": "2023-09-21T16:24:16.880877Z"
    }
   },
   "outputs": [],
   "source": [
    "def test(model, test_loader):\n",
    "    model.eval()\n",
    "\n",
    "    # Run the model on some test examples\n",
    "    with torch.no_grad():\n",
    "        correct, total = 0, 0\n",
    "        for images, labels in test_loader:\n",
    "            images, labels = images.to(device), labels.to(device)\n",
    "            outputs = model(images)\n",
    "            _, predicted = torch.max(outputs.data, 1)\n",
    "            total += labels.size(0)\n",
    "            correct += (predicted == labels).sum().item()\n",
    "\n",
    "        print(f\"Accuracy of the model on the {total} \" +\n",
    "              f\"test images: {correct / total:%}\")\n",
    "\n",
    "        wandb.log({\"test_accuracy\": correct / total})\n",
    "\n",
    "    # Save the model in the exchangeable ONNX format\n",
    "    torch.onnx.export(model, images, \"model.onnx\")\n",
    "    wandb.save(\"model.onnx\")"
   ]
  },
  {
   "cell_type": "markdown",
   "metadata": {
    "id": "qNzp5SdPaWBe"
   },
   "source": [
    "# 🏃‍♀️ Run training and watch your metrics live on wandb.ai!"
   ]
  },
  {
   "cell_type": "markdown",
   "metadata": {
    "id": "mhOlqRWJaWBj"
   },
   "source": [
    "Now that we've defined the whole pipeline and slipped in\n",
    "those few lines of W&B code,\n",
    "we're ready to run our fully-tracked experiment.\n",
    "\n",
    "We'll report a few links to you:\n",
    "our documentation,\n",
    "the Project page, which organizes all the runs in a project, and\n",
    "the Run page, where this run's results will be stored.\n",
    "\n",
    "Navigate to the Run page and check out these tabs:\n",
    "\n",
    "1. **Charts**, where the model gradients, parameter values, and loss are logged throughout training\n",
    "2. **System**, which contains a variety of system metrics, including Disk I/O utilization, CPU and GPU metrics (watch that temperature soar 🔥), and more\n",
    "3. **Logs**, which has a copy of anything pushed to standard out during training\n",
    "4. **Files**, where, once training is complete, you can click on the `model.onnx` to view our network with the [Netron model viewer](https://github.com/lutzroeder/netron).\n",
    "\n",
    "Once the run in finished\n",
    "(i.e. the `with wandb.init` block is exited),\n",
    "we'll also print a summary of the results in the cell output."
   ]
  },
  {
   "cell_type": "code",
   "execution_count": 79,
   "metadata": {
    "id": "n4F3w5Y_aWBj",
    "ExecuteTime": {
     "end_time": "2023-09-21T16:38:01.325530Z",
     "start_time": "2023-09-21T16:35:35.483726Z"
    }
   },
   "outputs": [
    {
     "data": {
      "text/plain": "<IPython.core.display.HTML object>",
      "text/html": "Tracking run with wandb version 0.15.10"
     },
     "metadata": {},
     "output_type": "display_data"
    },
    {
     "data": {
      "text/plain": "<IPython.core.display.HTML object>",
      "text/html": "Run data is saved locally in <code>/Users/jan/Projects/classify-chess-pieces/wandb/run-20230921_183535-5kr36773</code>"
     },
     "metadata": {},
     "output_type": "display_data"
    },
    {
     "data": {
      "text/plain": "<IPython.core.display.HTML object>",
      "text/html": "Syncing run <strong><a href='https://wandb.ai/mr-perseus/classify-chess-pieces/runs/5kr36773' target=\"_blank\">sleek-mountain-8</a></strong> to <a href='https://wandb.ai/mr-perseus/classify-chess-pieces' target=\"_blank\">Weights & Biases</a> (<a href='https://wandb.me/run' target=\"_blank\">docs</a>)<br/>"
     },
     "metadata": {},
     "output_type": "display_data"
    },
    {
     "data": {
      "text/plain": "<IPython.core.display.HTML object>",
      "text/html": " View project at <a href='https://wandb.ai/mr-perseus/classify-chess-pieces' target=\"_blank\">https://wandb.ai/mr-perseus/classify-chess-pieces</a>"
     },
     "metadata": {},
     "output_type": "display_data"
    },
    {
     "data": {
      "text/plain": "<IPython.core.display.HTML object>",
      "text/html": " View run at <a href='https://wandb.ai/mr-perseus/classify-chess-pieces/runs/5kr36773' target=\"_blank\">https://wandb.ai/mr-perseus/classify-chess-pieces/runs/5kr36773</a>"
     },
     "metadata": {},
     "output_type": "display_data"
    },
    {
     "name": "stdout",
     "output_type": "stream",
     "text": [
      "Dataset has classes: ['Queen', 'Rook', 'bishop', 'knight', 'pawn'] (length: 5) Dataset length: is 651\n",
      "==> Computing mean and std..\n",
      "Transformed images, mean is tensor([-0.0772, -0.0882, -0.0970]) (should be ca. 0), std is tensor([0.8975, 0.9038, 0.9082]) (should be ca. 1)\n",
      "sub_dataset length: 131\n",
      "Dataset has classes: ['Queen', 'Rook', 'bishop', 'knight', 'pawn'] (length: 5) Dataset length: is 651\n",
      "==> Computing mean and std..\n",
      "Transformed images, mean is tensor([-0.0777, -0.0877, -0.0955]) (should be ca. 0), std is tensor([0.8963, 0.9017, 0.9044]) (should be ca. 1)\n",
      "sub_dataset length: 131\n",
      "ResNet(\n",
      "  (conv1): Conv2d(3, 64, kernel_size=(3, 3), stride=(1, 1), padding=(1, 1), bias=False)\n",
      "  (bn1): BatchNorm2d(64, eps=1e-05, momentum=0.1, affine=True, track_running_stats=True)\n",
      "  (layer1): Sequential(\n",
      "    (0): BasicBlock(\n",
      "      (conv1): Conv2d(64, 64, kernel_size=(3, 3), stride=(1, 1), padding=(1, 1), bias=False)\n",
      "      (bn1): BatchNorm2d(64, eps=1e-05, momentum=0.1, affine=True, track_running_stats=True)\n",
      "      (conv2): Conv2d(64, 64, kernel_size=(3, 3), stride=(1, 1), padding=(1, 1), bias=False)\n",
      "      (bn2): BatchNorm2d(64, eps=1e-05, momentum=0.1, affine=True, track_running_stats=True)\n",
      "      (shortcut): Sequential()\n",
      "    )\n",
      "    (1): BasicBlock(\n",
      "      (conv1): Conv2d(64, 64, kernel_size=(3, 3), stride=(1, 1), padding=(1, 1), bias=False)\n",
      "      (bn1): BatchNorm2d(64, eps=1e-05, momentum=0.1, affine=True, track_running_stats=True)\n",
      "      (conv2): Conv2d(64, 64, kernel_size=(3, 3), stride=(1, 1), padding=(1, 1), bias=False)\n",
      "      (bn2): BatchNorm2d(64, eps=1e-05, momentum=0.1, affine=True, track_running_stats=True)\n",
      "      (shortcut): Sequential()\n",
      "    )\n",
      "  )\n",
      "  (layer2): Sequential(\n",
      "    (0): BasicBlock(\n",
      "      (conv1): Conv2d(64, 128, kernel_size=(3, 3), stride=(2, 2), padding=(1, 1), bias=False)\n",
      "      (bn1): BatchNorm2d(128, eps=1e-05, momentum=0.1, affine=True, track_running_stats=True)\n",
      "      (conv2): Conv2d(128, 128, kernel_size=(3, 3), stride=(1, 1), padding=(1, 1), bias=False)\n",
      "      (bn2): BatchNorm2d(128, eps=1e-05, momentum=0.1, affine=True, track_running_stats=True)\n",
      "      (shortcut): Sequential(\n",
      "        (0): Conv2d(64, 128, kernel_size=(1, 1), stride=(2, 2), bias=False)\n",
      "        (1): BatchNorm2d(128, eps=1e-05, momentum=0.1, affine=True, track_running_stats=True)\n",
      "      )\n",
      "    )\n",
      "    (1): BasicBlock(\n",
      "      (conv1): Conv2d(128, 128, kernel_size=(3, 3), stride=(1, 1), padding=(1, 1), bias=False)\n",
      "      (bn1): BatchNorm2d(128, eps=1e-05, momentum=0.1, affine=True, track_running_stats=True)\n",
      "      (conv2): Conv2d(128, 128, kernel_size=(3, 3), stride=(1, 1), padding=(1, 1), bias=False)\n",
      "      (bn2): BatchNorm2d(128, eps=1e-05, momentum=0.1, affine=True, track_running_stats=True)\n",
      "      (shortcut): Sequential()\n",
      "    )\n",
      "  )\n",
      "  (layer3): Sequential(\n",
      "    (0): BasicBlock(\n",
      "      (conv1): Conv2d(128, 256, kernel_size=(3, 3), stride=(2, 2), padding=(1, 1), bias=False)\n",
      "      (bn1): BatchNorm2d(256, eps=1e-05, momentum=0.1, affine=True, track_running_stats=True)\n",
      "      (conv2): Conv2d(256, 256, kernel_size=(3, 3), stride=(1, 1), padding=(1, 1), bias=False)\n",
      "      (bn2): BatchNorm2d(256, eps=1e-05, momentum=0.1, affine=True, track_running_stats=True)\n",
      "      (shortcut): Sequential(\n",
      "        (0): Conv2d(128, 256, kernel_size=(1, 1), stride=(2, 2), bias=False)\n",
      "        (1): BatchNorm2d(256, eps=1e-05, momentum=0.1, affine=True, track_running_stats=True)\n",
      "      )\n",
      "    )\n",
      "    (1): BasicBlock(\n",
      "      (conv1): Conv2d(256, 256, kernel_size=(3, 3), stride=(1, 1), padding=(1, 1), bias=False)\n",
      "      (bn1): BatchNorm2d(256, eps=1e-05, momentum=0.1, affine=True, track_running_stats=True)\n",
      "      (conv2): Conv2d(256, 256, kernel_size=(3, 3), stride=(1, 1), padding=(1, 1), bias=False)\n",
      "      (bn2): BatchNorm2d(256, eps=1e-05, momentum=0.1, affine=True, track_running_stats=True)\n",
      "      (shortcut): Sequential()\n",
      "    )\n",
      "  )\n",
      "  (layer4): Sequential(\n",
      "    (0): BasicBlock(\n",
      "      (conv1): Conv2d(256, 512, kernel_size=(3, 3), stride=(2, 2), padding=(1, 1), bias=False)\n",
      "      (bn1): BatchNorm2d(512, eps=1e-05, momentum=0.1, affine=True, track_running_stats=True)\n",
      "      (conv2): Conv2d(512, 512, kernel_size=(3, 3), stride=(1, 1), padding=(1, 1), bias=False)\n",
      "      (bn2): BatchNorm2d(512, eps=1e-05, momentum=0.1, affine=True, track_running_stats=True)\n",
      "      (shortcut): Sequential(\n",
      "        (0): Conv2d(256, 512, kernel_size=(1, 1), stride=(2, 2), bias=False)\n",
      "        (1): BatchNorm2d(512, eps=1e-05, momentum=0.1, affine=True, track_running_stats=True)\n",
      "      )\n",
      "    )\n",
      "    (1): BasicBlock(\n",
      "      (conv1): Conv2d(512, 512, kernel_size=(3, 3), stride=(1, 1), padding=(1, 1), bias=False)\n",
      "      (bn1): BatchNorm2d(512, eps=1e-05, momentum=0.1, affine=True, track_running_stats=True)\n",
      "      (conv2): Conv2d(512, 512, kernel_size=(3, 3), stride=(1, 1), padding=(1, 1), bias=False)\n",
      "      (bn2): BatchNorm2d(512, eps=1e-05, momentum=0.1, affine=True, track_running_stats=True)\n",
      "      (shortcut): Sequential()\n",
      "    )\n",
      "  )\n",
      "  (linear): Linear(in_features=512, out_features=5, bias=True)\n",
      ")\n"
     ]
    },
    {
     "data": {
      "text/plain": "  0%|          | 0/10 [00:00<?, ?it/s]",
      "application/vnd.jupyter.widget-view+json": {
       "version_major": 2,
       "version_minor": 0,
       "model_id": "f85ee4880010428b95ee173206ab3760"
      }
     },
     "metadata": {},
     "output_type": "display_data"
    },
    {
     "name": "stdout",
     "output_type": "stream",
     "text": [
      "Loss after 00231 examples: 2.951\n",
      "Loss after 00463 examples: 1.610\n",
      "Loss after 00695 examples: 2.941\n",
      "Loss after 00927 examples: 1.627\n",
      "Loss after 01168 examples: 1.444\n",
      "Accuracy of the model on the 131 test images: 26.717557%\n",
      "================ Diagnostic Run torch.onnx.export version 2.0.1 ================\n",
      "verbose: False, log level: Level.ERROR\n",
      "======================= 0 NONE 0 NOTE 0 WARNING 0 ERROR ========================\n"
     ]
    },
    {
     "data": {
      "text/plain": "<IPython.core.display.HTML object>",
      "text/html": "Waiting for W&B process to finish... <strong style=\"color:green\">(success).</strong>"
     },
     "metadata": {},
     "output_type": "display_data"
    },
    {
     "data": {
      "text/plain": "<IPython.core.display.HTML object>",
      "text/html": "<style>\n    table.wandb td:nth-child(1) { padding: 0 10px; text-align: left ; width: auto;} td:nth-child(2) {text-align: left ; width: 100%}\n    .wandb-row { display: flex; flex-direction: row; flex-wrap: wrap; justify-content: flex-start; width: 100% }\n    .wandb-col { display: flex; flex-direction: column; flex-basis: 100%; flex: 1; padding: 10px; }\n    </style>\n<div class=\"wandb-row\"><div class=\"wandb-col\"><h3>Run history:</h3><br/><table class=\"wandb\"><tr><td>epoch</td><td>▁▃▅▇█</td></tr><tr><td>loss</td><td>█▂█▂▁</td></tr><tr><td>test_accuracy</td><td>▁</td></tr></table><br/></div><div class=\"wandb-col\"><h3>Run summary:</h3><br/><table class=\"wandb\"><tr><td>epoch</td><td>8</td></tr><tr><td>loss</td><td>1.4438</td></tr><tr><td>test_accuracy</td><td>0.26718</td></tr></table><br/></div></div>"
     },
     "metadata": {},
     "output_type": "display_data"
    },
    {
     "data": {
      "text/plain": "<IPython.core.display.HTML object>",
      "text/html": " View run <strong style=\"color:#cdcd00\">sleek-mountain-8</strong> at: <a href='https://wandb.ai/mr-perseus/classify-chess-pieces/runs/5kr36773' target=\"_blank\">https://wandb.ai/mr-perseus/classify-chess-pieces/runs/5kr36773</a><br/> View job at <a href='https://wandb.ai/mr-perseus/classify-chess-pieces/jobs/QXJ0aWZhY3RDb2xsZWN0aW9uOjk5NjEwNDE3/version_details/v4' target=\"_blank\">https://wandb.ai/mr-perseus/classify-chess-pieces/jobs/QXJ0aWZhY3RDb2xsZWN0aW9uOjk5NjEwNDE3/version_details/v4</a><br/>Synced 5 W&B file(s), 0 media file(s), 2 artifact file(s) and 1 other file(s)"
     },
     "metadata": {},
     "output_type": "display_data"
    },
    {
     "data": {
      "text/plain": "<IPython.core.display.HTML object>",
      "text/html": "Find logs at: <code>./wandb/run-20230921_183535-5kr36773/logs</code>"
     },
     "metadata": {},
     "output_type": "display_data"
    }
   ],
   "source": [
    "# Build, train and analyze the model with the pipeline\n",
    "model = model_pipeline(config)"
   ]
  },
  {
   "cell_type": "markdown",
   "metadata": {
    "id": "QPrYT7o2aWBk"
   },
   "source": [
    "# 🧹 Test Hyperparameters with Sweeps\n",
    "\n",
    "We only looked at a single set of hyperparameters in this example.\n",
    "But an important part of most ML workflows is iterating over\n",
    "a number of hyperparameters.\n",
    "\n",
    "You can use Weights & Biases Sweeps to automate hyperparameter testing and explore the space of possible models and optimization strategies.\n",
    "\n",
    "## [Check out Hyperparameter Optimization in PyTorch using W&B Sweeps $\\rightarrow$](http://wandb.me/sweeps-colab)\n",
    "\n",
    "Running a hyperparameter sweep with Weights & Biases is very easy. There are just 3 simple steps:\n",
    "\n",
    "1. **Define the sweep:** We do this by creating a dictionary or a [YAML file](https://docs.wandb.com/library/sweeps/configuration) that specifies the parameters to search through, the search strategy, the optimization metric et all.\n",
    "\n",
    "2. **Initialize the sweep:**\n",
    "`sweep_id = wandb.sweep(sweep_config)`\n",
    "\n",
    "3. **Run the sweep agent:**\n",
    "`wandb.agent(sweep_id, function=train)`\n",
    "\n",
    "And voila! That's all there is to running a hyperparameter sweep!\n",
    "<img src=\"https://imgur.com/UiQKg0L.png\" alt=\"Weights & Biases\" />\n"
   ]
  },
  {
   "cell_type": "markdown",
   "metadata": {
    "id": "Unp8wVfHaWBk"
   },
   "source": [
    "# 🖼️ Example Gallery\n",
    "\n",
    "See examples of projects tracked and visualized with W&B in our [Gallery →](https://app.wandb.ai/gallery)"
   ]
  },
  {
   "cell_type": "markdown",
   "metadata": {
    "id": "mdI_meyKaWBk"
   },
   "source": [
    "# 🤓 Advanced Setup\n",
    "1. [Environment variables](https://docs.wandb.com/library/environment-variables): Set API keys in environment variables so you can run training on a managed cluster.\n",
    "2. [Offline mode](https://docs.wandb.com/library/technical-faq#can-i-run-wandb-offline): Use `dryrun` mode to train offline and sync results later.\n",
    "3. [On-prem](https://docs.wandb.com/self-hosted): Install W&B in a private cloud or air-gapped servers in your own infrastructure. We have local installations for everyone from academics to enterprise teams.\n",
    "4. [Sweeps](https://docs.wandb.com/sweeps): Set up hyperparameter search quickly with our lightweight tool for tuning."
   ]
  }
 ],
 "metadata": {
  "accelerator": "GPU",
  "colab": {
   "provenance": [],
   "toc_visible": true
  },
  "kernelspec": {
   "name": "python3",
   "language": "python",
   "display_name": "Python 3 (ipykernel)"
  }
 },
 "nbformat": 4,
 "nbformat_minor": 0
}
