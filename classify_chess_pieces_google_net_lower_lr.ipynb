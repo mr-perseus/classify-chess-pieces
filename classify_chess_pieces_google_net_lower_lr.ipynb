{
 "cells": [
  {
   "cell_type": "markdown",
   "source": [
    "### GoogLeNet\n",
    "\n",
    "Source: https://github.com/kuangliu/pytorch-cifar/blob/master/models/googlenet.py"
   ],
   "metadata": {
    "id": "8Cw22kfolpDt"
   },
   "id": "8Cw22kfolpDt"
  },
  {
   "cell_type": "code",
   "source": [
    "'''GoogLeNet with PyTorch.'''\n",
    "import torch\n",
    "import torch.nn as nn\n",
    "import torch.nn.functional as F\n",
    "\n",
    "\n",
    "class Inception(nn.Module):\n",
    "    def __init__(self, in_planes, n1x1, n3x3red, n3x3, n5x5red, n5x5, pool_planes):\n",
    "        super(Inception, self).__init__()\n",
    "        # 1x1 conv branch\n",
    "        self.b1 = nn.Sequential(\n",
    "            nn.Conv2d(in_planes, n1x1, kernel_size=1),\n",
    "            nn.BatchNorm2d(n1x1),\n",
    "            nn.ReLU(True),\n",
    "        )\n",
    "\n",
    "        # 1x1 conv -> 3x3 conv branch\n",
    "        self.b2 = nn.Sequential(\n",
    "            nn.Conv2d(in_planes, n3x3red, kernel_size=1),\n",
    "            nn.BatchNorm2d(n3x3red),\n",
    "            nn.ReLU(True),\n",
    "            nn.Conv2d(n3x3red, n3x3, kernel_size=3, padding=1),\n",
    "            nn.BatchNorm2d(n3x3),\n",
    "            nn.ReLU(True),\n",
    "        )\n",
    "\n",
    "        # 1x1 conv -> 5x5 conv branch\n",
    "        self.b3 = nn.Sequential(\n",
    "            nn.Conv2d(in_planes, n5x5red, kernel_size=1),\n",
    "            nn.BatchNorm2d(n5x5red),\n",
    "            nn.ReLU(True),\n",
    "            nn.Conv2d(n5x5red, n5x5, kernel_size=3, padding=1),\n",
    "            nn.BatchNorm2d(n5x5),\n",
    "            nn.ReLU(True),\n",
    "            nn.Conv2d(n5x5, n5x5, kernel_size=3, padding=1),\n",
    "            nn.BatchNorm2d(n5x5),\n",
    "            nn.ReLU(True),\n",
    "        )\n",
    "\n",
    "        # 3x3 pool -> 1x1 conv branch\n",
    "        self.b4 = nn.Sequential(\n",
    "            nn.MaxPool2d(3, stride=1, padding=1),\n",
    "            nn.Conv2d(in_planes, pool_planes, kernel_size=1),\n",
    "            nn.BatchNorm2d(pool_planes),\n",
    "            nn.ReLU(True),\n",
    "        )\n",
    "\n",
    "    def forward(self, x):\n",
    "        y1 = self.b1(x)\n",
    "        y2 = self.b2(x)\n",
    "        y3 = self.b3(x)\n",
    "        y4 = self.b4(x)\n",
    "        return torch.cat([y1,y2,y3,y4], 1)\n",
    "\n",
    "\n",
    "class GoogLeNet(nn.Module):\n",
    "    def __init__(self):\n",
    "        super(GoogLeNet, self).__init__()\n",
    "        self.pre_layers = nn.Sequential(\n",
    "            nn.Conv2d(3, 192, kernel_size=3, padding=1),\n",
    "            nn.BatchNorm2d(192),\n",
    "            nn.ReLU(True),\n",
    "        )\n",
    "\n",
    "        self.a3 = Inception(192,  64,  96, 128, 16, 32, 32)\n",
    "        self.b3 = Inception(256, 128, 128, 192, 32, 96, 64)\n",
    "\n",
    "        self.maxpool = nn.MaxPool2d(3, stride=2, padding=1)\n",
    "\n",
    "        self.a4 = Inception(480, 192,  96, 208, 16,  48,  64)\n",
    "        self.b4 = Inception(512, 160, 112, 224, 24,  64,  64)\n",
    "        self.c4 = Inception(512, 128, 128, 256, 24,  64,  64)\n",
    "        self.d4 = Inception(512, 112, 144, 288, 32,  64,  64)\n",
    "        self.e4 = Inception(528, 256, 160, 320, 32, 128, 128)\n",
    "\n",
    "        self.a5 = Inception(832, 256, 160, 320, 32, 128, 128)\n",
    "        self.b5 = Inception(832, 384, 192, 384, 48, 128, 128)\n",
    "\n",
    "        self.avgpool = nn.AvgPool2d(8, stride=1)\n",
    "        self.linear = nn.Linear(1024, 10)\n",
    "\n",
    "    def forward(self, x):\n",
    "        out = self.pre_layers(x)\n",
    "        out = self.a3(out)\n",
    "        out = self.b3(out)\n",
    "        out = self.maxpool(out)\n",
    "        out = self.a4(out)\n",
    "        out = self.b4(out)\n",
    "        out = self.c4(out)\n",
    "        out = self.d4(out)\n",
    "        out = self.e4(out)\n",
    "        out = self.maxpool(out)\n",
    "        out = self.a5(out)\n",
    "        out = self.b5(out)\n",
    "        out = self.avgpool(out)\n",
    "        out = out.view(out.size(0), -1)\n",
    "        out = self.linear(out)\n",
    "        return out\n",
    "\n",
    "\n",
    "def test():\n",
    "    net = GoogLeNet()\n",
    "    x = torch.randn(1,3,32,32)\n",
    "    y = net(x)\n",
    "    print(y.size())\n",
    "\n",
    "# test()"
   ],
   "metadata": {
    "id": "88VLaSHYcCOO",
    "ExecuteTime": {
     "end_time": "2023-09-12T08:53:16.518025400Z",
     "start_time": "2023-09-12T08:53:14.412902400Z"
    }
   },
   "id": "88VLaSHYcCOO",
   "execution_count": 1,
   "outputs": []
  },
  {
   "cell_type": "markdown",
   "source": [
    "### Imports"
   ],
   "metadata": {
    "id": "iiaj0ElklrEv"
   },
   "id": "iiaj0ElklrEv"
  },
  {
   "cell_type": "code",
   "execution_count": 2,
   "id": "initial_id",
   "metadata": {
    "collapsed": true,
    "id": "initial_id",
    "ExecuteTime": {
     "end_time": "2023-09-12T08:53:16.820468600Z",
     "start_time": "2023-09-12T08:53:16.520018100Z"
    }
   },
   "outputs": [],
   "source": [
    "import torch\n",
    "from torch.utils.data import DataLoader, random_split\n",
    "\n",
    "from torchvision import datasets, transforms\n",
    "\n",
    "import numpy as np\n",
    "\n",
    "from torch.utils.data.sampler import SubsetRandomSampler"
   ]
  },
  {
   "cell_type": "markdown",
   "source": [
    "### Load Images"
   ],
   "metadata": {
    "collapsed": false,
    "id": "beef2e82b83e0f6a"
   },
   "id": "beef2e82b83e0f6a"
  },
  {
   "cell_type": "markdown",
   "source": [
    "#### Load the dataset and dataloader\n",
    "\n",
    "We do this with a basic transformer, which only resizes the images.\n",
    "\n",
    "Images from Kaggle\n",
    "\n",
    "Source: https://www.kaggle.com/datasets/anshulmehtakaggl/chess-pieces-detection-images-dataset"
   ],
   "metadata": {
    "id": "zgAa64MX11cS"
   },
   "id": "zgAa64MX11cS"
  },
  {
   "cell_type": "code",
   "execution_count": 3,
   "outputs": [],
   "source": [
    "\n",
    "images_path = 'data/images_2'\n",
    "\n",
    "basic_transforms = transforms.Compose([\n",
    "    transforms.Resize((32, 32)), # Transform so they go into the ResNet NN\n",
    "    transforms.ToTensor(),\n",
    "])\n",
    "\n",
    "untransformed_dataset = datasets.ImageFolder(root=images_path, transform=basic_transforms)"
   ],
   "metadata": {
    "id": "ac7dcfe40c051c1e",
    "ExecuteTime": {
     "end_time": "2023-09-12T08:53:16.845945Z",
     "start_time": "2023-09-12T08:53:16.821465400Z"
    }
   },
   "id": "ac7dcfe40c051c1e"
  },
  {
   "cell_type": "markdown",
   "source": [
    "### Function to get mean / std from images. Source:\n",
    "\n",
    "Source: https://github.com/kuangliu/pytorch-cifar/blob/master/utils.py"
   ],
   "metadata": {
    "id": "RDs2Qc0H5YiG"
   },
   "id": "RDs2Qc0H5YiG"
  },
  {
   "cell_type": "code",
   "execution_count": 4,
   "outputs": [
    {
     "name": "stdout",
     "output_type": "stream",
     "text": [
      "==> Computing mean and std..\n",
      "Untransformed images, mean is tensor([0.6740, 0.6644, 0.6533]), std is tensor([0.2097, 0.2151, 0.2173])\n"
     ]
    }
   ],
   "source": [
    "def get_mean_and_std(dataset):\n",
    "    '''Compute the mean and std value of dataset.'''\n",
    "    dataloader = torch.utils.data.DataLoader(dataset, batch_size=1, shuffle=True, num_workers=2)\n",
    "    mean = torch.zeros(3)\n",
    "    std = torch.zeros(3)\n",
    "    print('==> Computing mean and std..')\n",
    "    for inputs, targets in dataloader:\n",
    "        for i in range(3):\n",
    "            mean[i] += inputs[:,i,:,:].mean()\n",
    "            std[i] += inputs[:,i,:,:].std()\n",
    "    mean.div_(len(dataset))\n",
    "    std.div_(len(dataset))\n",
    "    return mean, std\n",
    "\n",
    "mean, std= get_mean_and_std(untransformed_dataset)\n",
    "print(f\"Untransformed images, mean is {mean}, std is {std}\")"
   ],
   "metadata": {
    "colab": {
     "base_uri": "https://localhost:8080/"
    },
    "id": "c52df3fae11e40cc",
    "outputId": "04b2309b-32f1-47f8-a3c9-89cc1ef03bf6",
    "ExecuteTime": {
     "end_time": "2023-09-12T08:53:19.528377200Z",
     "start_time": "2023-09-12T08:53:16.845945Z"
    }
   },
   "id": "c52df3fae11e40cc"
  },
  {
   "cell_type": "markdown",
   "source": [
    "#### Load dataset normalized with mean / std from above"
   ],
   "metadata": {
    "collapsed": false,
    "id": "256125cee991731f"
   },
   "id": "256125cee991731f"
  },
  {
   "cell_type": "code",
   "execution_count": 5,
   "outputs": [],
   "source": [
    "enhanced_transforms = transforms.Compose([\n",
    "    transforms.Resize((32, 32)), # Transform so they go into the ResNet NN\n",
    "    transforms.ToTensor(),\n",
    "    transforms.Normalize(mean=mean, std=std), # With the before calculated mean, std values.\n",
    "])\n",
    "\n",
    "# Dataset with the correctly transformed images\n",
    "dataset = datasets.ImageFolder(root=images_path, transform=enhanced_transforms)\n",
    "\n",
    "classes = dataset.classes\n",
    "num_classes= len(dataset.classes)"
   ],
   "metadata": {
    "id": "e2be897fa1238bd8",
    "ExecuteTime": {
     "end_time": "2023-09-12T08:53:19.541106200Z",
     "start_time": "2023-09-12T08:53:19.514411800Z"
    }
   },
   "id": "e2be897fa1238bd8"
  },
  {
   "cell_type": "code",
   "execution_count": 6,
   "outputs": [
    {
     "name": "stdout",
     "output_type": "stream",
     "text": [
      "Dataset has classes: ['Queen', 'Rook', 'bishop', 'knight', 'pawn'] (length: 5) Dataset length: is 651\n",
      "==> Computing mean and std..\n",
      "Transformed images, mean is tensor([-1.0401e-06, -4.2199e-07,  2.4721e-09]) (should be ca. 0), std is tensor([1.0000, 1.0000, 1.0000]) (should be ca. 1)\n"
     ]
    }
   ],
   "source": [
    "print(f\"Dataset has classes: {classes} (length: {num_classes}) Dataset length: is {len(dataset)}\")\n",
    "\n",
    "mean_updated, std_updated = get_mean_and_std(dataset)\n",
    "print(f\"Transformed images, mean is {mean_updated} (should be ca. 0), std is {std_updated} (should be ca. 1)\")"
   ],
   "metadata": {
    "colab": {
     "base_uri": "https://localhost:8080/"
    },
    "id": "f9e9b96046f0247e",
    "outputId": "ada6a550-b524-45b6-c9ff-1fa82718d768",
    "ExecuteTime": {
     "end_time": "2023-09-12T08:53:21.902724600Z",
     "start_time": "2023-09-12T08:53:19.539110500Z"
    }
   },
   "id": "f9e9b96046f0247e"
  },
  {
   "cell_type": "markdown",
   "source": [
    "### Split Train / Validation / Test"
   ],
   "metadata": {
    "collapsed": false,
    "id": "46a2363a2f424b4a"
   },
   "id": "46a2363a2f424b4a"
  },
  {
   "cell_type": "code",
   "execution_count": 7,
   "outputs": [],
   "source": [
    "num_samples = len(dataset)\n",
    "indices = list(range(num_samples))\n",
    "np.random.shuffle(indices)\n",
    "\n",
    "# First 100 are Test data\n",
    "test_split = 120\n",
    "val_split = 240\n",
    "train_idx, valid_idx, test_idx = indices[val_split:], indices[test_split:val_split], indices[:test_split]\n",
    "\n",
    "# define samplers for obtaining training and validation batches\n",
    "train_sampler = SubsetRandomSampler(train_idx)\n",
    "valid_sampler = SubsetRandomSampler(valid_idx)\n",
    "test_sampler = SubsetRandomSampler(test_idx)"
   ],
   "metadata": {
    "id": "bda40924cf9e9597",
    "ExecuteTime": {
     "end_time": "2023-09-12T08:53:21.914029200Z",
     "start_time": "2023-09-12T08:53:21.905317800Z"
    }
   },
   "id": "bda40924cf9e9597"
  },
  {
   "cell_type": "code",
   "execution_count": 8,
   "outputs": [
    {
     "name": "stdout",
     "output_type": "stream",
     "text": [
      "train_idx: 411, test_idx: 120, valid_idx: 120\n"
     ]
    }
   ],
   "source": [
    "print(f\"train_idx: {len(train_idx)}, test_idx: {len(test_idx)}, valid_idx: {len(valid_idx)}\")"
   ],
   "metadata": {
    "colab": {
     "base_uri": "https://localhost:8080/"
    },
    "id": "90e7f01d8eb918dd",
    "outputId": "5019a268-733a-41f6-ec61-341cb72ddce2",
    "ExecuteTime": {
     "end_time": "2023-09-12T08:53:21.915028800Z",
     "start_time": "2023-09-12T08:53:21.907314800Z"
    }
   },
   "id": "90e7f01d8eb918dd"
  },
  {
   "cell_type": "markdown",
   "source": [
    "#### Create the dataloaders\n",
    "We set a feasible batch size"
   ],
   "metadata": {
    "collapsed": false,
    "id": "8822e8a484574fc7"
   },
   "id": "8822e8a484574fc7"
  },
  {
   "cell_type": "code",
   "source": [
    "batch_size = 20\n",
    "\n",
    "train_loader = DataLoader(dataset, sampler=train_sampler, batch_size=batch_size)\n",
    "valid_loader = DataLoader(dataset, sampler=valid_sampler, batch_size=batch_size)\n",
    "test_loader = DataLoader(dataset, sampler=test_sampler, batch_size=batch_size)"
   ],
   "metadata": {
    "id": "Qe9CKBLpTjQb",
    "ExecuteTime": {
     "end_time": "2023-09-12T08:53:32.059572400Z",
     "start_time": "2023-09-12T08:53:32.053278700Z"
    }
   },
   "id": "Qe9CKBLpTjQb",
   "execution_count": 10,
   "outputs": []
  },
  {
   "cell_type": "markdown",
   "source": [
    "### Plot images"
   ],
   "metadata": {
    "id": "TL2OL31k-6ZZ"
   },
   "id": "TL2OL31k-6ZZ"
  },
  {
   "cell_type": "code",
   "source": [
    "import matplotlib.pyplot as plt\n",
    "%matplotlib inline\n",
    "\n",
    "# helper function to un-normalize and display an image\n",
    "def imshow(img):\n",
    "    img = img / 2 + 0.5  # unnormalize\n",
    "    plt.imshow(np.transpose(img, (1, 2, 0)))  # convert from Tensor image"
   ],
   "metadata": {
    "id": "MskYyfkeVnzM",
    "ExecuteTime": {
     "end_time": "2023-09-12T08:53:33.617659500Z",
     "start_time": "2023-09-12T08:53:33.161634300Z"
    }
   },
   "id": "MskYyfkeVnzM",
   "execution_count": 11,
   "outputs": []
  },
  {
   "cell_type": "code",
   "source": [
    "# obtain one batch of training images\n",
    "dataiter = iter(train_loader)\n",
    "images, labels = next(dataiter)\n",
    "images = images.numpy() # convert images to numpy for display\n",
    "\n",
    "# plot the images in the batch, along with the corresponding labels\n",
    "fig = plt.figure(figsize=(25, 4))\n",
    "# display 20 images\n",
    "for idx in np.arange(10):\n",
    "    ax = fig.add_subplot(2, int(20/2), idx+1, xticks=[], yticks=[])\n",
    "    image = images[idx]\n",
    "    image = image - np.amin(image)\n",
    "    image = image / np.amax(image)\n",
    "    imshow(image)\n",
    "    ax.set_title(classes[labels[idx]])"
   ],
   "metadata": {
    "colab": {
     "base_uri": "https://localhost:8080/",
     "height": 343
    },
    "id": "fURI0qHLV4tP",
    "outputId": "a94ac71d-50fb-4be2-8aa6-6ffb6bd3565a",
    "ExecuteTime": {
     "end_time": "2023-09-12T08:53:33.942770300Z",
     "start_time": "2023-09-12T08:53:33.620652800Z"
    }
   },
   "id": "fURI0qHLV4tP",
   "execution_count": 12,
   "outputs": [
    {
     "data": {
      "text/plain": "<Figure size 2500x400 with 10 Axes>",
      "image/png": "[encoded data removed]"
     },
     "metadata": {},
     "output_type": "display_data"
    }
   ]
  },
  {
   "cell_type": "markdown",
   "source": [
    "### Test for CUDA\n",
    "\n",
    "Make sure to install the correct CUDA version and packages, see: https://pytorch.org/get-started/locally/"
   ],
   "metadata": {
    "id": "IUVI5FlnygxS"
   },
   "id": "IUVI5FlnygxS"
  },
  {
   "cell_type": "code",
   "source": [
    "# check if CUDA is available\n",
    "device = 'cuda' if torch.cuda.is_available() else 'cpu'\n",
    "print(f'Using {device}')"
   ],
   "metadata": {
    "colab": {
     "base_uri": "https://localhost:8080/"
    },
    "id": "J4o4lrSAybBi",
    "outputId": "48b011de-7972-40d0-951d-971c4d0a43e9",
    "ExecuteTime": {
     "end_time": "2023-09-12T08:53:35.305278600Z",
     "start_time": "2023-09-12T08:53:35.279386200Z"
    }
   },
   "id": "J4o4lrSAybBi",
   "execution_count": 13,
   "outputs": [
    {
     "name": "stdout",
     "output_type": "stream",
     "text": [
      "Using cuda\n"
     ]
    }
   ]
  },
  {
   "cell_type": "markdown",
   "source": [
    "### Train the Network\n",
    "\n",
    "Remember to look at how the training and validation loss decreases over time; if the validation loss ever increases it indicates possible overfitting."
   ],
   "metadata": {
    "id": "brdgD_8TUapl"
   },
   "id": "brdgD_8TUapl"
  },
  {
   "cell_type": "code",
   "source": [
    "# Define the network: ResNet\n",
    "net = GoogLeNet()\n",
    "net.to(device)\n",
    "\n",
    "# specify loss function\n",
    "criterion = torch.nn.CrossEntropyLoss()\n",
    "\n",
    "# Optimizer and momentum\n",
    "optimizer = torch.optim.Adam(net.parameters(), lr=0.001)\n",
    "\n",
    "model = net\n",
    "train_on_gpu = torch.cuda.is_available()\n",
    "\n",
    "print(f\"Train on GPU: {train_on_gpu}\")"
   ],
   "metadata": {
    "colab": {
     "base_uri": "https://localhost:8080/"
    },
    "id": "TWzZDZRiWNMd",
    "outputId": "29a4f290-7f49-47b7-ad18-6ecd8f48d229",
    "ExecuteTime": {
     "end_time": "2023-09-12T09:10:09.143792400Z",
     "start_time": "2023-09-12T09:10:09.063897200Z"
    }
   },
   "id": "TWzZDZRiWNMd",
   "execution_count": 20,
   "outputs": [
    {
     "name": "stdout",
     "output_type": "stream",
     "text": [
      "Train on GPU: True\n"
     ]
    }
   ]
  },
  {
   "cell_type": "code",
   "execution_count": 21,
   "outputs": [
    {
     "name": "stdout",
     "output_type": "stream",
     "text": [
      "Epoch: 1 \tTraining Loss: 1.176586 \tValidation Loss: 0.332650\n",
      "Validation loss decreased (inf --> 0.332650).  Saving model ...\n",
      "Epoch: 2 \tTraining Loss: 1.018522 \tValidation Loss: 0.301622\n",
      "Validation loss decreased (0.332650 --> 0.301622).  Saving model ...\n",
      "Epoch: 3 \tTraining Loss: 0.982729 \tValidation Loss: 0.345137\n",
      "Epoch: 4 \tTraining Loss: 0.933437 \tValidation Loss: 0.299102\n",
      "Validation loss decreased (0.301622 --> 0.299102).  Saving model ...\n",
      "Epoch: 5 \tTraining Loss: 0.875450 \tValidation Loss: 0.350032\n",
      "Epoch: 6 \tTraining Loss: 0.822142 \tValidation Loss: 0.424354\n",
      "Epoch: 7 \tTraining Loss: 0.730200 \tValidation Loss: 0.239468\n",
      "Validation loss decreased (0.299102 --> 0.239468).  Saving model ...\n",
      "Epoch: 8 \tTraining Loss: 0.693419 \tValidation Loss: 0.341344\n",
      "Epoch: 9 \tTraining Loss: 0.677229 \tValidation Loss: 0.228009\n",
      "Validation loss decreased (0.239468 --> 0.228009).  Saving model ...\n",
      "Epoch: 10 \tTraining Loss: 0.660554 \tValidation Loss: 0.282181\n",
      "Epoch: 11 \tTraining Loss: 0.621576 \tValidation Loss: 0.249719\n",
      "Epoch: 12 \tTraining Loss: 0.571003 \tValidation Loss: 0.289968\n",
      "Epoch: 13 \tTraining Loss: 0.541232 \tValidation Loss: 0.200190\n",
      "Validation loss decreased (0.228009 --> 0.200190).  Saving model ...\n",
      "Epoch: 14 \tTraining Loss: 0.485401 \tValidation Loss: 0.212216\n",
      "Epoch: 15 \tTraining Loss: 0.516970 \tValidation Loss: 0.328600\n",
      "Epoch: 16 \tTraining Loss: 0.545846 \tValidation Loss: 0.266236\n",
      "Epoch: 17 \tTraining Loss: 0.523476 \tValidation Loss: 0.209017\n",
      "Epoch: 18 \tTraining Loss: 0.451750 \tValidation Loss: 0.237115\n",
      "Epoch: 19 \tTraining Loss: 0.469650 \tValidation Loss: 0.276928\n",
      "Epoch: 20 \tTraining Loss: 0.490281 \tValidation Loss: 0.458959\n",
      "Epoch: 21 \tTraining Loss: 0.532033 \tValidation Loss: 0.195015\n",
      "Validation loss decreased (0.200190 --> 0.195015).  Saving model ...\n",
      "Epoch: 22 \tTraining Loss: 0.446482 \tValidation Loss: 0.332563\n",
      "Epoch: 23 \tTraining Loss: 0.407739 \tValidation Loss: 0.215484\n",
      "Epoch: 24 \tTraining Loss: 0.399068 \tValidation Loss: 0.523785\n",
      "Epoch: 25 \tTraining Loss: 0.436104 \tValidation Loss: 0.305540\n",
      "Epoch: 26 \tTraining Loss: 0.388835 \tValidation Loss: 0.214764\n",
      "Epoch: 27 \tTraining Loss: 0.429041 \tValidation Loss: 0.193512\n",
      "Validation loss decreased (0.195015 --> 0.193512).  Saving model ...\n",
      "Epoch: 28 \tTraining Loss: 0.338518 \tValidation Loss: 0.176542\n",
      "Validation loss decreased (0.193512 --> 0.176542).  Saving model ...\n",
      "Epoch: 29 \tTraining Loss: 0.352927 \tValidation Loss: 0.308254\n",
      "Epoch: 30 \tTraining Loss: 0.362566 \tValidation Loss: 0.196616\n",
      "Epoch: 31 \tTraining Loss: 0.322168 \tValidation Loss: 0.194454\n",
      "Epoch: 32 \tTraining Loss: 0.344521 \tValidation Loss: 0.245887\n",
      "Epoch: 33 \tTraining Loss: 0.319720 \tValidation Loss: 0.167230\n",
      "Validation loss decreased (0.176542 --> 0.167230).  Saving model ...\n",
      "Epoch: 34 \tTraining Loss: 0.264000 \tValidation Loss: 0.170854\n",
      "Epoch: 35 \tTraining Loss: 0.236747 \tValidation Loss: 0.137619\n",
      "Validation loss decreased (0.167230 --> 0.137619).  Saving model ...\n",
      "Epoch: 36 \tTraining Loss: 0.203924 \tValidation Loss: 0.152684\n",
      "Epoch: 37 \tTraining Loss: 0.188933 \tValidation Loss: 0.192456\n",
      "Epoch: 38 \tTraining Loss: 0.225743 \tValidation Loss: 0.200985\n",
      "Epoch: 39 \tTraining Loss: 0.197957 \tValidation Loss: 0.154287\n",
      "Epoch: 40 \tTraining Loss: 0.214656 \tValidation Loss: 0.365734\n",
      "Epoch: 41 \tTraining Loss: 0.224475 \tValidation Loss: 0.278692\n",
      "Epoch: 42 \tTraining Loss: 0.214093 \tValidation Loss: 0.530562\n",
      "Epoch: 43 \tTraining Loss: 0.176883 \tValidation Loss: 0.195482\n",
      "Epoch: 44 \tTraining Loss: 0.208394 \tValidation Loss: 0.285158\n",
      "Epoch: 45 \tTraining Loss: 0.155109 \tValidation Loss: 0.161243\n",
      "Epoch: 46 \tTraining Loss: 0.152325 \tValidation Loss: 0.366360\n",
      "Epoch: 47 \tTraining Loss: 0.170568 \tValidation Loss: 0.182207\n",
      "Epoch: 48 \tTraining Loss: 0.212020 \tValidation Loss: 0.212734\n",
      "Epoch: 49 \tTraining Loss: 0.146963 \tValidation Loss: 0.185220\n",
      "Epoch: 50 \tTraining Loss: 0.110504 \tValidation Loss: 0.222514\n",
      "Epoch: 51 \tTraining Loss: 0.123450 \tValidation Loss: 0.183793\n",
      "Epoch: 52 \tTraining Loss: 0.130372 \tValidation Loss: 0.163987\n",
      "Epoch: 53 \tTraining Loss: 0.123887 \tValidation Loss: 0.210865\n",
      "Epoch: 54 \tTraining Loss: 0.132680 \tValidation Loss: 0.284749\n",
      "Epoch: 55 \tTraining Loss: 0.105898 \tValidation Loss: 0.184675\n",
      "Epoch: 56 \tTraining Loss: 0.120563 \tValidation Loss: 0.185323\n",
      "Epoch: 57 \tTraining Loss: 0.108794 \tValidation Loss: 0.201825\n",
      "Epoch: 58 \tTraining Loss: 0.095234 \tValidation Loss: 0.174280\n",
      "Epoch: 59 \tTraining Loss: 0.078742 \tValidation Loss: 0.203885\n",
      "Epoch: 60 \tTraining Loss: 0.096145 \tValidation Loss: 0.250028\n",
      "Epoch: 61 \tTraining Loss: 0.121852 \tValidation Loss: 0.216571\n",
      "Epoch: 62 \tTraining Loss: 0.117706 \tValidation Loss: 0.170845\n",
      "Epoch: 63 \tTraining Loss: 0.125359 \tValidation Loss: 0.201866\n",
      "Epoch: 64 \tTraining Loss: 0.092635 \tValidation Loss: 0.157051\n",
      "Epoch: 65 \tTraining Loss: 0.060278 \tValidation Loss: 0.188869\n",
      "Epoch: 66 \tTraining Loss: 0.051457 \tValidation Loss: 0.171620\n",
      "Epoch: 67 \tTraining Loss: 0.040712 \tValidation Loss: 0.202043\n",
      "Epoch: 68 \tTraining Loss: 0.084949 \tValidation Loss: 0.184426\n",
      "Epoch: 69 \tTraining Loss: 0.115274 \tValidation Loss: 0.288123\n",
      "Epoch: 70 \tTraining Loss: 0.119488 \tValidation Loss: 0.260294\n",
      "Epoch: 71 \tTraining Loss: 0.085368 \tValidation Loss: 0.219615\n",
      "Epoch: 72 \tTraining Loss: 0.053129 \tValidation Loss: 0.162801\n",
      "Epoch: 73 \tTraining Loss: 0.027573 \tValidation Loss: 0.161356\n",
      "Epoch: 74 \tTraining Loss: 0.043455 \tValidation Loss: 0.232636\n",
      "Epoch: 75 \tTraining Loss: 0.041120 \tValidation Loss: 0.216504\n",
      "Epoch: 76 \tTraining Loss: 0.040085 \tValidation Loss: 0.195842\n",
      "Epoch: 77 \tTraining Loss: 0.054683 \tValidation Loss: 0.229607\n",
      "Epoch: 78 \tTraining Loss: 0.040366 \tValidation Loss: 0.211274\n",
      "Epoch: 79 \tTraining Loss: 0.047307 \tValidation Loss: 0.301578\n",
      "Epoch: 80 \tTraining Loss: 0.046217 \tValidation Loss: 0.277111\n",
      "Epoch: 81 \tTraining Loss: 0.049725 \tValidation Loss: 0.223725\n",
      "Epoch: 82 \tTraining Loss: 0.065859 \tValidation Loss: 0.316488\n",
      "Epoch: 83 \tTraining Loss: 0.079560 \tValidation Loss: 0.214098\n",
      "Epoch: 84 \tTraining Loss: 0.061477 \tValidation Loss: 0.226893\n",
      "Epoch: 85 \tTraining Loss: 0.053698 \tValidation Loss: 0.199506\n",
      "Epoch: 86 \tTraining Loss: 0.035034 \tValidation Loss: 0.204151\n",
      "Epoch: 87 \tTraining Loss: 0.044407 \tValidation Loss: 0.217521\n",
      "Epoch: 88 \tTraining Loss: 0.044263 \tValidation Loss: 0.183255\n",
      "Epoch: 89 \tTraining Loss: 0.043940 \tValidation Loss: 0.219681\n",
      "Epoch: 90 \tTraining Loss: 0.051975 \tValidation Loss: 0.186554\n",
      "Epoch: 91 \tTraining Loss: 0.112991 \tValidation Loss: 0.222474\n",
      "Epoch: 92 \tTraining Loss: 0.086391 \tValidation Loss: 0.214042\n",
      "Epoch: 93 \tTraining Loss: 0.046002 \tValidation Loss: 0.184792\n",
      "Epoch: 94 \tTraining Loss: 0.020520 \tValidation Loss: 0.250182\n",
      "Epoch: 95 \tTraining Loss: 0.033689 \tValidation Loss: 0.189785\n",
      "Epoch: 96 \tTraining Loss: 0.022190 \tValidation Loss: 0.158691\n",
      "Epoch: 97 \tTraining Loss: 0.054266 \tValidation Loss: 0.258093\n",
      "Epoch: 98 \tTraining Loss: 0.075727 \tValidation Loss: 0.222429\n",
      "Epoch: 99 \tTraining Loss: 0.079325 \tValidation Loss: 0.198171\n",
      "Epoch: 100 \tTraining Loss: 0.059868 \tValidation Loss: 0.262040\n"
     ]
    }
   ],
   "source": [
    "# number of epochs to train the model\n",
    "n_epochs = 100 # you may increase this number to train a final model\n",
    "\n",
    "valid_loss_min = np.Inf # track change in validation loss\n",
    "\n",
    "for epoch in range(1, n_epochs+1):\n",
    "\n",
    "    # keep track of training and validation loss\n",
    "    train_loss = 0.0\n",
    "    valid_loss = 0.0\n",
    "\n",
    "    ###################\n",
    "    # train the model #\n",
    "    ###################\n",
    "    model.train()\n",
    "    for data, target in train_loader:\n",
    "        # move tensors to GPU if CUDA is available\n",
    "        if train_on_gpu:\n",
    "            data, target = data.cuda(), target.cuda()\n",
    "        # clear the gradients of all optimized variables\n",
    "        optimizer.zero_grad()\n",
    "        # forward pass: compute predicted outputs by passing inputs to the model\n",
    "        output = model(data)\n",
    "        # calculate the batch loss\n",
    "        loss = criterion(output, target)\n",
    "        # backward pass: compute gradient of the loss with respect to model parameters\n",
    "        loss.backward()\n",
    "        # perform a single optimization step (parameter update)\n",
    "        optimizer.step()\n",
    "        # update training loss\n",
    "        train_loss += loss.item()*data.size(0)\n",
    "\n",
    "    ######################\n",
    "    # validate the model #\n",
    "    ######################\n",
    "    model.eval()\n",
    "    for data, target in valid_loader:\n",
    "        # move tensors to GPU if CUDA is available\n",
    "        if train_on_gpu:\n",
    "            data, target = data.cuda(), target.cuda()\n",
    "        # forward pass: compute predicted outputs by passing inputs to the model\n",
    "        output = model(data)\n",
    "        # calculate the batch loss\n",
    "        loss = criterion(output, target)\n",
    "        # update average validation loss\n",
    "        valid_loss += loss.item()*data.size(0)\n",
    "\n",
    "    # calculate average losses\n",
    "    train_loss = train_loss/len(train_loader.dataset)\n",
    "    valid_loss = valid_loss/len(valid_loader.dataset)\n",
    "\n",
    "    # print training/validation statistics\n",
    "    print('Epoch: {} \\tTraining Loss: {:.6f} \\tValidation Loss: {:.6f}'.format(\n",
    "        epoch, train_loss, valid_loss))\n",
    "\n",
    "    # save model if validation loss has decreased\n",
    "    if valid_loss <= valid_loss_min:\n",
    "        print('Validation loss decreased ({:.6f} --> {:.6f}).  Saving model ...'.format(\n",
    "        valid_loss_min,\n",
    "        valid_loss))\n",
    "        torch.save(model.state_dict(), 'model_cifar.pt')\n",
    "        valid_loss_min = valid_loss"
   ],
   "metadata": {
    "id": "b6c26a9ebbc10e99",
    "colab": {
     "base_uri": "https://localhost:8080/"
    },
    "outputId": "a7005836-3afa-43c5-a6ea-2a45c1c6e056",
    "ExecuteTime": {
     "end_time": "2023-09-12T09:29:39.867681500Z",
     "start_time": "2023-09-12T09:10:09.418336500Z"
    }
   },
   "id": "b6c26a9ebbc10e99"
  },
  {
   "cell_type": "markdown",
   "source": [
    "###  Load the Model with the Lowest Validation Loss\n"
   ],
   "metadata": {
    "id": "BlbneuXNUc0g"
   },
   "id": "BlbneuXNUc0g"
  },
  {
   "cell_type": "code",
   "source": [
    "model.load_state_dict(torch.load('model_cifar.pt'))\n"
   ],
   "metadata": {
    "colab": {
     "base_uri": "https://localhost:8080/"
    },
    "id": "6X994z2wUPDE",
    "outputId": "220039f5-98c7-447b-adab-528b659922cf",
    "ExecuteTime": {
     "end_time": "2023-09-12T09:30:32.662281500Z",
     "start_time": "2023-09-12T09:30:32.583824700Z"
    }
   },
   "id": "6X994z2wUPDE",
   "execution_count": 22,
   "outputs": [
    {
     "data": {
      "text/plain": "<All keys matched successfully>"
     },
     "execution_count": 22,
     "metadata": {},
     "output_type": "execute_result"
    }
   ]
  },
  {
   "cell_type": "markdown",
   "source": [
    "---\n",
    "## Test the Trained Network\n",
    "\n",
    "Test your trained model on previously unseen data! A \"good\" result will be a CNN that gets around 70% (or more, try your best!) accuracy on these test images."
   ],
   "metadata": {
    "id": "SgHJ6d-QUeIv"
   },
   "id": "SgHJ6d-QUeIv"
  },
  {
   "cell_type": "code",
   "source": [
    "# track test loss\n",
    "test_loss = 0.0\n",
    "class_correct = list(0. for i in range(num_classes))\n",
    "class_total = list(0. for i in range(num_classes))\n",
    "\n",
    "model.eval()\n",
    "# iterate over test data\n",
    "for data, target in test_loader:\n",
    "    # move tensors to GPU if CUDA is available\n",
    "    if train_on_gpu:\n",
    "        data, target = data.cuda(), target.cuda()\n",
    "    # forward pass: compute predicted outputs by passing inputs to the model\n",
    "    output = model(data)\n",
    "    # calculate the batch loss\n",
    "    loss = criterion(output, target)\n",
    "    # update test loss\n",
    "    test_loss += loss.item()*data.size(0)\n",
    "    # convert output probabilities to predicted class\n",
    "    _, pred = torch.max(output, 1)\n",
    "    # compare predictions to true label\n",
    "    correct_tensor = pred.eq(target.data.view_as(pred))\n",
    "    correct = np.squeeze(correct_tensor.numpy()) if not train_on_gpu else np.squeeze(correct_tensor.cpu().numpy())\n",
    "    # calculate test accuracy for each object class\n",
    "    for i in range(batch_size):\n",
    "        label = target.data[i]\n",
    "        class_correct[label] += correct[i].item()\n",
    "        class_total[label] += 1\n",
    "\n",
    "# average test loss\n",
    "test_loss = test_loss/len(test_loader.dataset)\n",
    "print('Test Loss: {:.6f}\\n'.format(test_loss))\n",
    "\n",
    "for i in range(num_classes):\n",
    "    if class_total[i] > 0:\n",
    "        print('Test Accuracy of %5s: %2d%% (%2d/%2d)' % (\n",
    "            classes[i], 100 * class_correct[i] / class_total[i],\n",
    "            np.sum(class_correct[i]), np.sum(class_total[i])))\n",
    "    else:\n",
    "        print('Test Accuracy of %5s: N/A (no training examples)' % (classes[i]))\n",
    "\n",
    "print('\\nTest Accuracy (Overall): %2d%% (%2d/%2d)' % (\n",
    "    100. * np.sum(class_correct) / np.sum(class_total),\n",
    "    np.sum(class_correct), np.sum(class_total)))"
   ],
   "metadata": {
    "colab": {
     "base_uri": "https://localhost:8080/"
    },
    "id": "qauYOZJdUSAw",
    "outputId": "0d6ba2d7-ef12-4e0f-ba2a-ac7a644ea878",
    "ExecuteTime": {
     "end_time": "2023-09-12T09:30:33.725332900Z",
     "start_time": "2023-09-12T09:30:32.875504400Z"
    }
   },
   "id": "qauYOZJdUSAw",
   "execution_count": 23,
   "outputs": [
    {
     "name": "stdout",
     "output_type": "stream",
     "text": [
      "Test Loss: 0.182594\n",
      "\n",
      "Test Accuracy of Queen: 65% (17/26)\n",
      "Test Accuracy of  Rook: 71% (25/35)\n",
      "Test Accuracy of bishop: 88% (15/17)\n",
      "Test Accuracy of knight: 57% (16/28)\n",
      "Test Accuracy of  pawn: 78% (11/14)\n",
      "\n",
      "Test Accuracy (Overall): 70% (84/120)\n"
     ]
    }
   ]
  },
  {
   "cell_type": "code",
   "source": [
    "# obtain one batch of test images\n",
    "dataiter = iter(test_loader)\n",
    "images, labels = next(dataiter)\n",
    "images.numpy()\n",
    "\n",
    "# move model inputs to cuda, if GPU available\n",
    "if train_on_gpu:\n",
    "    images = images.cuda()\n",
    "\n",
    "# get sample outputs\n",
    "output = model(images)\n",
    "# convert output probabilities to predicted class\n",
    "_, preds_tensor = torch.max(output, 1)\n",
    "preds = np.squeeze(preds_tensor.numpy()) if not train_on_gpu else np.squeeze(preds_tensor.cpu().numpy())\n",
    "\n",
    "# plot the images in the batch, along with predicted and true labels\n",
    "fig = plt.figure(figsize=(25, 4))\n",
    "\n",
    "amount_images = 20\n",
    "image_per_row = 10\n",
    "for idx in np.arange(amount_images):\n",
    "    ax = fig.add_subplot(int(amount_images / image_per_row), image_per_row, idx+1, xticks=[], yticks=[])\n",
    "    image = images.cpu()[idx]\n",
    "    image = image - torch.amin(image)\n",
    "    image = image / torch.amax(image)\n",
    "    imshow(image)\n",
    "    ax.set_title(\"{} ({})\".format(classes[preds[idx]], classes[labels[idx]]),\n",
    "                 color=(\"green\" if preds[idx]==labels[idx].item() else \"red\"))"
   ],
   "metadata": {
    "colab": {
     "base_uri": "https://localhost:8080/",
     "height": 343
    },
    "id": "vssZYpcJbaNP",
    "outputId": "7b4c9401-34c6-47a2-e5b7-efae60b6dd6b",
    "ExecuteTime": {
     "end_time": "2023-09-12T09:30:58.531013800Z",
     "start_time": "2023-09-12T09:30:57.654062500Z"
    }
   },
   "id": "vssZYpcJbaNP",
   "execution_count": 25,
   "outputs": [
    {
     "data": {
      "text/plain": "<Figure size 2500x400 with 20 Axes>",
      "image/png": "[encoded data removed]"
     },
     "metadata": {},
     "output_type": "display_data"
    }
   ]
  },
  {
   "cell_type": "code",
   "execution_count": null,
   "outputs": [],
   "source": [],
   "metadata": {
    "collapsed": false
   },
   "id": "ba3940d4af4ca4db"
  }
 ],
 "metadata": {
  "kernelspec": {
   "name": "python3",
   "language": "python",
   "display_name": "Python 3 (ipykernel)"
  },
  "language_info": {
   "codemirror_mode": {
    "name": "ipython",
    "version": 2
   },
   "file_extension": ".py",
   "mimetype": "text/x-python",
   "name": "python",
   "nbconvert_exporter": "python",
   "pygments_lexer": "ipython2",
   "version": "2.7.6"
  },
  "colab": {
   "provenance": [],
   "machine_shape": "hm",
   "gpuType": "T4"
  },
  "accelerator": "GPU"
 },
 "nbformat": 4,
 "nbformat_minor": 5
}
