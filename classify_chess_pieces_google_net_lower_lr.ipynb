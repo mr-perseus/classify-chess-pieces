{
 "cells": [
  {
   "cell_type": "markdown",
   "source": [
    "### GoogLeNet\n",
    "\n",
    "Source: https://github.com/kuangliu/pytorch-cifar/blob/master/models/googlenet.py"
   ],
   "metadata": {
    "id": "8Cw22kfolpDt"
   },
   "id": "8Cw22kfolpDt"
  },
  {
   "cell_type": "code",
   "source": [
    "'''GoogLeNet with PyTorch.'''\n",
    "import torch\n",
    "import torch.nn as nn\n",
    "import torch.nn.functional as F\n",
    "\n",
    "\n",
    "class Inception(nn.Module):\n",
    "    def __init__(self, in_planes, n1x1, n3x3red, n3x3, n5x5red, n5x5, pool_planes):\n",
    "        super(Inception, self).__init__()\n",
    "        # 1x1 conv branch\n",
    "        self.b1 = nn.Sequential(\n",
    "            nn.Conv2d(in_planes, n1x1, kernel_size=1),\n",
    "            nn.BatchNorm2d(n1x1),\n",
    "            nn.ReLU(True),\n",
    "        )\n",
    "\n",
    "        # 1x1 conv -> 3x3 conv branch\n",
    "        self.b2 = nn.Sequential(\n",
    "            nn.Conv2d(in_planes, n3x3red, kernel_size=1),\n",
    "            nn.BatchNorm2d(n3x3red),\n",
    "            nn.ReLU(True),\n",
    "            nn.Conv2d(n3x3red, n3x3, kernel_size=3, padding=1),\n",
    "            nn.BatchNorm2d(n3x3),\n",
    "            nn.ReLU(True),\n",
    "        )\n",
    "\n",
    "        # 1x1 conv -> 5x5 conv branch\n",
    "        self.b3 = nn.Sequential(\n",
    "            nn.Conv2d(in_planes, n5x5red, kernel_size=1),\n",
    "            nn.BatchNorm2d(n5x5red),\n",
    "            nn.ReLU(True),\n",
    "            nn.Conv2d(n5x5red, n5x5, kernel_size=3, padding=1),\n",
    "            nn.BatchNorm2d(n5x5),\n",
    "            nn.ReLU(True),\n",
    "            nn.Conv2d(n5x5, n5x5, kernel_size=3, padding=1),\n",
    "            nn.BatchNorm2d(n5x5),\n",
    "            nn.ReLU(True),\n",
    "        )\n",
    "\n",
    "        # 3x3 pool -> 1x1 conv branch\n",
    "        self.b4 = nn.Sequential(\n",
    "            nn.MaxPool2d(3, stride=1, padding=1),\n",
    "            nn.Conv2d(in_planes, pool_planes, kernel_size=1),\n",
    "            nn.BatchNorm2d(pool_planes),\n",
    "            nn.ReLU(True),\n",
    "        )\n",
    "\n",
    "    def forward(self, x):\n",
    "        y1 = self.b1(x)\n",
    "        y2 = self.b2(x)\n",
    "        y3 = self.b3(x)\n",
    "        y4 = self.b4(x)\n",
    "        return torch.cat([y1,y2,y3,y4], 1)\n",
    "\n",
    "\n",
    "class GoogLeNet(nn.Module):\n",
    "    def __init__(self):\n",
    "        super(GoogLeNet, self).__init__()\n",
    "        self.pre_layers = nn.Sequential(\n",
    "            nn.Conv2d(3, 192, kernel_size=3, padding=1),\n",
    "            nn.BatchNorm2d(192),\n",
    "            nn.ReLU(True),\n",
    "        )\n",
    "\n",
    "        self.a3 = Inception(192,  64,  96, 128, 16, 32, 32)\n",
    "        self.b3 = Inception(256, 128, 128, 192, 32, 96, 64)\n",
    "\n",
    "        self.maxpool = nn.MaxPool2d(3, stride=2, padding=1)\n",
    "\n",
    "        self.a4 = Inception(480, 192,  96, 208, 16,  48,  64)\n",
    "        self.b4 = Inception(512, 160, 112, 224, 24,  64,  64)\n",
    "        self.c4 = Inception(512, 128, 128, 256, 24,  64,  64)\n",
    "        self.d4 = Inception(512, 112, 144, 288, 32,  64,  64)\n",
    "        self.e4 = Inception(528, 256, 160, 320, 32, 128, 128)\n",
    "\n",
    "        self.a5 = Inception(832, 256, 160, 320, 32, 128, 128)\n",
    "        self.b5 = Inception(832, 384, 192, 384, 48, 128, 128)\n",
    "\n",
    "        self.avgpool = nn.AvgPool2d(8, stride=1)\n",
    "        self.linear = nn.Linear(1024, 10)\n",
    "\n",
    "    def forward(self, x):\n",
    "        out = self.pre_layers(x)\n",
    "        out = self.a3(out)\n",
    "        out = self.b3(out)\n",
    "        out = self.maxpool(out)\n",
    "        out = self.a4(out)\n",
    "        out = self.b4(out)\n",
    "        out = self.c4(out)\n",
    "        out = self.d4(out)\n",
    "        out = self.e4(out)\n",
    "        out = self.maxpool(out)\n",
    "        out = self.a5(out)\n",
    "        out = self.b5(out)\n",
    "        out = self.avgpool(out)\n",
    "        out = out.view(out.size(0), -1)\n",
    "        out = self.linear(out)\n",
    "        return out\n",
    "\n",
    "\n",
    "def test():\n",
    "    net = GoogLeNet()\n",
    "    x = torch.randn(1,3,32,32)\n",
    "    y = net(x)\n",
    "    print(y.size())\n",
    "\n",
    "# test()"
   ],
   "metadata": {
    "id": "88VLaSHYcCOO",
    "ExecuteTime": {
     "end_time": "2023-09-12T18:02:25.559379900Z",
     "start_time": "2023-09-12T18:02:23.576474200Z"
    }
   },
   "id": "88VLaSHYcCOO",
   "execution_count": 1,
   "outputs": []
  },
  {
   "cell_type": "markdown",
   "source": [
    "### Imports"
   ],
   "metadata": {
    "id": "iiaj0ElklrEv"
   },
   "id": "iiaj0ElklrEv"
  },
  {
   "cell_type": "code",
   "execution_count": 2,
   "id": "initial_id",
   "metadata": {
    "collapsed": true,
    "id": "initial_id",
    "ExecuteTime": {
     "end_time": "2023-09-12T18:02:25.829688300Z",
     "start_time": "2023-09-12T18:02:25.561374900Z"
    }
   },
   "outputs": [],
   "source": [
    "import torch\n",
    "from torch.utils.data import DataLoader, random_split\n",
    "\n",
    "from torchvision import datasets, transforms\n",
    "\n",
    "import numpy as np\n",
    "\n",
    "from torch.utils.data.sampler import SubsetRandomSampler"
   ]
  },
  {
   "cell_type": "markdown",
   "source": [
    "### Load Images"
   ],
   "metadata": {
    "collapsed": false,
    "id": "beef2e82b83e0f6a"
   },
   "id": "beef2e82b83e0f6a"
  },
  {
   "cell_type": "markdown",
   "source": [
    "#### Load the dataset and dataloader\n",
    "\n",
    "We do this with a basic transformer, which only resizes the images.\n",
    "\n",
    "Images from Kaggle\n",
    "\n",
    "Source: https://www.kaggle.com/datasets/anshulmehtakaggl/chess-pieces-detection-images-dataset"
   ],
   "metadata": {
    "id": "zgAa64MX11cS"
   },
   "id": "zgAa64MX11cS"
  },
  {
   "cell_type": "code",
   "execution_count": 20,
   "outputs": [],
   "source": [
    "\n",
    "images_path = 'data/images_2'\n",
    "\n",
    "basic_transforms = transforms.Compose([\n",
    "    transforms.RandomCrop(192, padding=4),\n",
    "    transforms.Resize((32, 32)), # Transform so they go into the ResNet NN\n",
    "    transforms.ToTensor(),\n",
    "])\n",
    "\n",
    "untransformed_dataset = datasets.ImageFolder(root=images_path, transform=basic_transforms)"
   ],
   "metadata": {
    "id": "ac7dcfe40c051c1e",
    "ExecuteTime": {
     "end_time": "2023-09-12T18:10:24.440150700Z",
     "start_time": "2023-09-12T18:10:24.400159200Z"
    }
   },
   "id": "ac7dcfe40c051c1e"
  },
  {
   "cell_type": "markdown",
   "source": [
    "### Function to get mean / std from images. Source:\n",
    "\n",
    "Source: https://github.com/kuangliu/pytorch-cifar/blob/master/utils.py"
   ],
   "metadata": {
    "id": "RDs2Qc0H5YiG"
   },
   "id": "RDs2Qc0H5YiG"
  },
  {
   "cell_type": "code",
   "execution_count": 21,
   "outputs": [
    {
     "name": "stdout",
     "output_type": "stream",
     "text": [
      "==> Computing mean and std..\n",
      "Untransformed images, mean is tensor([0.6534, 0.6408, 0.6276]), std is tensor([0.2176, 0.2234, 0.2258])\n"
     ]
    }
   ],
   "source": [
    "def get_mean_and_std(dataset):\n",
    "    '''Compute the mean and std value of dataset.'''\n",
    "    dataloader = torch.utils.data.DataLoader(dataset, batch_size=1, shuffle=True, num_workers=2)\n",
    "    mean = torch.zeros(3)\n",
    "    std = torch.zeros(3)\n",
    "    print('==> Computing mean and std..')\n",
    "    for inputs, targets in dataloader:\n",
    "        for i in range(3):\n",
    "            mean[i] += inputs[:,i,:,:].mean()\n",
    "            std[i] += inputs[:,i,:,:].std()\n",
    "    mean.div_(len(dataset))\n",
    "    std.div_(len(dataset))\n",
    "    return mean, std\n",
    "\n",
    "mean, std= get_mean_and_std(untransformed_dataset)\n",
    "print(f\"Untransformed images, mean is {mean}, std is {std}\")"
   ],
   "metadata": {
    "colab": {
     "base_uri": "https://localhost:8080/"
    },
    "id": "c52df3fae11e40cc",
    "outputId": "04b2309b-32f1-47f8-a3c9-89cc1ef03bf6",
    "ExecuteTime": {
     "end_time": "2023-09-12T18:10:28.238219400Z",
     "start_time": "2023-09-12T18:10:25.203310400Z"
    }
   },
   "id": "c52df3fae11e40cc"
  },
  {
   "cell_type": "markdown",
   "source": [
    "#### Load dataset normalized with mean / std from above"
   ],
   "metadata": {
    "collapsed": false,
    "id": "256125cee991731f"
   },
   "id": "256125cee991731f"
  },
  {
   "cell_type": "code",
   "execution_count": 22,
   "outputs": [],
   "source": [
    "enhanced_transforms = transforms.Compose([\n",
    "    transforms.RandomCrop(192, padding=4),\n",
    "    transforms.Resize((32, 32)), # Transform so they go into the ResNet NN\n",
    "    transforms.RandomHorizontalFlip(),\n",
    "    transforms.ToTensor(),\n",
    "    transforms.Normalize(mean=mean, std=std), # With the before calculated mean, std values.\n",
    "])\n",
    "\n",
    "# Dataset with the correctly transformed images\n",
    "dataset = datasets.ImageFolder(root=images_path, transform=enhanced_transforms)\n",
    "\n",
    "classes = dataset.classes\n",
    "num_classes= len(dataset.classes)"
   ],
   "metadata": {
    "id": "e2be897fa1238bd8",
    "ExecuteTime": {
     "end_time": "2023-09-12T18:10:28.261148200Z",
     "start_time": "2023-09-12T18:10:28.239217Z"
    }
   },
   "id": "e2be897fa1238bd8"
  },
  {
   "cell_type": "code",
   "execution_count": 23,
   "outputs": [
    {
     "name": "stdout",
     "output_type": "stream",
     "text": [
      "Dataset has classes: ['Queen', 'Rook', 'bishop', 'knight', 'pawn'] (length: 5) Dataset length: is 651\n",
      "==> Computing mean and std..\n",
      "Transformed images, mean is tensor([-0.0049, -0.0044, -0.0039]) (should be ca. 0), std is tensor([0.9950, 0.9953, 0.9946]) (should be ca. 1)\n"
     ]
    }
   ],
   "source": [
    "print(f\"Dataset has classes: {classes} (length: {num_classes}) Dataset length: is {len(dataset)}\")\n",
    "\n",
    "mean_updated, std_updated = get_mean_and_std(dataset)\n",
    "print(f\"Transformed images, mean is {mean_updated} (should be ca. 0), std is {std_updated} (should be ca. 1)\")"
   ],
   "metadata": {
    "colab": {
     "base_uri": "https://localhost:8080/"
    },
    "id": "f9e9b96046f0247e",
    "outputId": "ada6a550-b524-45b6-c9ff-1fa82718d768",
    "ExecuteTime": {
     "end_time": "2023-09-12T18:10:31.724614500Z",
     "start_time": "2023-09-12T18:10:28.262145Z"
    }
   },
   "id": "f9e9b96046f0247e"
  },
  {
   "cell_type": "markdown",
   "source": [
    "### Split Train / Validation / Test"
   ],
   "metadata": {
    "collapsed": false,
    "id": "46a2363a2f424b4a"
   },
   "id": "46a2363a2f424b4a"
  },
  {
   "cell_type": "code",
   "execution_count": 24,
   "outputs": [],
   "source": [
    "num_samples = len(dataset)\n",
    "indices = list(range(num_samples))\n",
    "np.random.shuffle(indices)\n",
    "\n",
    "# First 100 are Test data\n",
    "test_split = 120\n",
    "val_split = 240\n",
    "train_idx, valid_idx, test_idx = indices[val_split:], indices[test_split:val_split], indices[:test_split]\n",
    "\n",
    "# define samplers for obtaining training and validation batches\n",
    "train_sampler = SubsetRandomSampler(train_idx)\n",
    "valid_sampler = SubsetRandomSampler(valid_idx)\n",
    "test_sampler = SubsetRandomSampler(test_idx)"
   ],
   "metadata": {
    "id": "bda40924cf9e9597",
    "ExecuteTime": {
     "end_time": "2023-09-12T18:10:31.734612700Z",
     "start_time": "2023-09-12T18:10:31.727000800Z"
    }
   },
   "id": "bda40924cf9e9597"
  },
  {
   "cell_type": "code",
   "execution_count": 25,
   "outputs": [
    {
     "name": "stdout",
     "output_type": "stream",
     "text": [
      "train_idx: 411, test_idx: 120, valid_idx: 120\n"
     ]
    }
   ],
   "source": [
    "print(f\"train_idx: {len(train_idx)}, test_idx: {len(test_idx)}, valid_idx: {len(valid_idx)}\")"
   ],
   "metadata": {
    "colab": {
     "base_uri": "https://localhost:8080/"
    },
    "id": "90e7f01d8eb918dd",
    "outputId": "5019a268-733a-41f6-ec61-341cb72ddce2",
    "ExecuteTime": {
     "end_time": "2023-09-12T18:10:31.734612700Z",
     "start_time": "2023-09-12T18:10:31.730504700Z"
    }
   },
   "id": "90e7f01d8eb918dd"
  },
  {
   "cell_type": "markdown",
   "source": [
    "#### Create the dataloaders\n",
    "We set a feasible batch size"
   ],
   "metadata": {
    "collapsed": false,
    "id": "8822e8a484574fc7"
   },
   "id": "8822e8a484574fc7"
  },
  {
   "cell_type": "code",
   "source": [
    "batch_size = 20\n",
    "\n",
    "train_loader = DataLoader(dataset, sampler=train_sampler, batch_size=batch_size)\n",
    "valid_loader = DataLoader(dataset, sampler=valid_sampler, batch_size=batch_size)\n",
    "test_loader = DataLoader(dataset, sampler=test_sampler, batch_size=batch_size)"
   ],
   "metadata": {
    "id": "Qe9CKBLpTjQb",
    "ExecuteTime": {
     "end_time": "2023-09-12T18:10:31.744299800Z",
     "start_time": "2023-09-12T18:10:31.734612700Z"
    }
   },
   "id": "Qe9CKBLpTjQb",
   "execution_count": 26,
   "outputs": []
  },
  {
   "cell_type": "markdown",
   "source": [
    "### Plot images"
   ],
   "metadata": {
    "id": "TL2OL31k-6ZZ"
   },
   "id": "TL2OL31k-6ZZ"
  },
  {
   "cell_type": "code",
   "source": [
    "import matplotlib.pyplot as plt\n",
    "%matplotlib inline\n",
    "\n",
    "# helper function to un-normalize and display an image\n",
    "def imshow(img):\n",
    "    img = img / 2 + 0.5  # unnormalize\n",
    "    plt.imshow(np.transpose(img, (1, 2, 0)))  # convert from Tensor image"
   ],
   "metadata": {
    "id": "MskYyfkeVnzM",
    "ExecuteTime": {
     "end_time": "2023-09-12T18:10:31.744299800Z",
     "start_time": "2023-09-12T18:10:31.740157100Z"
    }
   },
   "id": "MskYyfkeVnzM",
   "execution_count": 27,
   "outputs": []
  },
  {
   "cell_type": "code",
   "source": [
    "# obtain one batch of training images\n",
    "dataiter = iter(train_loader)\n",
    "images, labels = next(dataiter)\n",
    "images = images.numpy() # convert images to numpy for display\n",
    "\n",
    "# plot the images in the batch, along with the corresponding labels\n",
    "fig = plt.figure(figsize=(25, 4))\n",
    "# display 20 images\n",
    "for idx in np.arange(10):\n",
    "    ax = fig.add_subplot(2, int(20/2), idx+1, xticks=[], yticks=[])\n",
    "    image = images[idx]\n",
    "    image = image - np.amin(image)\n",
    "    image = image / np.amax(image)\n",
    "    imshow(image)\n",
    "    ax.set_title(classes[labels[idx]])"
   ],
   "metadata": {
    "colab": {
     "base_uri": "https://localhost:8080/",
     "height": 343
    },
    "id": "fURI0qHLV4tP",
    "outputId": "a94ac71d-50fb-4be2-8aa6-6ffb6bd3565a",
    "ExecuteTime": {
     "end_time": "2023-09-12T18:10:32.049111100Z",
     "start_time": "2023-09-12T18:10:31.743302600Z"
    }
   },
   "id": "fURI0qHLV4tP",
   "execution_count": 28,
   "outputs": [
    {
     "data": {
      "text/plain": "<Figure size 2500x400 with 10 Axes>",
      "image/png": "[encoded data removed]"
     },
     "metadata": {},
     "output_type": "display_data"
    }
   ]
  },
  {
   "cell_type": "markdown",
   "source": [
    "### Test for CUDA\n",
    "\n",
    "Make sure to install the correct CUDA version and packages, see: https://pytorch.org/get-started/locally/"
   ],
   "metadata": {
    "id": "IUVI5FlnygxS"
   },
   "id": "IUVI5FlnygxS"
  },
  {
   "cell_type": "code",
   "source": [
    "# check if CUDA is available\n",
    "device = 'cuda' if torch.cuda.is_available() else 'cpu'\n",
    "print(f'Using {device}')"
   ],
   "metadata": {
    "colab": {
     "base_uri": "https://localhost:8080/"
    },
    "id": "J4o4lrSAybBi",
    "outputId": "48b011de-7972-40d0-951d-971c4d0a43e9",
    "ExecuteTime": {
     "end_time": "2023-09-12T18:10:34.684847Z",
     "start_time": "2023-09-12T18:10:34.668383400Z"
    }
   },
   "id": "J4o4lrSAybBi",
   "execution_count": 29,
   "outputs": [
    {
     "name": "stdout",
     "output_type": "stream",
     "text": [
      "Using cuda\n"
     ]
    }
   ]
  },
  {
   "cell_type": "markdown",
   "source": [
    "### Train the Network\n",
    "\n",
    "Remember to look at how the training and validation loss decreases over time; if the validation loss ever increases it indicates possible overfitting."
   ],
   "metadata": {
    "id": "brdgD_8TUapl"
   },
   "id": "brdgD_8TUapl"
  },
  {
   "cell_type": "code",
   "source": [
    "# Define the network: ResNet\n",
    "net = GoogLeNet()\n",
    "net.to(device)\n",
    "\n",
    "# specify loss function\n",
    "criterion = torch.nn.CrossEntropyLoss()\n",
    "\n",
    "# Optimizer and momentum\n",
    "optimizer = torch.optim.Adam(net.parameters(), lr=0.001)\n",
    "\n",
    "model = net\n",
    "train_on_gpu = torch.cuda.is_available()\n",
    "\n",
    "print(f\"Train on GPU: {train_on_gpu}\")"
   ],
   "metadata": {
    "colab": {
     "base_uri": "https://localhost:8080/"
    },
    "id": "TWzZDZRiWNMd",
    "outputId": "29a4f290-7f49-47b7-ad18-6ecd8f48d229",
    "ExecuteTime": {
     "end_time": "2023-09-12T18:10:36.083110800Z",
     "start_time": "2023-09-12T18:10:36.004103600Z"
    }
   },
   "id": "TWzZDZRiWNMd",
   "execution_count": 30,
   "outputs": [
    {
     "name": "stdout",
     "output_type": "stream",
     "text": [
      "Train on GPU: True\n"
     ]
    }
   ]
  },
  {
   "cell_type": "code",
   "execution_count": 31,
   "outputs": [
    {
     "name": "stdout",
     "output_type": "stream",
     "text": [
      "Epoch: 1 \tTraining Loss: 1.197483 \tValidation Loss: 0.314620\n",
      "Validation loss decreased (inf --> 0.314620).  Saving model ...\n",
      "Epoch: 2 \tTraining Loss: 1.030003 \tValidation Loss: 0.309809\n",
      "Validation loss decreased (0.314620 --> 0.309809).  Saving model ...\n",
      "Epoch: 3 \tTraining Loss: 1.016754 \tValidation Loss: 0.285154\n",
      "Validation loss decreased (0.309809 --> 0.285154).  Saving model ...\n",
      "Epoch: 4 \tTraining Loss: 0.996829 \tValidation Loss: 0.297254\n",
      "Epoch: 5 \tTraining Loss: 0.985902 \tValidation Loss: 0.299301\n",
      "Epoch: 6 \tTraining Loss: 0.989274 \tValidation Loss: 0.323430\n",
      "Epoch: 7 \tTraining Loss: 0.956798 \tValidation Loss: 0.287600\n",
      "Epoch: 8 \tTraining Loss: 0.947194 \tValidation Loss: 0.276492\n",
      "Validation loss decreased (0.285154 --> 0.276492).  Saving model ...\n",
      "Epoch: 9 \tTraining Loss: 0.907363 \tValidation Loss: 0.283820\n",
      "Epoch: 10 \tTraining Loss: 0.927346 \tValidation Loss: 0.346632\n",
      "Epoch: 11 \tTraining Loss: 0.865072 \tValidation Loss: 0.312102\n",
      "Epoch: 12 \tTraining Loss: 0.863146 \tValidation Loss: 0.310765\n",
      "Epoch: 13 \tTraining Loss: 0.920931 \tValidation Loss: 0.297476\n",
      "Epoch: 14 \tTraining Loss: 0.863394 \tValidation Loss: 0.288470\n",
      "Epoch: 15 \tTraining Loss: 0.830905 \tValidation Loss: 0.306659\n",
      "Epoch: 16 \tTraining Loss: 0.798449 \tValidation Loss: 0.250930\n",
      "Validation loss decreased (0.276492 --> 0.250930).  Saving model ...\n",
      "Epoch: 17 \tTraining Loss: 0.756831 \tValidation Loss: 0.461007\n",
      "Epoch: 18 \tTraining Loss: 0.828220 \tValidation Loss: 0.298931\n",
      "Epoch: 19 \tTraining Loss: 0.802092 \tValidation Loss: 0.240279\n",
      "Validation loss decreased (0.250930 --> 0.240279).  Saving model ...\n",
      "Epoch: 20 \tTraining Loss: 0.737603 \tValidation Loss: 0.395624\n",
      "Epoch: 21 \tTraining Loss: 0.797153 \tValidation Loss: 0.275454\n",
      "Epoch: 22 \tTraining Loss: 0.709827 \tValidation Loss: 0.261801\n",
      "Epoch: 23 \tTraining Loss: 0.698750 \tValidation Loss: 0.199746\n",
      "Validation loss decreased (0.240279 --> 0.199746).  Saving model ...\n",
      "Epoch: 24 \tTraining Loss: 0.713664 \tValidation Loss: 0.508965\n",
      "Epoch: 25 \tTraining Loss: 0.694535 \tValidation Loss: 0.335123\n",
      "Epoch: 26 \tTraining Loss: 0.621442 \tValidation Loss: 0.245325\n",
      "Epoch: 27 \tTraining Loss: 0.614337 \tValidation Loss: 0.221048\n",
      "Epoch: 28 \tTraining Loss: 0.733988 \tValidation Loss: 0.240426\n",
      "Epoch: 29 \tTraining Loss: 0.658462 \tValidation Loss: 0.213440\n",
      "Epoch: 30 \tTraining Loss: 0.570003 \tValidation Loss: 0.286670\n",
      "Epoch: 31 \tTraining Loss: 0.623315 \tValidation Loss: 0.286536\n",
      "Epoch: 32 \tTraining Loss: 0.620475 \tValidation Loss: 0.213101\n",
      "Epoch: 33 \tTraining Loss: 0.563119 \tValidation Loss: 0.264345\n",
      "Epoch: 34 \tTraining Loss: 0.553585 \tValidation Loss: 0.198978\n",
      "Validation loss decreased (0.199746 --> 0.198978).  Saving model ...\n",
      "Epoch: 35 \tTraining Loss: 0.590673 \tValidation Loss: 0.194751\n",
      "Validation loss decreased (0.198978 --> 0.194751).  Saving model ...\n",
      "Epoch: 36 \tTraining Loss: 0.528697 \tValidation Loss: 0.259627\n",
      "Epoch: 37 \tTraining Loss: 0.518423 \tValidation Loss: 0.196598\n",
      "Epoch: 38 \tTraining Loss: 0.480220 \tValidation Loss: 0.186170\n",
      "Validation loss decreased (0.194751 --> 0.186170).  Saving model ...\n",
      "Epoch: 39 \tTraining Loss: 0.445306 \tValidation Loss: 0.286078\n",
      "Epoch: 40 \tTraining Loss: 0.509910 \tValidation Loss: 0.189916\n",
      "Epoch: 41 \tTraining Loss: 0.487583 \tValidation Loss: 0.289612\n",
      "Epoch: 42 \tTraining Loss: 0.514185 \tValidation Loss: 0.222532\n",
      "Epoch: 43 \tTraining Loss: 0.432446 \tValidation Loss: 0.253850\n",
      "Epoch: 44 \tTraining Loss: 0.381163 \tValidation Loss: 0.183875\n",
      "Validation loss decreased (0.186170 --> 0.183875).  Saving model ...\n",
      "Epoch: 45 \tTraining Loss: 0.366280 \tValidation Loss: 0.279037\n",
      "Epoch: 46 \tTraining Loss: 0.408976 \tValidation Loss: 0.235445\n",
      "Epoch: 47 \tTraining Loss: 0.328050 \tValidation Loss: 0.169766\n",
      "Validation loss decreased (0.183875 --> 0.169766).  Saving model ...\n",
      "Epoch: 48 \tTraining Loss: 0.347869 \tValidation Loss: 0.192518\n",
      "Epoch: 49 \tTraining Loss: 0.314717 \tValidation Loss: 0.207899\n",
      "Epoch: 50 \tTraining Loss: 0.347925 \tValidation Loss: 0.254087\n",
      "Epoch: 51 \tTraining Loss: 0.329057 \tValidation Loss: 0.192598\n",
      "Epoch: 52 \tTraining Loss: 0.265081 \tValidation Loss: 0.176534\n",
      "Epoch: 53 \tTraining Loss: 0.314679 \tValidation Loss: 0.181984\n",
      "Epoch: 54 \tTraining Loss: 0.285769 \tValidation Loss: 0.166747\n",
      "Validation loss decreased (0.169766 --> 0.166747).  Saving model ...\n",
      "Epoch: 55 \tTraining Loss: 0.306814 \tValidation Loss: 0.178389\n",
      "Epoch: 56 \tTraining Loss: 0.303497 \tValidation Loss: 0.213371\n",
      "Epoch: 57 \tTraining Loss: 0.242652 \tValidation Loss: 0.190017\n",
      "Epoch: 58 \tTraining Loss: 0.209524 \tValidation Loss: 0.170207\n",
      "Epoch: 59 \tTraining Loss: 0.216916 \tValidation Loss: 0.190602\n",
      "Epoch: 60 \tTraining Loss: 0.244848 \tValidation Loss: 0.165441\n",
      "Validation loss decreased (0.166747 --> 0.165441).  Saving model ...\n",
      "Epoch: 61 \tTraining Loss: 0.188335 \tValidation Loss: 0.193367\n",
      "Epoch: 62 \tTraining Loss: 0.226585 \tValidation Loss: 0.213445\n",
      "Epoch: 63 \tTraining Loss: 0.198184 \tValidation Loss: 0.162772\n",
      "Validation loss decreased (0.165441 --> 0.162772).  Saving model ...\n",
      "Epoch: 64 \tTraining Loss: 0.234133 \tValidation Loss: 0.263819\n",
      "Epoch: 65 \tTraining Loss: 0.216836 \tValidation Loss: 0.262718\n",
      "Epoch: 66 \tTraining Loss: 0.198641 \tValidation Loss: 0.152687\n",
      "Validation loss decreased (0.162772 --> 0.152687).  Saving model ...\n",
      "Epoch: 67 \tTraining Loss: 0.164378 \tValidation Loss: 0.199721\n",
      "Epoch: 68 \tTraining Loss: 0.162732 \tValidation Loss: 0.245910\n",
      "Epoch: 69 \tTraining Loss: 0.179142 \tValidation Loss: 0.225030\n",
      "Epoch: 70 \tTraining Loss: 0.125915 \tValidation Loss: 0.150567\n",
      "Validation loss decreased (0.152687 --> 0.150567).  Saving model ...\n",
      "Epoch: 71 \tTraining Loss: 0.176178 \tValidation Loss: 0.186684\n",
      "Epoch: 72 \tTraining Loss: 0.178967 \tValidation Loss: 0.186339\n",
      "Epoch: 73 \tTraining Loss: 0.191130 \tValidation Loss: 0.174632\n",
      "Epoch: 74 \tTraining Loss: 0.179988 \tValidation Loss: 0.191129\n",
      "Epoch: 75 \tTraining Loss: 0.120177 \tValidation Loss: 0.184960\n",
      "Epoch: 76 \tTraining Loss: 0.133158 \tValidation Loss: 0.195802\n",
      "Epoch: 77 \tTraining Loss: 0.149351 \tValidation Loss: 0.163818\n",
      "Epoch: 78 \tTraining Loss: 0.136606 \tValidation Loss: 0.227661\n",
      "Epoch: 79 \tTraining Loss: 0.126541 \tValidation Loss: 0.195778\n",
      "Epoch: 80 \tTraining Loss: 0.208726 \tValidation Loss: 0.203515\n",
      "Epoch: 81 \tTraining Loss: 0.131832 \tValidation Loss: 0.275110\n",
      "Epoch: 82 \tTraining Loss: 0.134925 \tValidation Loss: 0.164504\n",
      "Epoch: 83 \tTraining Loss: 0.108430 \tValidation Loss: 0.165696\n",
      "Epoch: 84 \tTraining Loss: 0.107476 \tValidation Loss: 0.182887\n",
      "Epoch: 85 \tTraining Loss: 0.084206 \tValidation Loss: 0.242674\n",
      "Epoch: 86 \tTraining Loss: 0.100364 \tValidation Loss: 0.198575\n",
      "Epoch: 87 \tTraining Loss: 0.064222 \tValidation Loss: 0.175150\n",
      "Epoch: 88 \tTraining Loss: 0.124022 \tValidation Loss: 0.245550\n",
      "Epoch: 89 \tTraining Loss: 0.108775 \tValidation Loss: 0.173112\n",
      "Epoch: 90 \tTraining Loss: 0.116921 \tValidation Loss: 0.170756\n",
      "Epoch: 91 \tTraining Loss: 0.079888 \tValidation Loss: 0.228515\n",
      "Epoch: 92 \tTraining Loss: 0.109169 \tValidation Loss: 0.186063\n",
      "Epoch: 93 \tTraining Loss: 0.088596 \tValidation Loss: 0.174683\n",
      "Epoch: 94 \tTraining Loss: 0.086816 \tValidation Loss: 0.177710\n",
      "Epoch: 95 \tTraining Loss: 0.072222 \tValidation Loss: 0.214352\n",
      "Epoch: 96 \tTraining Loss: 0.088907 \tValidation Loss: 0.178587\n",
      "Epoch: 97 \tTraining Loss: 0.068404 \tValidation Loss: 0.160640\n",
      "Epoch: 98 \tTraining Loss: 0.073311 \tValidation Loss: 0.220199\n",
      "Epoch: 99 \tTraining Loss: 0.075362 \tValidation Loss: 0.163745\n",
      "Epoch: 100 \tTraining Loss: 0.097523 \tValidation Loss: 0.180311\n"
     ]
    }
   ],
   "source": [
    "# number of epochs to train the model\n",
    "n_epochs = 100 # you may increase this number to train a final model\n",
    "\n",
    "valid_loss_min = np.Inf # track change in validation loss\n",
    "\n",
    "for epoch in range(1, n_epochs+1):\n",
    "\n",
    "    # keep track of training and validation loss\n",
    "    train_loss = 0.0\n",
    "    valid_loss = 0.0\n",
    "\n",
    "    ###################\n",
    "    # train the model #\n",
    "    ###################\n",
    "    model.train()\n",
    "    for data, target in train_loader:\n",
    "        # move tensors to GPU if CUDA is available\n",
    "        if train_on_gpu:\n",
    "            data, target = data.cuda(), target.cuda()\n",
    "        # clear the gradients of all optimized variables\n",
    "        optimizer.zero_grad()\n",
    "        # forward pass: compute predicted outputs by passing inputs to the model\n",
    "        output = model(data)\n",
    "        # calculate the batch loss\n",
    "        loss = criterion(output, target)\n",
    "        # backward pass: compute gradient of the loss with respect to model parameters\n",
    "        loss.backward()\n",
    "        # perform a single optimization step (parameter update)\n",
    "        optimizer.step()\n",
    "        # update training loss\n",
    "        train_loss += loss.item()*data.size(0)\n",
    "\n",
    "    ######################\n",
    "    # validate the model #\n",
    "    ######################\n",
    "    model.eval()\n",
    "    for data, target in valid_loader:\n",
    "        # move tensors to GPU if CUDA is available\n",
    "        if train_on_gpu:\n",
    "            data, target = data.cuda(), target.cuda()\n",
    "        # forward pass: compute predicted outputs by passing inputs to the model\n",
    "        output = model(data)\n",
    "        # calculate the batch loss\n",
    "        loss = criterion(output, target)\n",
    "        # update average validation loss\n",
    "        valid_loss += loss.item()*data.size(0)\n",
    "\n",
    "    # calculate average losses\n",
    "    train_loss = train_loss/len(train_loader.dataset)\n",
    "    valid_loss = valid_loss/len(valid_loader.dataset)\n",
    "\n",
    "    # print training/validation statistics\n",
    "    print('Epoch: {} \\tTraining Loss: {:.6f} \\tValidation Loss: {:.6f}'.format(\n",
    "        epoch, train_loss, valid_loss))\n",
    "\n",
    "    # save model if validation loss has decreased\n",
    "    if valid_loss <= valid_loss_min:\n",
    "        print('Validation loss decreased ({:.6f} --> {:.6f}).  Saving model ...'.format(\n",
    "        valid_loss_min,\n",
    "        valid_loss))\n",
    "        torch.save(model.state_dict(), 'model_cifar.pt')\n",
    "        valid_loss_min = valid_loss"
   ],
   "metadata": {
    "id": "b6c26a9ebbc10e99",
    "colab": {
     "base_uri": "https://localhost:8080/"
    },
    "outputId": "a7005836-3afa-43c5-a6ea-2a45c1c6e056",
    "ExecuteTime": {
     "end_time": "2023-09-12T18:13:00.004676300Z",
     "start_time": "2023-09-12T18:10:36.525206Z"
    }
   },
   "id": "b6c26a9ebbc10e99"
  },
  {
   "cell_type": "markdown",
   "source": [
    "###  Load the Model with the Lowest Validation Loss\n"
   ],
   "metadata": {
    "id": "BlbneuXNUc0g"
   },
   "id": "BlbneuXNUc0g"
  },
  {
   "cell_type": "code",
   "source": [
    "model.load_state_dict(torch.load('model_cifar.pt'))\n"
   ],
   "metadata": {
    "colab": {
     "base_uri": "https://localhost:8080/"
    },
    "id": "6X994z2wUPDE",
    "outputId": "220039f5-98c7-447b-adab-528b659922cf",
    "ExecuteTime": {
     "end_time": "2023-09-12T18:13:16.496128400Z",
     "start_time": "2023-09-12T18:13:16.403683Z"
    }
   },
   "id": "6X994z2wUPDE",
   "execution_count": 32,
   "outputs": [
    {
     "data": {
      "text/plain": "<All keys matched successfully>"
     },
     "execution_count": 32,
     "metadata": {},
     "output_type": "execute_result"
    }
   ]
  },
  {
   "cell_type": "markdown",
   "source": [
    "---\n",
    "## Test the Trained Network\n",
    "\n",
    "Test your trained model on previously unseen data! A \"good\" result will be a CNN that gets around 70% (or more, try your best!) accuracy on these test images."
   ],
   "metadata": {
    "id": "SgHJ6d-QUeIv"
   },
   "id": "SgHJ6d-QUeIv"
  },
  {
   "cell_type": "code",
   "source": [
    "# track test loss\n",
    "test_loss = 0.0\n",
    "class_correct = list(0. for i in range(num_classes))\n",
    "class_total = list(0. for i in range(num_classes))\n",
    "\n",
    "model.eval()\n",
    "# iterate over test data\n",
    "for data, target in test_loader:\n",
    "    # move tensors to GPU if CUDA is available\n",
    "    if train_on_gpu:\n",
    "        data, target = data.cuda(), target.cuda()\n",
    "    # forward pass: compute predicted outputs by passing inputs to the model\n",
    "    output = model(data)\n",
    "    # calculate the batch loss\n",
    "    loss = criterion(output, target)\n",
    "    # update test loss\n",
    "    test_loss += loss.item()*data.size(0)\n",
    "    # convert output probabilities to predicted class\n",
    "    _, pred = torch.max(output, 1)\n",
    "    # compare predictions to true label\n",
    "    correct_tensor = pred.eq(target.data.view_as(pred))\n",
    "    correct = np.squeeze(correct_tensor.numpy()) if not train_on_gpu else np.squeeze(correct_tensor.cpu().numpy())\n",
    "    # calculate test accuracy for each object class\n",
    "    for i in range(batch_size):\n",
    "        label = target.data[i]\n",
    "        class_correct[label] += correct[i].item()\n",
    "        class_total[label] += 1\n",
    "\n",
    "# average test loss\n",
    "test_loss = test_loss/len(test_loader.dataset)\n",
    "print('Test Loss: {:.6f}\\n'.format(test_loss))\n",
    "\n",
    "for i in range(num_classes):\n",
    "    if class_total[i] > 0:\n",
    "        print('Test Accuracy of %5s: %2d%% (%2d/%2d)' % (\n",
    "            classes[i], 100 * class_correct[i] / class_total[i],\n",
    "            np.sum(class_correct[i]), np.sum(class_total[i])))\n",
    "    else:\n",
    "        print('Test Accuracy of %5s: N/A (no training examples)' % (classes[i]))\n",
    "\n",
    "print('\\nTest Accuracy (Overall): %2d%% (%2d/%2d)' % (\n",
    "    100. * np.sum(class_correct) / np.sum(class_total),\n",
    "    np.sum(class_correct), np.sum(class_total)))"
   ],
   "metadata": {
    "colab": {
     "base_uri": "https://localhost:8080/"
    },
    "id": "qauYOZJdUSAw",
    "outputId": "0d6ba2d7-ef12-4e0f-ba2a-ac7a644ea878",
    "ExecuteTime": {
     "end_time": "2023-09-12T18:13:17.768026300Z",
     "start_time": "2023-09-12T18:13:17.518988500Z"
    }
   },
   "id": "qauYOZJdUSAw",
   "execution_count": 33,
   "outputs": [
    {
     "name": "stdout",
     "output_type": "stream",
     "text": [
      "Test Loss: 0.120767\n",
      "\n",
      "Test Accuracy of Queen: 73% (22/30)\n",
      "Test Accuracy of  Rook: 86% (26/30)\n",
      "Test Accuracy of bishop: 76% (13/17)\n",
      "Test Accuracy of knight: 91% (31/34)\n",
      "Test Accuracy of  pawn: 66% ( 6/ 9)\n",
      "\n",
      "Test Accuracy (Overall): 81% (98/120)\n"
     ]
    }
   ]
  },
  {
   "cell_type": "code",
   "source": [
    "# obtain one batch of test images\n",
    "dataiter = iter(test_loader)\n",
    "images, labels = next(dataiter)\n",
    "images.numpy()\n",
    "\n",
    "# move model inputs to cuda, if GPU available\n",
    "if train_on_gpu:\n",
    "    images = images.cuda()\n",
    "\n",
    "# get sample outputs\n",
    "output = model(images)\n",
    "# convert output probabilities to predicted class\n",
    "_, preds_tensor = torch.max(output, 1)\n",
    "preds = np.squeeze(preds_tensor.numpy()) if not train_on_gpu else np.squeeze(preds_tensor.cpu().numpy())\n",
    "\n",
    "# plot the images in the batch, along with predicted and true labels\n",
    "fig = plt.figure(figsize=(25, 4))\n",
    "\n",
    "amount_images = 20\n",
    "image_per_row = 10\n",
    "for idx in np.arange(amount_images):\n",
    "    ax = fig.add_subplot(int(amount_images / image_per_row), image_per_row, idx+1, xticks=[], yticks=[])\n",
    "    image = images.cpu()[idx]\n",
    "    image = image - torch.amin(image)\n",
    "    image = image / torch.amax(image)\n",
    "    imshow(image)\n",
    "    ax.set_title(\"{} ({})\".format(classes[preds[idx]], classes[labels[idx]]),\n",
    "                 color=(\"green\" if preds[idx]==labels[idx].item() else \"red\"))"
   ],
   "metadata": {
    "colab": {
     "base_uri": "https://localhost:8080/",
     "height": 343
    },
    "id": "vssZYpcJbaNP",
    "outputId": "7b4c9401-34c6-47a2-e5b7-efae60b6dd6b",
    "ExecuteTime": {
     "end_time": "2023-09-12T18:13:25.374224100Z",
     "start_time": "2023-09-12T18:13:24.553431800Z"
    }
   },
   "id": "vssZYpcJbaNP",
   "execution_count": 34,
   "outputs": [
    {
     "data": {
      "text/plain": "<Figure size 2500x400 with 20 Axes>",
      "image/png": "[encoded data removed]"
     },
     "metadata": {},
     "output_type": "display_data"
    }
   ]
  },
  {
   "cell_type": "code",
   "execution_count": null,
   "outputs": [],
   "source": [],
   "metadata": {
    "collapsed": false
   },
   "id": "ba3940d4af4ca4db"
  }
 ],
 "metadata": {
  "kernelspec": {
   "name": "python3",
   "language": "python",
   "display_name": "Python 3 (ipykernel)"
  },
  "language_info": {
   "codemirror_mode": {
    "name": "ipython",
    "version": 2
   },
   "file_extension": ".py",
   "mimetype": "text/x-python",
   "name": "python",
   "nbconvert_exporter": "python",
   "pygments_lexer": "ipython2",
   "version": "2.7.6"
  },
  "colab": {
   "provenance": [],
   "machine_shape": "hm",
   "gpuType": "T4"
  },
  "accelerator": "GPU"
 },
 "nbformat": 4,
 "nbformat_minor": 5
}
